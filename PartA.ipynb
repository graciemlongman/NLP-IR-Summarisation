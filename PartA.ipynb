{
  "cells": [
    {
      "cell_type": "markdown",
      "metadata": {
        "id": "view-in-github",
        "colab_type": "text"
      },
      "source": [
        "<a href=\"https://colab.research.google.com/github/graciemlongman/NLP-IR-Summarisation/blob/main/PartA.ipynb\" target=\"_parent\"><img src=\"https://colab.research.google.com/assets/colab-badge.svg\" alt=\"Open In Colab\"/></a>"
      ]
    },
    {
      "cell_type": "markdown",
      "metadata": {
        "id": "K8kJ_0md_sfm"
      },
      "source": [
        "#### Gracie Longman F434523"
      ]
    },
    {
      "cell_type": "markdown",
      "metadata": {
        "id": "G_1FXAijxuUS"
      },
      "source": [
        "# Part A"
      ]
    },
    {
      "cell_type": "code",
      "execution_count": null,
      "metadata": {
        "colab": {
          "base_uri": "https://localhost:8080/"
        },
        "id": "BTq_c-1dxlyO",
        "outputId": "d57912b3-3ade-45fb-8d8d-36504d7c9df8"
      },
      "outputs": [
        {
          "output_type": "stream",
          "name": "stdout",
          "text": [
            "Drive already mounted at /content/drive; to attempt to forcibly remount, call drive.mount(\"/content/drive\", force_remount=True).\n"
          ]
        }
      ],
      "source": [
        "from google.colab import drive\n",
        "drive.mount(\"/content/drive\")"
      ]
    },
    {
      "cell_type": "markdown",
      "metadata": {
        "id": "eHNDwx0Nf1Z2"
      },
      "source": [
        "# Question 1"
      ]
    },
    {
      "cell_type": "code",
      "execution_count": null,
      "metadata": {
        "colab": {
          "base_uri": "https://localhost:8080/"
        },
        "id": "baCwBvHmCABP",
        "outputId": "208516e0-0eef-40a2-817f-3c70b20651a9"
      },
      "outputs": [
        {
          "output_type": "stream",
          "name": "stderr",
          "text": [
            "[nltk_data] Downloading collection 'popular'\n",
            "[nltk_data]    | \n",
            "[nltk_data]    | Downloading package cmudict to /root/nltk_data...\n",
            "[nltk_data]    |   Package cmudict is already up-to-date!\n",
            "[nltk_data]    | Downloading package gazetteers to /root/nltk_data...\n",
            "[nltk_data]    |   Package gazetteers is already up-to-date!\n",
            "[nltk_data]    | Downloading package genesis to /root/nltk_data...\n",
            "[nltk_data]    |   Package genesis is already up-to-date!\n",
            "[nltk_data]    | Downloading package gutenberg to /root/nltk_data...\n",
            "[nltk_data]    |   Package gutenberg is already up-to-date!\n",
            "[nltk_data]    | Downloading package inaugural to /root/nltk_data...\n",
            "[nltk_data]    |   Package inaugural is already up-to-date!\n",
            "[nltk_data]    | Downloading package movie_reviews to\n",
            "[nltk_data]    |     /root/nltk_data...\n",
            "[nltk_data]    |   Package movie_reviews is already up-to-date!\n",
            "[nltk_data]    | Downloading package names to /root/nltk_data...\n",
            "[nltk_data]    |   Package names is already up-to-date!\n",
            "[nltk_data]    | Downloading package shakespeare to /root/nltk_data...\n",
            "[nltk_data]    |   Package shakespeare is already up-to-date!\n",
            "[nltk_data]    | Downloading package stopwords to /root/nltk_data...\n",
            "[nltk_data]    |   Package stopwords is already up-to-date!\n",
            "[nltk_data]    | Downloading package treebank to /root/nltk_data...\n",
            "[nltk_data]    |   Package treebank is already up-to-date!\n",
            "[nltk_data]    | Downloading package twitter_samples to\n",
            "[nltk_data]    |     /root/nltk_data...\n",
            "[nltk_data]    |   Package twitter_samples is already up-to-date!\n",
            "[nltk_data]    | Downloading package omw to /root/nltk_data...\n",
            "[nltk_data]    |   Package omw is already up-to-date!\n",
            "[nltk_data]    | Downloading package omw-1.4 to /root/nltk_data...\n",
            "[nltk_data]    |   Package omw-1.4 is already up-to-date!\n",
            "[nltk_data]    | Downloading package wordnet to /root/nltk_data...\n",
            "[nltk_data]    |   Package wordnet is already up-to-date!\n",
            "[nltk_data]    | Downloading package wordnet2021 to /root/nltk_data...\n",
            "[nltk_data]    |   Package wordnet2021 is already up-to-date!\n",
            "[nltk_data]    | Downloading package wordnet31 to /root/nltk_data...\n",
            "[nltk_data]    |   Package wordnet31 is already up-to-date!\n",
            "[nltk_data]    | Downloading package wordnet_ic to /root/nltk_data...\n",
            "[nltk_data]    |   Package wordnet_ic is already up-to-date!\n",
            "[nltk_data]    | Downloading package words to /root/nltk_data...\n",
            "[nltk_data]    |   Package words is already up-to-date!\n",
            "[nltk_data]    | Downloading package maxent_ne_chunker to\n",
            "[nltk_data]    |     /root/nltk_data...\n",
            "[nltk_data]    |   Package maxent_ne_chunker is already up-to-date!\n",
            "[nltk_data]    | Downloading package punkt to /root/nltk_data...\n",
            "[nltk_data]    |   Package punkt is already up-to-date!\n",
            "[nltk_data]    | Downloading package snowball_data to\n",
            "[nltk_data]    |     /root/nltk_data...\n",
            "[nltk_data]    |   Package snowball_data is already up-to-date!\n",
            "[nltk_data]    | Downloading package averaged_perceptron_tagger to\n",
            "[nltk_data]    |     /root/nltk_data...\n",
            "[nltk_data]    |   Package averaged_perceptron_tagger is already up-\n",
            "[nltk_data]    |       to-date!\n",
            "[nltk_data]    | \n",
            "[nltk_data]  Done downloading collection popular\n",
            "[nltk_data] Downloading package punkt to /root/nltk_data...\n",
            "[nltk_data]   Package punkt is already up-to-date!\n",
            "[nltk_data] Downloading package punkt_tab to /root/nltk_data...\n",
            "[nltk_data]   Package punkt_tab is already up-to-date!\n"
          ]
        },
        {
          "output_type": "execute_result",
          "data": {
            "text/plain": [
              "True"
            ]
          },
          "metadata": {},
          "execution_count": 27
        }
      ],
      "source": [
        "# Downloads and imports for question 1\n",
        "import string\n",
        "import pandas as pd\n",
        "import nltk\n",
        "from textblob import TextBlob\n",
        "import re\n",
        "from nltk.tokenize import word_tokenize\n",
        "from nltk.stem.porter import PorterStemmer\n",
        "from nltk.corpus import stopwords\n",
        "nltk.download('popular')\n",
        "nltk.download('punkt')\n",
        "nltk.download('punkt_tab')"
      ]
    },
    {
      "cell_type": "code",
      "execution_count": null,
      "metadata": {
        "colab": {
          "base_uri": "https://localhost:8080/"
        },
        "id": "GDUCf9myx6Ud",
        "outputId": "a85ca0bc-6188-47af-f757-7d2d205c0af7"
      },
      "outputs": [
        {
          "output_type": "stream",
          "name": "stdout",
          "text": [
            "['32767', '15959', '43515', '30720', '1816', '265', '54548', '28250', '30773', '11856', '2185', '36727', '11087', '535', '32496', '44534', '48216', '50609', '50640', '50650', '27858', '21185', '22946', '9050', '44591', '24452', '12483', '56342', '33009', '37896', '51030', '13559', '52663', '39606', '2520', '33813', '42026', '51396', '45548', '45856', '33746', '3865', '42077', '53750', '39496', '33858', '17442', '47910', '58595', '23979', '39620', '3978', '34483', '48781', '6421', '53693', '28474', '49855', '10209', '49720', '25080', '43839', '40749', '6522', '34529', '19647', '45289', '33620', '14499', '1185', '56679', '50467', '27793', '34266', '48772', '30926', '42604', '11269', '9441', '18988', '19548', '25378', '10535', '57009', '45203', '6135', '44135', '20090', '8110', '32674', '4375', '41889', '51907', '38305', '22058', '10612', '17166', '36164', '58481', '26246', '2033', '48779', '34523', '9726', '56494', '49525', '45278', '35694', '41876', '17309', '11135', '17273', '11247', '57123', '25299', '55017', '7432', '2114', '40871', '33251', '17304', '50019', '27679', '6158', '22408', '29722', '36677', '2780', '17944', '19944', '31657', '52867', '49216', '40373', '28648', '37486', '30640', '2131', '19852', '2134', '36585', '26535', '51474', '21070', '56330', '53660', '44126', '13373', '17607', '41459', '54748', '33571', '45860', '46500', '27474', '43945', '52837', '12358', '41319', '39932', '45146', '50197', '8341', '52375', '209', '28542', '216', '47345', '11356', '33632', '38637', '7110', '6649', '51356', '44358', '36165', '943', '37864', '642', '10642', '37794', '45518', '3494', '735', '10037', '41872', '28543', '53409', '56865', '44489', '44490', '56830', '3']\n",
            "['1', '1', '1', '1', '1', '1', '1', '2', '2', '2', '2', '2', '2', '2', '3', '3', '3', '3', '3', '3', '3', '3', '3', '3', '3', '3', '3', '4', '4', '4', '4', '4', '4', '4', '4', '4', '4', '4', '4', '4', '4', '4', '4', '4', '5', '5', '5', '5', '5', '5', '5', '5', '5', '5', '5', '5', '5', '5', '5', '5', '5', '5', '5', '5', '5', '5', '5', '5', '5', '5', '5', '5', '5', '5', '5', '5', '5', '5', '5', '5', '5', '5', '5', '5', '5', '5', '5', '5', '5', '5', '5', '5', '5', '5', '5', '5', '5', '5', '5', '4', '5', '5', '5', '5', '5', '5', '5', '5', '5', '4', '5', '5', '5', '1', '2', '1', '1', '2', '1', '5', '5', '5', '2', '5', '3', '4', '5', '5', '5', '5', '5', '4', '4', '5', '5', '4', '5', '5', '5', '5', '304', '4', '5', '5', '5', '5', '5', '1', '1', '1', '2', '1', '3', '4', '4', '5', '5', '5', '5', '5', '5', '5', '5', '4', '1', '2', '1', '1', '1', '2', '3', '4', '33', '1', '2', '3', '1', '2', '5', '3', '4', '2', '5', '5', '1', '5', '2', '3', '5', '5', '5', '', '3']\n",
            "[['expect', 'like', 'regular', 'size', 'ring', 'one', 'look', 'like', 'ring', 'toy', 'something', 'funny', 'rings', '5mm', 'ring', 'may', '1mmso', 'ridiculousmartin15', 'itto', 'round', 'diamond', 'voltaire', 'king', 'ask', 'white', 'old'], ['ordered', 'ring', 'stated', 'toe', 'king', 'description', 'ring', 'came', 'quickly', 'not', 'toe', 'ring', 'nt', 'know', 'anyone', 'size', '8', 'toe', 'know', 'anyone', 'please', 'direct', 'seller', 'wedding', 'band', 'toe', 'ring', 'thumb', 'ring', 'sick', 'one'], ['ring', 'beautiful', 'ring', 'first', 'shipment', 'ring', 'scratches', 'diamond', 'missing', '2', 'diamonds', 'shoulder', 'ring', 'returned', 'ring', 'replacement', 'ring', 'second', 'ring', 'even', 'worse', 'clearly', 'visible', 'white', 'scratch', 'right', 'middle', 'black', 'diamond', 'not', 'look', 'great', 'time', '1', 'diamond', 'missing', 'shoulder', 'ring', 'returned', 'refund', 'thanks', 'clot', 'amazon'], ['huge', 'waste', 'money', 'month', 'part', 'holds', 'symbol', 'necklace', 'broke', 'seriously', 'not', 'wasting', 'money', 'low', 'quality', 'item'], ['quality', 'look', 'not', 'anticipated', 'fliesi', 'would', 'not', 'recommend', 'item'], ['quality', 'item', 'not', 'expectationsthe', 'top', 'scratched', 'hinges', 'not', 'line', 'predrilled', 'holes', 'staining', 'inconsistent', 'saw', 'item', 'store', 'would', 'not', 'purchased'], ['hard', 'ca', 'nt', 'wear', 'material', 'hard', 'not', 'easy', 'wear', 'nt', 'like', 'saved', 'money', 'got'], ['wanted', 'know', 'ring', 'like', '2', 'rings', 'one', 'ring', 'beyond', 'gorgeous', 'love'], ['vice', 'ring', 'expensive', 'ring', 'one', 'stone', 'missing', 'not', 'worth', 'returning', 'would', 'pay', 'postage', 'ring', 'cost'], ['wore', 'toe', 'ring', 'one', 'day', 'poof', 'stone', 'gone', 'sits', 'pile', 'broken', 'sterling', 'silver', 'rings', 'things'], ['king', 'way', 'small', 'looks', 'like', 'toy', 'putting', 'would', 'not', 'recommend', 'want', 'nice', '12', 'cart', 'ring'], ['week', 'one', 'jewels', 'fell', 'wing', 'metal', 'already', 'vanishing', 'spend', 'money', 'higher', 'quality', 'item'], ['wanted', 'not', 'favorite', 'piercing', 'mine', 'wear', 'bioplast', 'cut', 'break', 'certain', 'metals'], ['serves', 'purpose', 'seemed', 'image', 'lot', 'prettier', 'sparkling', 'turned', 'wear', 'shirt', 'since', 'not', 'compliment', 'anything', 'wear'], ['ring', 'beautiful', 'ring', 'first', 'shipment', 'ring', 'scratches', 'diamond', 'missing', '2', 'diamonds', 'shoulder', 'ring', 'returned', 'ring', 'replacement', 'ring', 'second', 'ring', 'even', 'worse', 'clearly', 'visible', 'white', 'scratch', 'right', 'middle', 'black', 'diamond', 'not', 'look', 'great', 'time', '1', 'diamond', 'missing', 'shoulder', 'ring', 'returned', 'refund', 'thanks', 'clot', 'amazon'], ['nice', 'small', 'sized', 'ring', 'stick', 'rings', 'different', 'looks'], ['got', 'ring', 'birthday', 'love', 'not', 'imagine', 'woman', 'not', 'adoring', 'ring'], ['first', 'skeptically', 'ring', 'price', 'low', 'nt', 'wear', 'lot', 'gold', 'purchased', 'ring', 'nice', 'gold', 'necklaces', 'wear', 'wanted', 'ring', 'work', 'ring', 'nt', 'look', 'like', '35', 'ring'], ['ring', 'awesome', 'wear', 'ring', 'index', 'finger', 'fits', 'great', 'comfortable', 'ring'], ['not', 'ring', 'beautiful', 'jeweller', 'accommadating', 'ring', 'reach', 'us', 'time', 'appreciate', 'care', 'quick', 'receiving', 'ring', 'thank'], ['love', 'ring', 'not', 'ring', 'would', 'want', 'wear', 'everyday', 'ring', 'claws', 'hold', 'stone', 'sharp', 'get', 'stuck', 'things', 'scratched', 'me'], ['bought', 'ring', 'valentine', 'gift', 'could', 'nt', 'give', 'since', 'hands', 'holding', 'heart', 'symbol', 'would', 'reverse', 'whenever', 'ring', 'spine', '4', 'ring', 'alternating', 'facing', 'direction', 'cut', 'ring', 'kept'], ['ring', 'little', 'small', 'ring', 'finger', 'would', 'better', 'pink', 'ring'], ['ring', 'pretty', 'enough', 'metal', 'ring', 'substantial', 'pushes', 'easily'], ['husband', 'loves', 'thing', 'ring', 'resided', 'due', 'way', 'ring', 'made'], ['ring', 'pretty', 'flexible', 'turned', 'good', 'ordered', 'ring', 'finger', 'size', 'made', 'look', 'better', 'pink', 'ring'], ['definitely', 'help', 'lessen', 'appetite', 'however', 'ears', 'sore', 'wearing', '3', 'hours', 'next', 'days', 'tried', 'wear', 'increase', 'wearing', 'time', 'good', 'pain', 'tolerable', 'may', 'not', 'notice', 'discomfort', 'ears', 'loves', 'swollen', 'stop', 'wearing', '4', 'days'], ['got', '3', 'belly', 'rings', '3', 'tongue', 'rings', '3', 'lip', 'rings', 'fig', 'car', 'stuff', 'got', 'cool', 'love', 'pink', 'peace', 'sign', 'tongue', 'ring', 'complaint', 'got', '2', 'yellow', 'lip', 'rings', 'not', 'much', 'yellow', 'overall', 'happy'], ['similar', 'ring', 'auction', 'site', 'flaw', 'lies', 'middle', 'part', 'ring', 'complete', 'ring', 'cuts', 'flexibility', 'joint', 'ended', 'taking', 'mine', 'silver', 'smith', 'remove', 'back', 'section', 'middle', 'ring', 'really', 'helped', 'flexibility'], ['wish', 'ring', 'wish', 'cut', 'portion', 'went', 'way', 'around', 'ring', 'great', 'comfortable', 'ring'], ['ring', 'shipped', 'accordingly', 'love', 'shipping', 'pace', 'ring', 'beautiful', 'thing', 'nt', 'care', 'line', 'looks', 'like', 'ring', 'may', 'resized', 'including', 'specification', 'included', 'ring', 'met', 'expectations', 'especially', 'beginning', 'ring'], ['husband', 'wears', 'size', '10', 'ring', 'tight', 'new', 'thumb', 'ring', 'guess', 'nt', 'order', 'things', 'online', 'cut', 'ring'], ['told', 'ring', 'comfortable', 'wear', 'quite', 'surprised', 'please', 'see', 'masonic', 'ring', 'titanic'], ['nt', 'even', 'ordered', 'ring', 'read', 'reviews', 'notice', 'picture', '1', 'pictures', '23', 'two', 'different', 'rings', 'going', 'order', 'ring', 'seems', 'ring', 'received', 'andrd', 'ring', 'smaller', 'cross', 'design'], ['picture', 'rings', 'shows', 'blue', 'sapphires', 'disappointed', 'see', 'ring', 'received', 'dark', 'stones', 'appear', 'black', 'ring', 'definitely', 'not', 'advertised'], ['favorite', 'ring', 'also', 'one', 'first', 'rings', 'ever', 'bought', 'new', 'buying', 'peter', 'rings', 'something', 'may', 'help', 'letter', 'rings', 'tend', 'bit', 'bulkier', 'types', 'rings', 'metal', 'softer', 'last', 'liked', 'ring', 'design', 'dead', 'bags', 'snakes', 'catches', 'lot', 'attention'], ['product', 'came', 'fast', 'like', 'amazon', 'explained', 'ring', 'clearly', 'written', 'war', 'thick', 'likebut', 'guess', 'like', 'small', 'rings', 'ring'], ['nice', 'small', 'sized', 'ring', 'stick', 'rings', 'different', 'looks'], ['attractive', 'high', 'quality', 'item', 'young', 'teenager', 'small', 'adult'], ['could', 'see', 'quality', 'work', 'rosary', 'pleased', 'opened', 'container', 'could', 'immediately', 'smell', 'olive', 'wood', 'one', 'thing', 'buyers', 'need', 'aware', 'buying', 'item', 'nt', 'mentioned', 'description', 'holy', 'present', 'compartment', 'rosary', 'opinion', 'adds', 'quality', 'rosary', 'not', 'sure', 'seller', 'nt', 'describe', 'fact', 'looking', 'items', 'seller'], ['love', 'ring', 'complaint', 'metal', 'soft', 'bent', 'point', 'wear', 'anymore', 'still', 'wear', 'necklace', 'love', 'occasion', 'bluish', 'onto', 'figure', 'took', 'less', 'two', 'months', 'almost', 'impossible', 'wear'], ['sparkle', 'pretty', 'dainty', 'must', 'looking', 'for'], ['solidbeautiful', 'ring', 'expecting', 'color', 'picture', 'disappointed', 'barely', 'pink', 'first', 'saw', 'thought', 'lavender', 'still', 'pretty', 'buy', 'design', 'not', 'color'], ['beautiful', 'piece', 'looked', 'long', 'time', 'replace', 'hand', 'given', 'egypt', 'one', 'perfect', 'delicate', 'sturdy', 'lovely', 'look', 'detail', 'pretty', 'elegant', 'wear', 'often'], ['bought', 'two', 'rings', 'fit', 'either', 'side', 'platino', 'princess', 'wedding', 'ring', 'help', 'anchor', 'add', 'ring', 'perfect', 'fit', 'lot', 'compliments', 'new', 'ring'], ['ring', 'perfect', 'say', 'spend', 'thousands', 'nt', 'ring', 'shines', 'perfectly', 'love', 'ring'], ['addition', 'wonderful', 'sending', 'ring', 'ring', 'beautiful', 'daughter', 'thrilled', 'ring', 'thank', 'dorothy'], ['girlfriend', 'especially', 'enjoys', 'ring', 'thickness', 'ring', 'band', 'past', 'similar', 'rings', 'always', 'frustrated', 'flies', 'ring', 'band', 'ring', 'nice', 'solid', 'band'], ['absolutely', 'love', 'ring', 'got', 'engagement', 'ring', 'web', '09', 'ring', 'beautiful', 'unable'], ['love', 'ring', 'flowers', 'go', 'way', 'around', 'ring', 'fits', 'ring', 'finger', 'ever', 'find', 'right', 'nt', 'buy', 'engagement', 'ring', 'use', 'engagement', 'ring', 'not', 'getting', 'debt', 'marriage'], ['ring', 'gorgeous', 'fits', 'right', 'sterling', 'silver', 'celtic', 'rings', 'little', 'worried', 'first', 'size', 'band', 'since', '10', 'wear', '9', 'band', 'wide', 'ring', 'fits', 'perfectly', 'hardly', 'loose', 'even', 'though', 'man', 'ring', 'nt', 'big', 'clung', 'must', 'lovers', 'celtic', 'rings', 'ring', 'also', 'arrived', 'quickly', 'ring', 'bought', 'company', 'would', 'definitely', 'business'], ['ought', 'ring', 'thumb', 'ring', 'everyone', 'notices', 'comments', 'pretty', 'cool', 'looks', 'spin', 'want', 'know', 'got', 'would', 'recommend', 'ring', 'one', 'also', 'come'], ['love', 'ring', 'shines', 'beautiful', 'looks', 'real', 'anyone', 'like', 'buy', 'one', 'ring', 'stones', 'good', 'size', 'friends', 'love', 'ring', 'could', 'pass', 'real', 'diamond', 'love', 'ring', 'worth', 'money', 'better', 'ring', 'bought', 'von', 'silver', 'cubic', 'shine', 'ring', 'ring', 'bought', '3', 'stones', 'worth', 'price', 'anne', 'marie'], ['owned', 'triple', 'roll', 'ring', 'three', 'rings', 'slowly', 'broke', 'purchased', 'far', 'none', 'individual', 'rings', 'broken', 'yet'], ['love', 'rings', 'need', 'pink', 'rings', 'hard', 'find', 'size', '4', 'rings', 'nt', 'children', 'ring', 'nice', 'nice', 'flower', 'ring', 'perfect', 'pink', 'ring', 'me'], ['bought', 'ring', 'old', 'date', 'beautiful', 'ring', 'fair', 'price', 'guy', 'looking', 'save', 'money', 'afford', 'engagement', 'ring', 'definitely', 'get', 'this'], ['ring', 'lovely', 'advertised', 'pink', 'ring', 'actually', 'wear', 'thumb', 'ring'], ['unfortunately', 'small', 'woman', 'ring', 'size', '4', 'almost', 'impossible', 'purchase', 'rings', 'without', 'sized', 'purchased', 'ring', 'would', 'something', 'wear', 'vacation', 'things', 'could', 'otherwise', 'harm', 'expensive', 'rings', 'dont', 'even', 'need', 'expensive', 'rings', 'ring', 'fits', 'looks', 'beautiful'], ['works', 'perfectly', 'rings', 'wider', 'rings', 'narrow', 'wide'], ['ring', 'absolutely', 'stunning', 'beautiful', 'would', 'recommend', 'amethyst', 'ring', 'anyone', 'market', 'reasonably', 'prices', 'amethyst', 'ring'], ['recently', 'lost', 'ring', 'much', 'like', 'one', 'searching', 'high', 'low', 'another', 'ring', 'replace', 'one', 'lost', 'came', 'across', 'ring', 'ring', 'absolutely', 'brilliant', 'ring', 'look', 'shines', 'sparkles', 'like', 'little', 'diamonds', 'love', 'ring', 'would', 'recommend', 'anyone', 'wants', 'ring', 'element', 'adorable', 'time'], ['still', 'wearing', 'pink', 'ring', 'trinity', 'knotfinally', 'pink', 'ring', 'not', 'turn', 'finger', 'green'], ['got', 'not', 'engagement', 'ring', 'much', 'surprise', 'two', 'rings', 'fit', 'together', 'make', '1', 'looked', 'like', 'one', 'ring', 'picture', 'must', 'say', 'beautiful', 'ring', 'always', 'catches', 'peoples', 'attention'], ['love', 'ring', 'suggest', 'every', 'girl', 'ring', 'jewel', 'collection'], ['wife', 'needed', 'ring', 'wear', 'since', 'actual', 'wedding', 'ring', 'lost', 'not', 'expecting', 'one', 'million', 'dollar', 'ring', 'course', 'arrived', 'not', 'turned', 'heads', 'coworkers', 'actually', 'noticed', 'ring', 'ever', 'noticed', 'old', 'ring', 'cubic', 'zirconia', 'looks', 'authentic', 'enough', 'basic', 'scrutiny', 'may', 'never', 'go', 'back', 'diamond', 'ring', 'wedding', 'ring', 'always', 'silver', 'band', 'believe', 'ring', 'truly', 'defines', 'subliminal', 'misconception', 'deserves', 'diamondgreat', 'temporary', 'ring', 'care', 'price', 'perfect', 'choice', 'want', 'turn', 'heads', 'without', 'breaking', 'bank'], ['checked', 'around', 'jewel', 'stores', 'prices', 'could', 'nt', 'find', 'rings', 'could', 'even', 'compare', 'not', 'huge', 'ring', 'definitely', 'not', 'microscopic', 'either', 'bought', 'ring', 'go', 'along', 'solitary', 'engagement', 'ring', 'makes', 'perfect', 'replacement', 'plain', 'wedding', 'band', 'really', 'glad', 'decided', 'go', 'ring', 'even', 'though', 'kind', 'nervous', 'ordering', 'ring', 'online'], ['bought', '17', 'year', 'old', 'daughter', 'seen', 'small', 'heart', 'shaped', 'ring', 'coach', 'store', 'liked', 'style', 'one', 'much', 'cheaper', 'ended', 'much', 'prettier', 'really', 'eye', 'catching', 'ring', 'nt', 'look', 'cheap', 'sparkles', 'beautifully', 'actually', 'ordering', 'second', 'ring', 'since', 'leaving', 'college', 'next', 'month', 'worried', 'losing', 'think', 'like', 'knowing', 'spare', 'ring', 'home', 'case', 'price', 'not', 'big', 'deal', 'wears', 'ring', 'right', 'ring', 'finger', 'instead', 'high', 'school', 'ring', 'loves', 'much', 'would', 'suggest', 'ring', 'fan', 'hearts', 'little', 'bit'], ['love', 'ring', 'wear', 'time', 'bought', 'wear', 'husband', 'go', 'vacation', 'nt', 'worry', 'losing', 'real', 'ring', 'stone', 'already', 'lose', '50', 'ring', 'not', '5000', 'ring', 'almost', 'every', 'time', 'leave', 'house', 'get', 'compliment', 'ring', 'mon', 'not', 'tell', 'different', 'ring', 'real', 'wedding', 'ring', 'little', 'bulkier', 'picture', 'leads', 'one', 'believe', 'still', 'wonderful', 'ring', 'anything', 'happens', 'stone', 'fall', 'probably', 'buy', 'another', 'ring', 'much', 'love', 'ring'], ['ring', 'exactly', 'wanted', 'actually', 'bought', 'another', 'nt', 'quite', 'solid', 'made', 'ring', 'thanks', 'great', 'ring'], ['gorgeous', 'ring', 'holder', 'sits', 'dresser', 'holds', 'wedding', 'ring', 'every', 'night', 'gorgeous', 'love'], ['ordered', 'ring', 'last', 'december', 'opened', 'ring', 'box', 'arrived', 'absolutely', 'took', 'breath', 'away', 'gorgeous', 'ring', 'pictures', 'nt', 'justice', 'size', 'color', 'stone', 'suit', 'taste', 'perfectly', 'quality', 'ring', 'excellent', 'quite', 'variety', 'silver', 'rings', 'ring', 'one', 'wear', 'regular', 'basis', 'taste', 'rings', 'toward', 'boldunique', 'side', 'ring', 'definitely', 'fits', 'bill'], ['bought', 'ring', 'size', '3', 'toe', 'ring', 'came', 'much', 'sooner', 'expected', 'first', 'surprise', 'second', 'surprise', 'absolutely', 'cut', 'heartshaped', 'box', 'bow', 'top', 'ring', 'came', 'third', 'surprise', 'ring', 'fit', 'perfectly', 'totally', 'true', 'picture', 'looked', 'even', 'better', 'person', 'already', 'shopping', 'second', 'dem', 'avenue', 'ring', 'buds', 'dem', 'avenue', 'supplying', 'small', 'rings', 'people', 'like', 'fitted', 'toe', 'rings'], ['unfortunately', 'small', 'woman', 'almost', 'impossible', 'purchase', 'rings', 'without', 'sized', 'purchased', 'ring', 'would', 'something', 'wear', 'vacation', 'things', 'could', 'otherwise', 'harm', 'expensive', 'rings', 'dont', 'even', 'need', 'expensive', 'rings', 'ring', 'stunning', 'delicate', 'beautiful', 'ring', 'fits', 'looks', 'awesum'], ['ring', 'right', 'one', 'everyone', 'want', 'beautiful', 'ring', 'hand', 'catch', 'everyone', 'attention'], ['great', 'ring', 'tried', 'different', 'one', 'first', 'individual', 'rings', 'thin', 'snapped', 'within', 'weeks', 'rings', 'one', 'thicker', 'making', 'bolder', 'unable', 'ring', 'course', 'costs', 'bit', 'ca', 'nt', 'go', 'wrong', 'paying', 'better', 'quality'], ['neck', 'ring', 'timely', 'manner', 'looks', 'antique', 'would', 'recommend', 'ring', 'garden', 'lover'], ['fussy', 'attractive', 'ring', 'purchased', 'replacement', 'lost', 'wedding', 'ring', 'stacks', 'beautifully', 'engagement', 'ring', 'also', 'perfect', 'catching', 'light', 'appealing', 'luminosity'], ['second', 'engagement', 'king', 'got', 'birthday', 'love', 'nice', 'shiny', 'must', 'buy', 'ring', 'anyone'], ['love', 'ring', 'snug', 'thickness', 'ring', 'wanting', 'buy', 'ring', 'buy', 'size', 'largerthe', 'ring', 'beautiful', 'although', 'bought', 'bc', 'boys', 'autismi', 'using', 'new', 'wedding', 'band', 'since', 'go', 'rings', 'ofteni', 'nt', 'think', 'ever', 'replace', 'ring', 'going', 'buy', 'hobby', 'one'], ['ordered', 'baby', 'blue', 'opal', 'cluster', 'king', 'loyal', 'customer', 'sterling', 'silver', 'blue', 'today', 'rings', 'upon', 'receiving', 'ring', 'totally', 'excited', 'anticipation', 'receiving', 'ring', 'exciting', 'particular', 'cluster', 'absolutely', 'beautiful', 'sparkling', 'color', 'stones', 'quality', 'ringreceived', 'numerous', 'compliments', 'would', 'recommend', 'ring', 'looking', 'ring', 'set', 'nicely', 'blue', 'today', 'stones', 'completely', 'satisfied', 'order', 'site', 'again'], ['sterling', 'silver', 'black', 'enamel', 'comes', 'life', 'cross', 'ring', 'five', 'crosses', 'stunning', 'ring', 'radiate', 'hand', 'many', 'comments', 'beauty', 'ring', 'grace', 'fills', 'one', 'soul', 'admire', 'beauty', 'interactions', 'silver', 'black', 'design', 'ring', 'ask', 'purchase', 'ring', 'share', 'inner', 'feelings', 'outward', 'way', 'without', 'say', 'work', 'allow', 'ring', 'speak', 'silver', 'black', 'enamel', 'cross', 'ring', 'speaks', 'selfutterly', 'undesirable'], ['fiance', 'looked', 'many', 'different', 'rings', 'fell', 'love', 'ring', 'everything', 'wanted', 'engagement', 'ring', 'wearing', 'awhile', 'perfect', 'regrets', 'buying', 'ring'], ['wanted', 'know', 'ring', 'like', '2', 'rings', 'one', 'ring', 'beyond', 'gorgeous', 'love'], ['bought', 'two', 'rings', 'fit', 'either', 'side', 'platino', 'princess', 'wedding', 'ring', 'help', 'anchor', 'add', 'ring', 'perfect', 'fit', 'lot', 'compliments', 'new', 'ring'], ['got', 'ring', 'birthday', 'love', 'not', 'imagine', 'woman', 'not', 'adoring', 'ring'], ['first', 'skeptically', 'ring', 'price', 'low', 'nt', 'wear', 'lot', 'gold', 'purchased', 'ring', 'nice', 'gold', 'necklaces', 'wear', 'wanted', 'ring', 'work', 'ring', 'nt', 'look', 'like', '35', 'ring'], ['ring', 'awesome', 'wear', 'ring', 'index', 'finger', 'fits', 'great', 'comfortable', 'ring'], ['not', 'ring', 'beautiful', 'jeweller', 'accommadating', 'ring', 'reach', 'us', 'time', 'appreciate', 'care', 'quick', 'receiving', 'ring', 'thank'], ['pleased', 'quality', 'item', 'definitely', 'recommend', 'addition', 'friends', 'family'], ['item', 'wonderful', 'surprise', 'quality', 'much', 'could', 'ever', 'hoped', 'for'], ['impressed', 'quality', 'item', 'delivery', 'fast', 'would', 'definitely', 'buy', 'seller', 'again'], ['impressed', 'quality', 'would', 'not', 'hesitate', 'purchase', 'items', 'seller', 'service', 'also', 'exceptional'], ['not', 'completely', 'sure', 'buying', 'jewellery', 'internet', 'type', 'gift', 'like', 'see', 'handle', 'item', 'decide', 'pressed', 'time', 'like', 'pictures', 'item', 'decided', 'take', 'chance', 'glad', 'impressed', 'quality', 'appearance', 'item', 'arrived', 'price', 'low', 'compared', 'quality', 'wife', 'pleased', 'jewellery', 'item'], ['flute', 'charm', 'detailed', 'high', 'quality', 'see', 'keys', 'flute', 'fan', 'would', 'adore', 'item'], ['stem', 'great', 'quality', 'came', 'promptly', 'happy', 'recommend', 'undeservedly'], ['see', 'person', 'appreciate', 'beautiful', 'really', 'shiny', 'feel', 'pretty', 'look', 'expensive', 'much', 'costthey', 'also', 'go', 'color', 'beautiful'], ['think', 'necklace', 'well', 'worth', 'money', 'delicate', 'simple', 'yet', 'pretty', 'layed', 'beautiful', 'look'], ['got', 'ring', 'promise', 'ring', 'girlfriend', 'christmas', 'loved', 'definitely', 'great', 'value'], ['wife', 'loves', 'ring', 'great', 'gift', 'extremely', 'cheap', 'high', 'quality'], ['birthday', 'gift', '16', 'niece', 'loves', 'ring', 'happy', 'received', 'it'], ['love', 'birthstone', 'wanted', 'piece', 'jewel', 'symbolized', 'simple', 'purity', 'blue', 'opal', 'ring', 'gift', 'birthday', 'year', 'definitely', 'great', 'gift', 'welcomed', 'addition', 'collection'], ['got', 'ring', 'gift', 'boyfriend', 'love', 'thing', 'rings', 'not', 'position', 'correctly', 'inches', 'skin'], ['ring', 'good', 'sparkle', 'looks', 'like', 'ring', 'cost', 'six', 'amount', 'takes', 'great', 'gift', 'someone', 'budget', 'girlfriend', 'loves', 'it'], ['great', 'gift', 'loved', 'one', 'ever', 'better', 'seller', 'seller', 'deals', 'professional', 'way', 'security', 'measures', 'superb'], ['bought', 'ring', 'husband', 'loved', 'received', 'said', 'would', 'great', 'ring'], ['product', 'made', 'great', 'gift', 'great', 'memories', 'love', 'something', 'always', 'helping', 'gift', 'heart', 'always', 'shows', 'care'], ['love', 'ring', 'fits', 'right', 'showed', 'daughter', 'ring', 'loved', 'well', 'great', 'everyday', 'wear', 'price', 'great'], ['nice', 'loves', 'birth', 'stone', 'got', 'christmas', 'lifti', 'also', 'love', 'also', 'great'], ['bought', 'gift', 'friends', 'birthday', 'loved', 'beautiful', 'ring'], ['always', 'love', 'pillow', 'free', 'make', 'great', 'gifts', 'great', 'people', 'life', 'quite', 'collection', 'hope', 'continue', 'build'], ['owned', 'several', 'claddagh', 'rings', 'years', 'lost', 'last', 'one', 'received', 'one', 'gift', 'recently', 'truly', 'love', 'sturdy', 'design', 'crisp', 'easily', 'recommend', 'one', 'lovely', 'ring'], ['mother', 'loved', 'great', 'birthday', 'gift', 'look', 'even', 'better', 'person', 'go', 'great', 'anything'], ['always', 'wanted', 'claddaugh', 'ringhis', 'price', 'greati', 'love', 'it'], ['disappointed', 'appearance', 'quality', 'bracelets', 'definitely', 'not', 'worth', '4500', 'not', 'even', 'close'], ['bracelets', 'not', 'true', '9', 'necklace', 'perfect', 'bracelets', 'nice', 'quality', 'not', 'true', 'length'], ['bought', 'bracelets', 'girlfriend', 'not', 'impressed', 'quality', 'bracelets', 'looks', 'cheap', 'clasp', 'extremely', 'fragile', 'fact', 'first', 'night', 'wore', 'bracelets', 'clasp', 'broke', 'one', 'side', 'definitely', 'would', 'not', 'recommend', 'bracelets'], ['bracelets', 'poor', 'quality', 'gemstones', 'poor', 'craftsmanship', 'gemstones', 'cloudy', 'joints', 'chain', 'fused', 'together', 'bracelets', 'therefore', 'ca', 'nt', 'straightened', 'completely', 'words', 'unfastened', 'bracelets', 'lay', 'counter', 'not', 'form', 'straight', 'line', 'joints', 'bracelets', 'fused', 'together', 'not', 'bend', 'not', 'straighten', 'bracelets', 'nt', 'buy', 'june'], ['stones', 'bracelets', 'extremely', 'pale', 'pink', 'purple', 'ended', 'returning', 'bracelets', 'amethyst', 'jewel', 'extremely', 'poor', 'quality'], ['purchased', 'bracelets', 'gift', 'last', 'december', 'quality', 'clasp', 'quite', 'poor', 'gradually', 'lost', 'ability', 'stay', 'closed', 'recently', 'bracelets', 'fell', 'poor', 'clasp', 'damaged', 'greatly', 'avoid', 'bracelets'], ['happy', 'product', 'received', 'advertised', 'timely', 'manner', 'selleramazon', 'kept', 'updated', 'shipmentdelivery', 'status', 'would', 'recommend', 'item', 'seller'], ['purchased', 'several', 'items', 'petya', 'not', 'products', 'first', 'rate', 'packing', 'customer', 'service', 'excellent'], ['earrings', 'described', 'transaction', 'smooth', 'easy', 'product', 'shipped', 'received', 'time', 'frame', 'quoted', 'pleased', 'purchase'], ['stem', 'shipped', 'received', 'within', 'time', 'limit', 'given', 'good', 'quality', 'product', 't'], ['wonderful', 'shopping', 'experience', 'purchased', 'item', 'holiday', 'presents', 'whole', 'order', 'came', 'quickly', 'wonderful', 'condition'], ['product', 'arrived', 'short', 'period', 'time', 'perfect', 'described', 'perfectly', 'everything', 'hoped'], ['received', 'italian', 'horn', 'printing', 'condition', 'completely', 'satisfied', 'receiving', 'product', 'timely', 'manner'], ['item', 'looks', 'exactly', 'like', 'pictures', 'pleased', 'shipping', 'ver', 'fast', 'item', '3', 'days', 'order', 'choosing', 'strange', 'shipping', 'worth', 'time'], ['arrived', 'estimated', 'date', 'many', 'previous', 'orders', 'seller', 'always', 'time', 'excellent', 'condition'], ['product', 'received', 'nice', 'came', 'timely', 'matter', 'faster', 'expected', 'order', 'item', 'again'], ['pleased', 'purchase', 'speedy', 'shipping', 'use'], ['happy', 'say', 'though', 'not', 'receive', 'order', 'first', 'time', 'ordered', 'cross', 'company', 'amazon', 'stand', 'behind', 'product', 'refund', 'money', 'spent', 'item', 'since', 'reordered', 'item', 'arrived', 'timely', 'manner', 'cross', 'really', 'nice', 'thank', 'great', 'customer', 'service'], ['product', 'arrived', 'perfect', 'condition', 'shipping', 'ridiculously', 'slow', 'not', 'order', 'again'], ['item', 'came', 'quickly', 'plenty', 'time', 'christmas', 'huge', 'hit', 'person', 'received', 'them'], ['bought', 'wear', 'alice', 'wonderland', 'costume', 'halloween', 'wearing', 'ever', 'since', 'received', 'actually', 'gotten', 'lot', 'compliments'], ['days', 'not', 'wear', 'blue', 'one', 'wear', 'one', 'really', 'enjoy', 'wearing', 'something', 'celtic', 'pretty'], ['peasant', 'classify', 'best', 'casual', 'wear', 'wear', 'weekend', 'nt', 'not', 'suited', 'work', 'going', 'events'], ['label', 'pin', 'perfect', 'detail', 'wear', 'colors', 'plan', 'wear', 'label', 'wear', 'suit', 'penis', 'nice', 'enough', 'wear', 'formal', 'occasionsdear', 'pride'], ['wanted', 'class', 'piece', 'wear', 'right', 'hand', 'work', 'wearing', 'old', 'found', 'end', 'wearing', 'outside', 'work', 'class', 'looking'], ['good', 'everyday', 'wear', 'dressing', 'up'], ['suitable', 'wearing', 'fashionable', 'occasions', 'dress'], ['looking', 'forward', 'wearing', 'sparkle', 'catch', 'every', 'eye', 'son', 'wedding', 'june'], ['wear', 'charm', 'memory', '3', 'friends', 'passed', 'away', 'wish', 'nt', 'wear', 'honor', 'do'], ['item', 'perfect', 'daily', 'wear', 'still', 'elegant', 'enough', 'dress', 'receive', 'many', 'compliments', 'wearing', 'it'], ['get', 'compliments', 'every', 'time', 'wear', 'necklace', 'quickly', 'become', 'part', 'everyday', 'wear'], ['great', 'way', 'support', 'local', 'pro', 'sports', 'team', 'without', 'wearing', 'oversized', 'jersey', 'hat', 'mess', 'hair'], ['nice', 'wear', 'want', 'something', 'casual', 'wear', 'comfortable'], ['unique', 'pleasure', 'wear', 'stones', 'catch', 'light', 'style', 'comfortable', 'wear'], ['item', 'not', 'pictured', 'funny', 'poor', 'quality', 'seller', 'not', 'respond', 'contracted', 'this'], ['product', 'hollow', 'not', 'clearly', 'specified', 'item', 'description', 'not', 'expecting', 'seemed', 'poor', 'quality', 'returned', 'item'], ['disappointed', 'quality', 'item', 'fragile', 'thin', 'discoloured', 'back', 'charm', 'not', 'returnable', 'not', 'ordering', 'amazon', 'jeweller', 'future', 'thank', 'you'], ['stem', 'arrived', 'extremely', 'damaged', 'several', 'places', 'not', 'package', 'well', 'send', 'back', 'disappointed', 'quality'], ['item', 'misrepresented', 'size', 'quality', 'horrible', 'would', 'return', 'item', 'except', 'family', 'member', 'coast', 'guard', 'sent', 'total', 'waste', 'money'], ['one', 'beautiful', 'rosary', 'seen', 'smoothness', 'color', 'beads', 'translucent', 'looking', 'almost', 'looks', 'like', 'glass', 'workmanship', 'excellent', 'details', 'beautiful', 'truly', 'beautiful', 'piece', 'own'], ['earrings', 'sent', 'real', 'light', 'color', 'not', 'pretty', 'dark', 'color', 'show', 'picture', 'look', 'almost', 'light', 'pink', 'keep', 'also', 'pretty', 'not', 'expected'], ['diamond', 'looks', 'pretty', 'big', 'price', 'shines', 'brilliantly', 'color', 'nt', 'look', 'white', 'though', 'nt', 'expect', 'color', 'white', 'overall', 'think', 'pretty', 'happy'], ['diamond', 'looks', 'pretty', 'big', 'price', 'shines', 'brilliantly', 'color', 'nt', 'look', 'white', 'though', 'nt', 'expect', 'color', 'white', 'overall', 'think', 'pretty', 'happy'], ['imagine', 'sparkling', 'around', 'girlfriend', 'manned', 'toe', 'sun', 'bad', 'winter', 'looking', 'forward', 'pretty', 'sight'], ['look', 'quite', 'like', 'photograph', 'colourful', 'know', 'turtle', 'seen', 'elsewhere', 'quite', 'high', 'price', 'beautiful'], ['ring', 'exactly', 'pictured', 'looks', 'pretty', 'hand', 'color', 'stones', 'rich', 'beautiful'], ['dainty', 'heart', 'looks', 'absolutely', 'beautiful', 'pick', 'colors', 'clothing', 'amazing', 'price', 'beautiful', 'peasant'], ['not', 'find', 'better', 'deal', 'money', 'anywhere', 'ring', 'beautiful', 'craftsmanship', 'meticulous', 'extensive', 'also', 'muscle', 'shells', 'tinker', 'person', 'look', 'online', 'deep', 'color', 'various', 'shades', 'iridescent', 'maude'], ['look', 'beautiful', 'smooth', 'finish', 'closes', 'firmly', 'click', 'classic', 'look'], ['smaller', 'carnelian', 'beads', 'clear', 'beautiful', 'orange', 'color', 'would', 'great', 'elastic', 'color', 'beads', 'beautiful'], ['message', 'positive', 'looks', 'pretty', 'bought', 'aunt', 'present', 'color', 'nice'], ['ring', 'looks', 'nothing', 'like', 'picture', 'diamonds', 'small', 'not', 'noticeable', 'sending', 'back'], ['ring', 'nice', 'looked', 'like', 'picture', 'crack', 'one', 'market', 'another', 'one', 'large', 'chip'], ['rings', 'looks', 'nothing', 'like', 'picture', 'stones', 'small', 'barely', 'even', 'tell', 'stones', 'ring', 'thin', 'small', 'looks', 'like', 'ring', 'would', 'buy', 'egg', 'machine', 'returned', 'promptly', 'misleading', 'buy'], ['nt', 'like', 'product', 'diamonds', 'looked', 'nothing', 'like', 'picture', 'diamonds', 'flowed', 'little', 'bit'], ['although', 'picture', 'shows', 'cut', 'looking', 'ring', 'ring', 'nt', 'pretty', 'fringed', 'look', 'looks', 'like', 'ring', 'left', 'floor', 'someone', 'ran', 'vacuum', 'cleaner'], ['usually', 'love', 'rings', 'company', 'warned', 'ring', 'nt', 'look', 'anything', 'like', 'picture', 'ring', 'received', 'super', 'long', 'rectangular', 'stone', 'not', 'nice', 'square', 'seen', 'picture', 'line', 'also', 'varnished', 'looked', 'like', 'torch', 'marks', 'side', 'definitely', 'returning', 'ring'], ['little', 'disappointed', 'received', 'ring', 'mail', 'picture', 'provided', 'sides', 'look', 'like', 'make', 'heart', 'shape', 'least', 'looks', 'like', 'smooth', 'clean', 'curved', 'lines', 'ring', 'got', 'mail', 'looks', 'like', 'sides', 'smashed', 'not', 'clean', 'curves', 'like', 'wished', 'looked', 'like', 'picture'], ['diamonds', 'picture', 'nothing', 'close', 'size', 'look', 'picture', 'ring', 'awesome', 'would', 'absolutely', 'recommend', 'anyone', 'price', 'hands', 'doubt', 'ring', 'looks', 'amazing', 'price', 'must', 'nt', 'expect', 'diamonds', 'look', 'big', 'picture'], ['received', 'ring', 'little', 'disappointed', 'ring', 'not', 'completely', 'blue', 'like', 'picture', 'shows', 'looks', 'like', 'got', 'blue', 'flower', 'green', 'leaves', 'makes', 'ring', 'look', 'blue', 'green', 'small', 'ring', 'not', 'worth', '699', 'like'], ['ring', 'looks', 'beautiful', 'picture', 'see', 'reality', 'cubic', 'zirconia', 'small', 'ring', 'looks', 'tiny', 'also', 'cubic', 'zirconia', 'dull', 'ring', 'received', 'looks', 'like', 'worn', 'disgusted', 'purchase', 'nt', 'buy', 'seller', 'not', 'like', 'false', 'imagine', 'ring', 'looks', 'cheap', 'sold', 'much', 'less', 'real', 'ripoff'], ['got', 'ring', 'hoping', 'looks', 'like', 'picture', 'misleading', 'purchase', 'ring', 'please', 'aware', '110', 'cut', 'means', 'diamonds', 'really', 'small', 'man', 'looking', 'buy', 'ring', 'significant', 'would', 'recommend', 'spend', 'little', 'bit', 'buy', 'better', 'looking', 'ring', 'ended', 'returning'], ['ring', 'clot', 'smaller', 'person', 'pictures', 'pictures', 'make', 'look', 'like', 'diamonds', 'decent', 'size', 'small', 'little', 'disappointed'], ['looks', 'like', 'ring', 'man', 'look', 'picture', 'online', 'real', 'life', 'feminine', 'looking', 'ring'], ['fell', 'love', 'picture', 'ring', 'showed', 'slightly', 'brushed', 'looking', 'ring', 'arrived', 'quick', 'learn', 'picture', 'looks', 'nothing', 'like', 'ring', 'ring', 'bright', 'polish', 'yellow', 'gold', 'barely', 'visible', 'disappointed', 'amazon', 'lack', 'description'], ['medical', 'alert', 'bracket', 'looked', 'like', 'picture', 'nice', 'quality', 'sterling', 'silver'], ['picture', 'looked', 'purple', 'clear', 'like', 'title', 'says'], ['earrings', 'picture', 'stones', 'look', 'good', 'light', 'comfortable', 'reasonable', 'quality', 'price', 'silver', 'not', 'look', 'picture', 'like', 'polished', 'silver'], ['much', 'smaller', 'looked', 'like', 'picture', 'silver', 'necklace', 'seemed', 'poorer', 'quality', 'expected'], ['nice', 'looks', 'picture', 'like'], ['perfect', 'size', 'solid', 'charm', 'looks', 'either', 'side', 'silver', 'nicely', 'finished', 'enamel', 'nice', 'highlight', 'really', 'looks', 'like', 'picture'], ['not', 'thought', 'going', 'look', 'good', 'picture', 'got', 'quality', 'nt', 'ca', 'nt', 'wear', 'completely', 'bending', 'hooks', 'shape', 'like', 'silver', 'plastic'], ['looked', 'well', 'picture', 'thing', 'could', 'say', 'little', 'polished', 'looks', 'like', 'black', 'stands', 'looks', 'nice'], ['diamond', 'crack', 'one', 'market', 'another', 'one', 'large', 'chip'], ['although', 'picture', 'looks', 'like', 'metal', 'beads', 'description', 'states', 'sterling', 'silver', 'pearls'], ['looks', 'exactly', 'like', 'picture', 'nice', 'quality', 'must', 'everyone', 'tiger', 'fan', 'owns', 'italian', 'harm', 'bracelets'], ['got', 'yesterday', 'christmas', 'gift', 'far', 'look', 'like', 'picture', 'seem', 'nice'], ['good', 'quality', 'light', 'weight', 'nice', 'small', 'size', 'must', 'described', 'look', 'like', 'picture'], ['really', 'liked', 'earrings', 'however', 'agree', 'one', 'earlier', 'reviews', 'thought', 'would', 'little', 'bigger'], []]\n"
          ]
        }
      ],
      "source": [
        "# load_doc, clean_text functions were adapted from https://github.com/gcosma/COP509/blob/main/Tutorials/Tutorial1NLPcleanText.ipynb\n",
        "# remove_dups and get_ids_ratings was my own work\n",
        "\n",
        "def load_doc(filename, skip_header=False):\n",
        "  '''Read the file'''\n",
        "  # Check file extension\n",
        "  if filename.endswith('.xlsx'):\n",
        "      df = pd.read_excel(data_path+filename, header=None)\n",
        "      df.dropna(inplace=True)\n",
        "      lines = df.values.tolist()\n",
        "  else:\n",
        "      with open(data_path + filename, 'r') as file:\n",
        "        if skip_header:\n",
        "          next(file)\n",
        "        lines = []\n",
        "        for line in file:\n",
        "            clean_line = line.strip()\n",
        "            lines.append(clean_line)\n",
        "  return lines\n",
        "\n",
        "def remove_dups(text):\n",
        "  '''Remove duplicates'''\n",
        "  reviews=[]\n",
        "  seen=[]\n",
        "  # Loop through each review\n",
        "  for review in text:\n",
        "    # Check if line starts with numeric (i.e., an ID) followed by alphabetic\n",
        "    match = re.match(r'^\\d+(.+)$', review)\n",
        "    if match:\n",
        "      # Remove numeric (i.e. the id)\n",
        "      rev_content = match.group(1).strip()\n",
        "    else:\n",
        "      # Can just use the whole line\n",
        "      rev_content = review.strip()\n",
        "    # Compare if the line has been seen or not\n",
        "    if rev_content not in seen:\n",
        "      seen.append(rev_content)\n",
        "      reviews.append(review)\n",
        "  return reviews\n",
        "\n",
        "def clean_doc(text):\n",
        "  '''Clean the text'''\n",
        "  # split into words\n",
        "  tokens = word_tokenize(text)\n",
        "  # correct spelling mistakes\n",
        "  corrected = [str(TextBlob(word).correct()) for word in tokens]\n",
        "  # # stem words\n",
        "  porter = PorterStemmer()\n",
        "  stemmed = [porter.stem(word) for word in corrected]\n",
        "  # convert to lower case\n",
        "  tokens = [w.lower() for w in corrected]\n",
        "  # remove punctuation from each word\n",
        "  table = str.maketrans('', '', string.punctuation)\n",
        "  stripped = [w.translate(table) for w in tokens]\n",
        "  # remove remaining tokens that are not alphabetic or digit\n",
        "  words = [word for word in stripped if word.isalnum()]\n",
        "  # Remove short words but keep numbers\n",
        "  words = [word for word in words if len(word) > 1 or word.isdigit()]\n",
        "  # filter out stop words\n",
        "  stop_words = stopwords.words('english')\n",
        "  stop_words.remove('not') # I have decided to allow not\n",
        "  words = [w for w in words if not w in set(stop_words)]\n",
        "  return words\n",
        "\n",
        "def get_ids_ratings_text(clean_text):\n",
        "  '''Get ids, ratings and text'''\n",
        "  clean_text = [clean_doc(doc) for doc in text]\n",
        "  ids=[]\n",
        "  ratings=[]\n",
        "  for words in clean_text:\n",
        "    #Store the ids and ratings\n",
        "    ids.append(words[0])\n",
        "    #only append numerical part\n",
        "    rating = ''.join([char for char in words[-1] if char.isdigit()])  # Extract the number\n",
        "    ratings.append(rating)\n",
        "\n",
        "    #remove ids and ratings from the docs as this will not help analysis\n",
        "    words.pop(0)\n",
        "    if words:\n",
        "      if isinstance(words[-1], str):\n",
        "          # Check if last element contains alphabetic characters\n",
        "          alpha_chars = ''.join([char for char in words[-1] if char.isalpha()])\n",
        "          if alpha_chars:\n",
        "              words[-1] = alpha_chars\n",
        "          else:\n",
        "              words.pop(-1)\n",
        "  return ids, ratings, clean_text\n",
        "\n",
        "# Label data path\n",
        "data_path = \"/content/drive/My Drive/Colab Notebooks/COP509cw/Datasets/\"\n",
        "\n",
        "# Load and clean data\n",
        "text = load_doc(\"JewelleryReviewsLSA.csv\", skip_header=True)\n",
        "text = remove_dups(text)\n",
        "ids, ratings, clean_text = get_ids_ratings_text(text)\n",
        "\n",
        "print(ids)\n",
        "print(ratings)\n",
        "print(clean_text)"
      ]
    },
    {
      "cell_type": "markdown",
      "metadata": {
        "id": "aGgcdQVFf4RA"
      },
      "source": [
        "# Question 2 - Information retrieval\n"
      ]
    },
    {
      "cell_type": "code",
      "execution_count": null,
      "metadata": {
        "colab": {
          "base_uri": "https://localhost:8080/"
        },
        "id": "rvbENtKsuNCp",
        "outputId": "f0d2f1a6-53f5-4989-c75a-daa93bc3038f"
      },
      "outputs": [
        {
          "output_type": "stream",
          "name": "stdout",
          "text": [
            "Requirement already satisfied: faiss-cpu in /usr/local/lib/python3.11/dist-packages (1.10.0)\n",
            "Requirement already satisfied: numpy<3.0,>=1.25.0 in /usr/local/lib/python3.11/dist-packages (from faiss-cpu) (1.26.4)\n",
            "Requirement already satisfied: packaging in /usr/local/lib/python3.11/dist-packages (from faiss-cpu) (24.2)\n"
          ]
        }
      ],
      "source": [
        "# Installations and imports for question 2\n",
        "!pip install faiss-cpu\n",
        "import numpy as np\n",
        "from numpy import argsort\n",
        "import scipy.sparse as sp\n",
        "from sklearn.decomposition import TruncatedSVD\n",
        "from sklearn.feature_extraction.text import CountVectorizer, TfidfTransformer, TfidfVectorizer\n",
        "from sklearn.metrics.pairwise import cosine_similarity\n",
        "from sklearn.preprocessing import normalize\n",
        "from sklearn import metrics\n",
        "import torch\n",
        "import torch.nn as nn\n",
        "import transformers\n",
        "from transformers import DistilBertModel, DistilBertTokenizerFast\n",
        "from transformers import AdamW\n",
        "import torch.nn.functional as F\n",
        "import faiss\n",
        "import warnings\n",
        "warnings.filterwarnings('ignore')"
      ]
    },
    {
      "cell_type": "markdown",
      "metadata": {
        "id": "euZbnLQi8uYI"
      },
      "source": [
        "#### Evaluation functions. Used for both LSI and Neural Information Retrieval\n"
      ]
    },
    {
      "cell_type": "code",
      "execution_count": null,
      "metadata": {
        "id": "xtm2os0Z8wpU"
      },
      "outputs": [],
      "source": [
        "# My own knowledge\n",
        "\n",
        "import matplotlib.pyplot as plt\n",
        "\n",
        "def calc_prec_rec_at_k(relevant_ids, retrieved_ids, k_values):\n",
        "  '''Calculate precision and recall at different threshold values'''\n",
        "  # Data stores\n",
        "  prec_at_k = []\n",
        "  rec_at_k = []\n",
        "\n",
        "  # Edge case\n",
        "  if len(relevant_ids) == 0:\n",
        "    return [0] * len(k_values), [0] * len(k_values)\n",
        "\n",
        "  # Calc precision and recall for different cut off (k values)\n",
        "  for k in k_values:\n",
        "    retrieved_ids_k = retrieved_ids[:k]\n",
        "    tp_k = len(set(relevant_ids) & set(retrieved_ids_k))\n",
        "\n",
        "    prec_at_k.append(tp_k / k)\n",
        "    rec_at_k.append(tp_k / len(relevant_ids))\n",
        "\n",
        "  return prec_at_k, rec_at_k\n",
        "\n",
        "def plot_eval_curve(eval_dict):\n",
        "  '''Plot precision-recall curve'''\n",
        "  fig, ax = plt.subplots()\n",
        "\n",
        "  for method in eval_dict.keys():\n",
        "    ax.scatter(eval_dict[method][0], eval_dict[method][1], s=5)\n",
        "    ax.plot(eval_dict[method][0], eval_dict[method][1], label = method)\n",
        "\n",
        "  plt.legend()\n",
        "  ax.grid(alpha=0.5)\n",
        "  ax.set(xlabel='Average Recall', ylabel='Average Precision', title = 'Standard Average Recall/Precision Curve')"
      ]
    },
    {
      "cell_type": "markdown",
      "metadata": {
        "id": "khoUWGvr8p3i"
      },
      "source": [
        "## Latent Semantic Indexing\n",
        "\n"
      ]
    },
    {
      "cell_type": "code",
      "execution_count": null,
      "metadata": {
        "colab": {
          "base_uri": "https://localhost:8080/",
          "height": 611
        },
        "id": "0Blrlrew6YWR",
        "outputId": "8b011d76-f75a-4d31-faf0-3cba1b83ff5c"
      },
      "outputs": [
        {
          "output_type": "stream",
          "name": "stdout",
          "text": [
            "Mean avg precision tfidf: 0.70\n",
            "Mean avg precision log: 0.68\n",
            "Mean avg precision boolean: 0.68\n",
            "Mean avg precision bm25: 0.69\n",
            "Area under precision/recall curve for method tfidf: 0.56\n",
            "Area under precision/recall curve for method log: 0.53\n",
            "Area under precision/recall curve for method boolean: 0.50\n",
            "Area under precision/recall curve for method bm25: 0.55\n"
          ]
        },
        {
          "output_type": "display_data",
          "data": {
            "text/plain": [
              "<Figure size 640x480 with 1 Axes>"
            ],
            "image/png": "[encoded data removed]"
          },
          "metadata": {}
        }
      ],
      "source": [
        "# The skeleton of this code was adapted from https://github.com/gcosma/COP509/blob/main/Tutorials/Tutorial4LSA.ipynb\n",
        "\n",
        "def get_vocab(clean_docs):\n",
        "  '''Use sklearn Count Vectorizer to get vocabulary, using unigrams and bigrams '''\n",
        "  clean_docs = [' '.join(doc) for doc in clean_docs]\n",
        "  vectorizer = CountVectorizer(ngram_range=(1,2), min_df=2, max_df=0.95)\n",
        "  vectorizer.fit(clean_docs)\n",
        "  return vectorizer.vocabulary_\n",
        "\n",
        "def encode_data(train_docs, mode, vocab):\n",
        "  '''Vectorize data then encode.\n",
        "     Four different modes possible: tfidf, log, boolean, BM25'''\n",
        "  vectorizer = CountVectorizer(vocabulary=vocab, ngram_range=(1,2))\n",
        "  count_vectors = vectorizer.fit_transform(train_docs)\n",
        "\n",
        "  if mode == \"tfidf\":\n",
        "    # Tf-Idf encoding\n",
        "    transformer = TfidfTransformer(norm='l2')\n",
        "    Xtrain = transformer.fit_transform(count_vectors)\n",
        "\n",
        "  elif mode == 'log':\n",
        "    # Term freq\n",
        "    Xtrain = np.log1p(count_vectors)\n",
        "    # Document freq\n",
        "    idf = sp.diags(TfidfTransformer(norm=None, use_idf=True).fit(count_vectors).idf_,0)\n",
        "    Xtrain=Xtrain.dot(idf)\n",
        "    # Document length normalise\n",
        "    Xtrain = normalize(Xtrain, norm='l2', axis=1)\n",
        "\n",
        "  elif mode == 'boolean':\n",
        "    # Term freq\n",
        "    Xtrain = normalize((count_vectors > 0).astype(int), norm='l2', axis=1)\n",
        "    # Document freq\n",
        "    idf = sp.diags(TfidfTransformer(norm=None, use_idf=True).fit(count_vectors).idf_,0)\n",
        "    Xtrain=Xtrain.dot(idf)\n",
        "    # Document length normalise\n",
        "    Xtrain = normalize(Xtrain, norm='l2', axis=1)\n",
        "\n",
        "  elif mode == 'bm25':\n",
        "    # Using TfidfVectorizer with BM25 parameters\n",
        "    bm25_vectorizer = TfidfVectorizer(vocabulary=vocab, ngram_range=(1,2),\n",
        "                            norm=None, use_idf=True,\n",
        "                            smooth_idf=False, sublinear_tf=True)\n",
        "    Xtrain = bm25_vectorizer.fit_transform(train_docs)\n",
        "  else:\n",
        "    raise ValueError(f\"Unsupported mode: {mode}. Use 'tfidf', 'log', 'boolean', or 'bm25'\")\n",
        "\n",
        "  return Xtrain\n",
        "\n",
        "def prepare_query(query, mode, vocab, encoded=True):\n",
        "  '''Clean then encode query'''\n",
        "  if len(query) == 2:\n",
        "    query.pop(0) # dont need query number\n",
        "  tokens = clean_doc(str(query))\n",
        "  line = ' '.join(tokens)\n",
        "  if encoded:\n",
        "    encoded = encode_data([line], mode, vocab)\n",
        "    return encoded\n",
        "  else:\n",
        "    return line\n",
        "\n",
        "#Get vocab, read in necessary files\n",
        "vocab = get_vocab(clean_text)\n",
        "query_list = load_doc(\"QueryText.csv.xlsx\")\n",
        "query_relevant = pd.read_csv(data_path + \"JewelleryReviewsQueryRelevantID.csv\")\n",
        "train_docs = [' '.join(doc) for doc in clean_text]\n",
        "\n",
        "# Data stores\n",
        "k_values = [1, 2, 4, 6, 8, 10, 12, 14, 16, 18, 20]\n",
        "MAPs = []\n",
        "method_avg_curves = {}\n",
        "\n",
        "# Loop through each method, and query\n",
        "# Calculate precision and recall at diff ks for eachs step\n",
        "for method in ['tfidf', 'log', 'boolean', 'bm25']:\n",
        "  lsi_precision_curves = []\n",
        "  lsi_recall_curves = []\n",
        "\n",
        "  # encode training data according to method\n",
        "  Xtrain = encode_data(train_docs, method, vocab)\n",
        "  trunc_SVD_model = TruncatedSVD(n_components=50)\n",
        "  approx_Xtrain = trunc_SVD_model.fit_transform(Xtrain)\n",
        "\n",
        "  for query, q in zip(query_list, range(0, len(query_list))):\n",
        "    # prepare each query and query_vector in list according to method\n",
        "    encoded_query = prepare_query(query, method, vocab)\n",
        "    query_vector = trunc_SVD_model.transform(encoded_query)\n",
        "    similarities = cosine_similarity(approx_Xtrain, query_vector)\n",
        "\n",
        "    # sort by similarity\n",
        "    indexes = np.argsort(similarities.flat)[::-1]\n",
        "    retrieved_ids = [int(ids[i]) for i in indexes]\n",
        "\n",
        "    query_relevant_ids = query_relevant.iloc[:,q].dropna().astype(int).tolist()\n",
        "\n",
        "    # Calculate evaluation metrics\n",
        "    prec_at_k, rec_at_k = calc_prec_rec_at_k(query_relevant_ids, retrieved_ids, k_values)\n",
        "    lsi_precision_curves.append(prec_at_k)\n",
        "    lsi_recall_curves.append(rec_at_k)\n",
        "\n",
        "  avg_precision_curve = np.mean(lsi_precision_curves, axis=0)\n",
        "  avg_recall_curve = np.mean(lsi_recall_curves, axis=0)\n",
        "  method_avg_curves[method] = (avg_recall_curve, avg_precision_curve)\n",
        "  MAPs.append(sum(avg_precision_curve)/len(avg_precision_curve))\n",
        "\n",
        "# Output results\n",
        "plot_eval_curve(method_avg_curves)\n",
        "\n",
        "for i, method in enumerate(method_avg_curves.keys()):\n",
        "  print(f'Mean avg precision {method}: {MAPs[i]:.2f}')\n",
        "\n",
        "for method in method_avg_curves.keys():\n",
        "  print(f'Area under precision/recall curve for method {method}: {metrics.auc(method_avg_curves[method][0], method_avg_curves[method][1]):.2f}')"
      ]
    },
    {
      "cell_type": "code",
      "execution_count": null,
      "metadata": {
        "colab": {
          "base_uri": "https://localhost:8080/"
        },
        "id": "wy5NnqrXqgEF",
        "outputId": "9dfcd143-b11b-4907-8e1b-f0e715aff569"
      },
      "outputs": [
        {
          "output_type": "stream",
          "name": "stdout",
          "text": [
            "{'expect': 204, 'like': 311, 'regular': 504, 'size': 621, 'ring': 515, 'one': 412, 'look': 324, 'toy': 690, 'something': 638, 'funny': 238, 'rings': 569, 'may': 365, 'diamond': 162, 'king': 301, 'ask': 39, 'white': 728, 'old': 411, 'ring one': 549, 'look like': 327, 'like ring': 316, 'ring may': 544, 'ordered': 422, 'toe': 684, 'description': 159, 'came': 89, 'quickly': 486, 'not': 393, 'nt': 405, 'know': 302, 'anyone': 31, 'please': 453, 'seller': 591, 'wedding': 724, 'band': 47, 'thumb': 677, 'ordered ring': 423, 'ring came': 525, 'came quickly': 90, 'toe ring': 685, 'ring nt': 548, 'size toe': 622, 'wedding band': 725, 'ring thumb': 565, 'thumb ring': 678, 'beautiful': 51, 'first': 223, 'shipment': 601, 'scratches': 584, 'missing': 372, 'diamonds': 166, 'shoulder': 607, 'returned': 508, 'replacement': 506, 'second': 586, 'even': 189, 'worse': 745, 'clearly': 105, 'visible': 706, 'scratch': 581, 'right': 513, 'middle': 368, 'black': 68, 'great': 256, 'time': 679, 'refund': 502, 'thanks': 663, 'clot': 108, 'amazon': 24, 'ring beautiful': 521, 'beautiful ring': 54, 'ring first': 533, 'first shipment': 224, 'shipment ring': 602, 'ring scratches': 559, 'scratches diamond': 585, 'diamond missing': 164, 'missing diamonds': 373, 'diamonds shoulder': 167, 'shoulder ring': 608, 'ring returned': 556, 'returned ring': 510, 'ring replacement': 555, 'replacement ring': 507, 'ring second': 560, 'second ring': 587, 'ring even': 530, 'even worse': 193, 'worse clearly': 746, 'clearly visible': 106, 'visible white': 707, 'white scratch': 730, 'scratch right': 582, 'right middle': 514, 'middle black': 369, 'black diamond': 69, 'diamond not': 165, 'not look': 398, 'look great': 326, 'great time': 260, 'time diamond': 681, 'missing shoulder': 374, 'returned refund': 509, 'refund thanks': 503, 'thanks clot': 664, 'clot amazon': 109, 'huge': 277, 'waste': 712, 'money': 375, 'month': 376, 'part': 430, 'holds': 274, 'symbol': 660, 'necklace': 379, 'broke': 80, 'low': 355, 'quality': 481, 'item': 291, 'waste money': 713, 'quality item': 483, 'would': 749, 'recommend': 498, 'would not': 752, 'not recommend': 399, 'recommend item': 500, 'top': 688, 'scratched': 583, 'line': 319, 'saw': 579, 'store': 652, 'purchased': 478, 'item not': 293, 'hard': 266, 'ca': 87, 'wear': 716, 'easy': 178, 'got': 254, 'ca nt': 88, 'nt wear': 410, 'nt like': 408, 'wanted': 709, 'beyond': 60, 'gorgeous': 251, 'love': 347, 'wanted know': 710, 'know ring': 303, 'ring like': 540, 'like rings': 317, 'rings one': 574, 'one ring': 416, 'ring beyond': 522, 'beyond gorgeous': 61, 'gorgeous love': 252, 'expensive': 208, 'stone': 650, 'worth': 747, 'returning': 511, 'cost': 130, 'not worth': 401, 'ring cost': 527, 'wore': 741, 'sits': 620, 'broken': 81, 'sterling': 645, 'silver': 614, 'things': 669, 'sterling silver': 646, 'silver rings': 615, 'way': 714, 'small': 628, 'looks': 335, 'want': 708, 'nice': 387, 'small looks': 629, 'looks like': 339, 'fell': 218, 'metal': 367, 'already': 17, 'spend': 643, 'favorite': 217, 'mine': 370, 'cut': 143, 'seemed': 589, 'lot': 344, 'prettier': 460, 'sparkling': 642, 'turned': 695, 'since': 618, 'compliment': 125, 'anything': 32, 'sized': 623, 'stick': 647, 'different': 168, 'nice small': 390, 'small sized': 632, 'sized ring': 625, 'ring stick': 563, 'stick rings': 648, 'rings different': 570, 'different looks': 169, 'birthday': 64, 'imagine': 279, 'woman': 738, 'adoring': 11, 'got ring': 255, 'ring birthday': 523, 'birthday love': 66, 'love not': 348, 'not imagine': 397, 'imagine woman': 280, 'woman not': 739, 'not adoring': 394, 'adoring ring': 12, 'skeptically': 626, 'price': 464, 'gold': 246, 'necklaces': 380, 'work': 742, '35': 1, 'first skeptically': 225, 'skeptically ring': 627, 'ring price': 552, 'price low': 466, 'low nt': 356, 'wear lot': 717, 'lot gold': 346, 'gold purchased': 248, 'purchased ring': 479, 'ring nice': 546, 'nice gold': 388, 'gold necklaces': 247, 'necklaces wear': 381, 'wear wanted': 721, 'wanted ring': 711, 'ring work': 567, 'work ring': 743, 'nt look': 409, 'like 35': 312, '35 ring': 2, 'awesome': 44, 'index': 285, 'finger': 221, 'fits': 229, 'comfortable': 117, 'ring awesome': 520, 'awesome wear': 45, 'wear ring': 719, 'ring index': 539, 'index finger': 286, 'finger fits': 222, 'fits great': 230, 'great comfortable': 257, 'comfortable ring': 118, 'jeweller': 297, 'accommadating': 5, 'reach': 488, 'us': 701, 'appreciate': 34, 'care': 91, 'quick': 484, 'receiving': 495, 'thank': 662, 'not ring': 400, 'beautiful jeweller': 52, 'jeweller accommadating': 298, 'accommadating ring': 6, 'ring reach': 553, 'reach us': 489, 'us time': 702, 'time appreciate': 680, 'appreciate care': 35, 'care quick': 92, 'quick receiving': 485, 'receiving ring': 496, 'ring thank': 564, 'everyday': 197, 'get': 239, 'me': 366, 'love ring': 349, 'ring not': 547, 'ring would': 568, 'bought': 72, 'gift': 240, 'could': 131, 'hands': 264, 'heart': 269, 'kept': 300, 'bought ring': 73, 'could nt': 132, 'cut ring': 144, 'little': 320, 'better': 57, 'pink': 449, 'ring little': 541, 'small ring': 630, 'ring finger': 532, 'better pink': 59, 'pink ring': 450, 'pretty': 461, 'enough': 187, 'easily': 177, 'ring pretty': 551, 'husband': 278, 'loves': 353, 'thing': 668, 'made': 357, 'good': 249, 'definitely': 154, 'help': 270, 'however': 276, 'wearing': 722, 'next': 386, 'days': 150, 'tried': 691, 'notice': 404, 'cool': 129, 'complaint': 122, 'yellow': 756, 'much': 377, 'overall': 427, 'happy': 265, 'ring complaint': 526, 'rings not': 573, 'similar': 616, 'site': 619, 'ended': 183, 'back': 46, 'really': 491, 'wish': 734, 'around': 36, 'way around': 715, 'around ring': 37, 'ring great': 537, 'shipped': 603, 'shipping': 605, 'especially': 188, 'wears': 723, '10': 0, 'new': 384, 'guess': 262, 'order': 421, 'online': 418, 'quite': 487, 'see': 588, 'comfortable wear': 119, 'reviews': 512, 'picture': 437, 'pictures': 447, 'two': 696, 'going': 245, 'received': 493, 'smaller': 634, 'cross': 138, 'design': 160, 'different rings': 170, 'ring received': 554, 'shows': 610, 'blue': 70, 'disappointed': 171, 'dark': 147, 'stones': 651, 'advertised': 13, 'ring definitely': 529, 'definitely not': 156, 'also': 18, 'ever': 194, 'buying': 86, 'bit': 67, 'bulkier': 82, 'last': 306, 'liked': 318, 'catches': 96, 'attention': 40, 'ring also': 517, 'one first': 413, 'product': 471, 'fast': 216, 'small rings': 631, 'rings ring': 575, 'attractive': 41, 'high': 272, 'high quality': 273, 'rosary': 577, 'pleased': 454, 'opened': 420, 'need': 382, 'aware': 42, 'present': 459, 'sure': 658, 'fact': 212, 'looking': 332, 'items': 294, 'items seller': 295, 'still': 649, 'took': 687, 'less': 308, 'almost': 15, 'impossible': 281, 'wear necklace': 718, 'almost impossible': 16, 'sparkle': 640, 'dainty': 145, 'must': 378, 'for': 234, 'expecting': 207, 'color': 111, 'barely': 49, 'thought': 676, 'buy': 83, 'piece': 448, 'looked': 330, 'long': 323, 'replace': 505, 'hand': 263, 'given': 242, 'perfect': 433, 'delicate': 157, 'sturdy': 654, 'lovely': 352, 'detail': 161, 'elegant': 181, 'beautiful piece': 53, 'fit': 226, 'either': 179, 'side': 611, 'platino': 451, 'princess': 469, 'anchor': 26, 'add': 8, 'compliments': 126, 'bought two': 74, 'two rings': 697, 'rings fit': 572, 'fit either': 227, 'either side': 180, 'side platino': 613, 'platino princess': 452, 'princess wedding': 470, 'wedding ring': 726, 'ring help': 538, 'help anchor': 271, 'anchor add': 27, 'add ring': 9, 'ring perfect': 550, 'perfect fit': 434, 'fit lot': 228, 'lot compliments': 345, 'compliments new': 127, 'new ring': 385, 'say': 580, 'shines': 598, 'perfectly': 435, 'ring shines': 561, 'addition': 10, 'wonderful': 740, 'sending': 593, 'daughter': 149, 'ring ring': 558, 'girlfriend': 241, 'thickness': 665, 'always': 21, 'solid': 636, 'thickness ring': 666, 'absolutely': 3, 'engagement': 185, 'unable': 698, 'ring got': 536, 'engagement ring': 186, 'go': 244, 'find': 220, 'use': 703, 'ring fits': 534, 'nt buy': 406, 'celtic': 98, 'worried': 744, 'wide': 732, 'though': 674, 'man': 360, 'big': 62, 'arrived': 38, 'company': 121, 'fits right': 232, 'band since': 48, 'even though': 192, 'ring bought': 524, 'would definitely': 750, 'everyone': 199, 'comments': 120, 'would recommend': 753, 'recommend ring': 501, 'real': 490, 'friends': 237, 'cubic': 139, 'worth money': 748, 'owned': 429, 'far': 215, 'individual': 287, 'yet': 757, 'individual rings': 288, 'flower': 233, 'love rings': 350, 'date': 148, 'this': 673, 'actually': 7, 'unfortunately': 699, 'purchase': 475, 'without': 736, 'vacation': 704, 'otherwise': 425, 'harm': 267, 'dont': 173, 'unfortunately small': 700, 'small woman': 633, 'ring size': 562, 'impossible purchase': 282, 'purchase rings': 477, 'rings without': 576, 'without sized': 737, 'sized purchased': 624, 'would something': 754, 'something wear': 639, 'wear vacation': 720, 'vacation things': 705, 'things could': 670, 'could otherwise': 133, 'otherwise harm': 426, 'harm expensive': 268, 'expensive rings': 209, 'rings dont': 571, 'dont even': 174, 'even need': 191, 'need expensive': 383, 'fits looks': 231, 'looks beautiful': 336, 'stunning': 653, 'amethyst': 25, 'market': 363, 'prices': 468, 'ring absolutely': 516, 'ring anyone': 519, 'recently': 497, 'lost': 343, 'another': 28, 'sparkles': 641, 'ring much': 545, 'like one': 313, 'another ring': 30, 'ring look': 542, 'recommend anyone': 499, 'turn': 694, 'green': 261, 'surprise': 659, 'together': 686, 'make': 358, 'looked like': 331, 'ring always': 518, 'suggest': 656, 'every': 195, 'jewel': 296, 'collection': 110, 'wife': 733, 'course': 134, 'zirconia': 758, 'believe': 56, 'truly': 693, 'ring wear': 566, 'not expecting': 396, 'ring course': 528, 'cubic zirconia': 140, 'makes': 359, 'glad': 243, 'decided': 153, 'ordering': 424, 'year': 755, 'seen': 590, 'style': 655, 'eye': 211, 'catching': 97, 'cheap': 100, 'beautifully': 55, 'losing': 342, 'think': 671, 'deal': 151, 'fan': 214, 'ring right': 557, 'little bit': 321, 'tell': 661, 'bought wear': 75, 'every time': 196, 'exactly': 201, 'ring exactly': 531, 'great ring': 259, 'night': 392, 'gorgeous ring': 253, 'december': 152, 'box': 76, 'away': 43, 'suit': 657, 'excellent': 203, 'last december': 307, 'one wear': 417, 'expected': 206, 'totally': 689, 'true': 692, 'person': 436, 'shopping': 606, 'people': 432, 'picture looked': 440, 'even better': 190, 'better person': 58, 'catch': 95, 'thin': 667, 'within': 735, 'timely': 682, 'manner': 361, 'timely manner': 683, 'light': 310, 'shiny': 600, 'buy ring': 84, 'although': 19, 'opal': 419, 'customer': 141, 'nicely': 391, 'completely': 123, 'satisfied': 578, 'again': 14, 'blue opal': 71, 'absolutely beautiful': 4, 'color stones': 114, 'looking ring': 334, 'completely satisfied': 124, 'enamel': 182, 'life': 309, 'many': 362, 'purchase ring': 476, 'everything': 200, 'fell love': 219, 'family': 213, 'hoped': 275, 'impressed': 283, 'impressed quality': 284, 'buy seller': 85, 'service': 595, 'appearance': 33, 'not completely': 395, 'like pictures': 315, 'item arrived': 292, 'charm': 99, 'stem': 644, 'promptly': 474, 'well': 727, 'simple': 617, 'christmas': 102, 'loved': 351, 'definitely great': 155, 'extremely': 210, 'loves ring': 354, 'great gift': 258, 'it': 289, 'birthday gift': 65, 'ring gift': 535, 'someone': 637, 'would great': 751, 'showed': 609, 'everyday wear': 198, 'several': 596, 'bracelets': 77, 'close': 107, 'quality bracelets': 482, 'nice quality': 389, 'clasp': 103, 'fragile': 236, 'looks cheap': 337, 'side definitely': 612, 'poor': 457, 'craftsmanship': 137, 'june': 299, 'poor quality': 458, 'purple': 480, 'ended returning': 184, 'damaged': 146, 'product received': 473, 'customer service': 142, 'earrings': 176, 'described': 158, 'smooth': 635, 'shipped received': 604, 'pleased purchase': 455, 'good quality': 250, 'condition': 128, 'product arrived': 472, 'italian': 290, 'looks exactly': 338, 'exactly like': 202, 'receive': 492, 'peasant': 431, 'casual': 93, 'casual wear': 94, 'colors': 116, 'dress': 175, 'forward': 235, 'looking forward': 333, 'pictured': 446, 'seller not': 592, 'disappointed quality': 172, 'sent': 594, 'beads': 50, 'color beads': 112, 'brilliantly': 78, 'diamond looks': 163, 'looks pretty': 341, 'pretty big': 462, 'big price': 63, 'price shines': 467, 'shines brilliantly': 599, 'brilliantly color': 79, 'color nt': 113, 'look white': 329, 'white though': 731, 'though nt': 675, 'nt expect': 407, 'expect color': 205, 'color white': 115, 'white overall': 729, 'overall think': 428, 'think pretty': 672, 'pretty happy': 463, 'price beautiful': 465, 'amazing': 22, 'amazing price': 23, 'clear': 104, 'nothing': 402, 'ring looks': 543, 'looks nothing': 340, 'nothing like': 403, 'like picture': 314, 'picture diamonds': 438, 'crack': 135, 'large': 304, 'chip': 101, 'crack one': 136, 'one market': 415, 'market another': 364, 'another one': 29, 'one large': 414, 'large chip': 305, 'misleading': 371, 'picture stones': 445, 'although picture': 20, 'picture shows': 444, 'picture ring': 443, 'shape': 597, 'little disappointed': 322, 'received ring': 494, 'look picture': 328, 'picture looks': 441, 'picture nice': 442, 'polished': 456, 'look good': 325, 'picture like': 439}\n"
          ]
        }
      ],
      "source": [
        "print(vocab)"
      ]
    },
    {
      "cell_type": "markdown",
      "metadata": {
        "id": "FmAtZd_Gw9J0"
      },
      "source": [
        "### LSI comments\n",
        "From the graph we can see that all four methods performed comparably, with BM25 having the best balance between precision and recall with the largest area on the curve at 0.55, and a mean avg precision of 0.69 but not by a lot.\n",
        "\n",
        "Precision starts high (around 1.0, when k = 1 some methods are able to retrieve the correct relevant document) but decreases to approximately 0.5 once k = 20."
      ]
    },
    {
      "cell_type": "markdown",
      "metadata": {
        "id": "k0cKd09m55-k"
      },
      "source": [
        "## Neural Information Retreival"
      ]
    },
    {
      "cell_type": "markdown",
      "metadata": {
        "id": "0IdjrtNml6Rh"
      },
      "source": [
        "#### Prepare the dataset for training\n",
        "- Extract the ids [8x193]\n",
        "- Extract the relevant/not relevant labels for each query [8x193]\n",
        "- Using the ids to index the location of the doc in `clean_text` extract the docs [8x193]\n",
        "\n",
        "This produces an easily indexible list of lists, with index 0 corresponding to ids, relevancy labels and docs for query 1 and so on"
      ]
    },
    {
      "cell_type": "code",
      "execution_count": null,
      "metadata": {
        "id": "x9qTGQd0bLqf"
      },
      "outputs": [],
      "source": [
        "# My own knowledge\n",
        "pos_ids = [query_relevant[query].dropna().astype(int).to_list() for query in ['Query1', 'Query2', 'Query3', 'Query4', 'Query5', 'Query6', 'Query7', 'Query8']]\n",
        "\n",
        "ir_ids =[[] for _ in range(8)]\n",
        "ir_labels= [[] for _ in range(8)]\n",
        "for i, query in enumerate(['Query1', 'Query2', 'Query3', 'Query4', 'Query5', 'Query6', 'Query7', 'Query8']):\n",
        "  # Relevant ids for each query\n",
        "  rels = pos_ids[i]\n",
        "  # Loop through all ids\n",
        "  for id in ids:\n",
        "    # Append to id list, and if relevant append 1 to labels\n",
        "    id = int(id)\n",
        "    if id in rels:\n",
        "      ir_ids[i].append(id)\n",
        "      ir_labels[i].append(1)\n",
        "    else:\n",
        "      ir_ids[i].append(id)\n",
        "      ir_labels[i].append(0)\n",
        "\n",
        "# Now want to get the actual texts that correspond to the ids in the pos and neg lists\n",
        "ir_idxs = [[] for _ in range(8)]\n",
        "ir_text = [[] for _ in range(8)]\n",
        "for i in range(8):\n",
        "  # Get the location of each relevant id\n",
        "  ir_idxs[i].append([ids.index(str(id)) for id in ir_ids[i]])\n",
        "  # Use that to index the documents\n",
        "  ir_text[i].extend([clean_text[idx] for idx in ir_idxs[i][0]])"
      ]
    },
    {
      "cell_type": "markdown",
      "metadata": {
        "id": "stoFc-D2zPvw"
      },
      "source": [
        "#### Train the dataset. Due to time, data and memory constraints, this model was only trained using one batch of ten data points for arbitrarily chosen query 7 -  so it probably didn't particularly help the model performance - but good practise"
      ]
    },
    {
      "cell_type": "code",
      "execution_count": null,
      "metadata": {
        "id": "dz16WYNgf5md"
      },
      "outputs": [],
      "source": [
        "# This code was adapted from https://huggingface.co/transformers/v3.0.2/training.html\n",
        "\n",
        "def loss(query_emb, emb, labels, margin=0.2):\n",
        "  '''Use the Cosine embedding loss function '''\n",
        "  # Extract embeddings (CLS token)\n",
        "  query_emb = query_emb.last_hidden_state[:, 0, :]\n",
        "  emb = emb.last_hidden_state[:, 0, :]\n",
        "\n",
        "  # Get target labels for CosineEmbeddingLoss (-1 for negative, 1 for positive)\n",
        "  target = torch.where(labels == 1, torch.tensor(1.0), torch.tensor(-1.0))\n",
        "\n",
        "  # CosineEmbeddingLoss\n",
        "  loss_fn = nn.CosineEmbeddingLoss(margin=margin)\n",
        "\n",
        "  # Calculate loss\n",
        "  loss = loss_fn(query_emb, emb, target)\n",
        "  return loss\n",
        "\n",
        "# Load the Pre-trained distilBERT model\n",
        "checkpoint = 'distilbert-base-uncased'\n",
        "tokenizer = DistilBertTokenizerFast.from_pretrained(checkpoint)\n",
        "model = DistilBertModel.from_pretrained(checkpoint)\n",
        "\n",
        "# Init optimiser\n",
        "optimizer = AdamW(model.parameters(), lr=1e-5)\n",
        "\n",
        "# Data - chose query 7 arbitrarily for training\n",
        "text_batch = [' '.join(t) for t in ir_text[6]]\n",
        "labels = ir_labels[6]\n",
        "query = query_list[6]\n",
        "\n",
        "# Batch data (time and mem constraints, would normally use a larger proportion)\n",
        "text_batch = text_batch[159:169] #include some relevant docs as well\n",
        "labels = labels[159:169]\n",
        "\n",
        "# Tokenize data\n",
        "t_encoding = tokenizer(text_batch, return_tensors='pt', padding=True, truncation=True)\n",
        "q_encoding = tokenizer(query, return_tensors='pt', padding=True, truncation=True)\n",
        "\n",
        "# Forward pass over the model\n",
        "emb = model(**t_encoding)\n",
        "quer_emb = model(**q_encoding)\n",
        "\n",
        "# Train model\n",
        "loss = loss(quer_emb, emb, torch.tensor(labels))\n",
        "loss.backward()\n",
        "optimizer.step()\n",
        "\n",
        "# Save model\n",
        "torch.save(model.state_dict(), \"distilbert_retrieval.pth\")"
      ]
    },
    {
      "cell_type": "markdown",
      "metadata": {
        "id": "7HxpbJ_az1QU"
      },
      "source": [
        "#### Load in the model"
      ]
    },
    {
      "cell_type": "code",
      "execution_count": null,
      "metadata": {
        "colab": {
          "base_uri": "https://localhost:8080/"
        },
        "id": "9AgdBQd5FHkJ",
        "outputId": "389c96f1-02ac-4fea-f44e-b8a1827fa956"
      },
      "outputs": [
        {
          "output_type": "execute_result",
          "data": {
            "text/plain": [
              "<All keys matched successfully>"
            ]
          },
          "metadata": {},
          "execution_count": 35
        }
      ],
      "source": [
        "model_bert = DistilBertModel.from_pretrained(checkpoint)\n",
        "model_bert.load_state_dict(torch.load(\"distilbert_retrieval.pth\", weights_only=True))"
      ]
    },
    {
      "cell_type": "markdown",
      "metadata": {
        "id": "MkmpjcAfz42M"
      },
      "source": [
        "#### Now ready to do the actual retrieval:"
      ]
    },
    {
      "cell_type": "code",
      "execution_count": null,
      "metadata": {
        "colab": {
          "base_uri": "https://localhost:8080/",
          "height": 507
        },
        "id": "TLi1A8C8tGUp",
        "outputId": "774b3e79-3f9d-43fd-a736-6577b6e3e68d"
      },
      "outputs": [
        {
          "output_type": "stream",
          "name": "stdout",
          "text": [
            "Mean avg precision bm25: 0.05\n",
            "Area under precision/recall curve for method DistilBert NIR: 0.01\n"
          ]
        },
        {
          "output_type": "display_data",
          "data": {
            "text/plain": [
              "<Figure size 640x480 with 1 Axes>"
            ],
            "image/png": "[encoded data removed]"
          },
          "metadata": {}
        }
      ],
      "source": [
        "# embed_text function https://github.com/gcosma/COP509/blob/main/Tutorials/Tutorial6UsingBERTfortheFirstTime.ipynb\n",
        "# faiss https://github.com/facebookresearch/faiss/wiki/getting-started\n",
        "# Method https://medium.com/@mhammadkhan/neural-re-ranking-models-c0a67278f626\n",
        "\n",
        "\n",
        "def embed_text(texts, max_length=512):\n",
        "  '''Use the trained bert model to embed texts - get the CLS token '''\n",
        "  # Tokenize text and pad\n",
        "  tokenized = tokenizer(texts, add_special_tokens=True, padding=True,\n",
        "                        truncation=True, max_length=max_length, return_tensors=\"pt\")\n",
        "  # Get embeddings\n",
        "  with torch.no_grad():\n",
        "    last_hidden_states = model_bert(**tokenized)\n",
        "  embeddings = last_hidden_states[0][:, 0, :].numpy()\n",
        "\n",
        "  return embeddings\n",
        "\n",
        "def build_faiss_index(embeddings):\n",
        "  '''Build a faiss index to store the embeddings, its faster for lookups '''\n",
        "  index = faiss.IndexFlatL2(embeddings.shape[1])\n",
        "  index.add(embeddings)\n",
        "  return index\n",
        "\n",
        "def retreive(query, index, top_k):\n",
        "  '''Retrieve top_k docs by their ids'''\n",
        "  # Embed query and search the faiss index for close docs\n",
        "  query_embedding = embed_text(query)\n",
        "  distances, indexes = index.search(query_embedding, top_k)\n",
        "  return [int(ids[i]) for i in indexes[0]]\n",
        "\n",
        "def rerank(query, retrieved_ids, top_k=10):\n",
        "  '''Re rank retrieved docs using the cosine distance '''\n",
        "  # Embed query and retrieved docs\n",
        "  query_embedding = embed_text(query)  # Embed the query\n",
        "\n",
        "  retrieved_idxs = np.where(np.isin(ids, retrieved_ids))[0]  # Get indexes of retrieved doc ids\n",
        "  retrieved_texts = [texts[i] for i in retrieved_idxs] # Get the retrieved docs\n",
        "  retrieved_texts = [' '.join(t) for t in texts] # format\n",
        "\n",
        "  retrieved_embeddings = embed_text(retrieved_texts)  # Embed the retrieved documents\n",
        "\n",
        "  # Compute cosine similarity between query and each retrieved document\n",
        "  similarities = cosine_similarity(query_embedding, retrieved_embeddings)\n",
        "\n",
        "  # Get the indices of the retrieved docs based on similarity\n",
        "  reranked_idxs = np.argsort(similarities[0])[::-1]\n",
        "  reranked_ids = [ids[i] for i in reranked_idxs]\n",
        "\n",
        "  return reranked_ids\n",
        "\n",
        "# Prepare texts, embed them, and store the embeddings in the faiss index\n",
        "texts = [' '.join(t) for t in text]\n",
        "embeddings = embed_text(texts)\n",
        "faiss_index = build_faiss_index(embeddings)\n",
        "\n",
        "# Data stores\n",
        "precision=[]\n",
        "recall=[]\n",
        "\n",
        "# Loop through each query\n",
        "for query, q in zip(query_list, range(0, len(query_list))):\n",
        "  #Retrieve and re rank ids\n",
        "  retrieved_ids = retreive(query, faiss_index, 30)\n",
        "  reranked_ids = rerank(query, retrieved_ids)\n",
        "\n",
        "  query_relevant_ids = query_relevant.iloc[:,q].dropna().astype(int).tolist()\n",
        "\n",
        "  # Calculate Evaluation metrics\n",
        "  prec_at_k, rec_at_k = calc_prec_rec_at_k(query_relevant_ids, retrieved_ids, k_values)\n",
        "  precision.append(prec_at_k)\n",
        "  recall.append(rec_at_k)\n",
        "\n",
        "avg_precision = np.mean(precision, axis=0)\n",
        "avg_recall = np.mean(recall, axis=0)\n",
        "MAP = (sum(avg_precision)/len(avg_precision))\n",
        "\n",
        "# Output reuslts\n",
        "plot_eval_curve({'NIR': (avg_recall, avg_precision)})\n",
        "\n",
        "print(f'Mean avg precision {method}: {MAP:.2f}')\n",
        "print(f'Area under precision/recall curve for method DistilBert NIR: {metrics.auc(avg_recall, avg_precision):.2f}')"
      ]
    },
    {
      "cell_type": "markdown",
      "metadata": {
        "id": "szIUXPSK2jpM"
      },
      "source": [
        "### Neural Information Retrieval model comments\n",
        "\n",
        "Evidently the LSI model performed much better. The model was only trained on ten data points for question 7 making it unlikely to be able to generalise well. The neural retrieval precision/recall graph has a much lower precision"
      ]
    },
    {
      "cell_type": "markdown",
      "metadata": {
        "id": "ydRC8ucL3-I6"
      },
      "source": [
        "# Question 3\n",
        "## Clustering\n"
      ]
    },
    {
      "cell_type": "markdown",
      "metadata": {
        "id": "tUR5oI7TNWAB"
      },
      "source": [
        "### Imports for clustering and relevant functions"
      ]
    },
    {
      "cell_type": "code",
      "execution_count": null,
      "metadata": {
        "id": "xWRZiN9Z38v3"
      },
      "outputs": [],
      "source": [
        "from sklearn.cluster import KMeans, AgglomerativeClustering\n",
        "from sklearn.decomposition import TruncatedSVD, PCA\n",
        "from sklearn.preprocessing import MinMaxScaler\n",
        "from sklearn.metrics import silhouette_score, davies_bouldin_score\n",
        "from scipy.spatial.distance import cdist\n",
        "from sklearn.feature_selection import SelectKBest, f_classif\n",
        "import numpy as np\n",
        "import pandas as pd\n",
        "\n",
        "def closest_docs_to_centroid(text_vecs, centroids, labels):\n",
        "  #calc distances from each doc to each centroid\n",
        "  distances = cdist(text_vecs, centroids, 'cosine')\n",
        "\n",
        "  closest_docs=[]\n",
        "  for i in range(len(centroids)):\n",
        "    cluster_docs_idx = np.where(labels == i)[0]\n",
        "\n",
        "    closest_doc_idx = np.argsort(distances[cluster_docs_idx, i])\n",
        "    sorted_closest_docs = cluster_docs_idx[closest_doc_idx]\n",
        "    closest_docs.append(sorted_closest_docs[:5])\n",
        "\n",
        "  return closest_docs\n",
        "\n",
        "def cluster_wrapper(method, data, n_clusters):\n",
        "  if method == 'agglom':\n",
        "    clustering = AgglomerativeClustering(n_clusters=n_clusters, metric='cosine', linkage='average').fit(data)\n",
        "    return clustering\n",
        "  elif method == 'kmeans':\n",
        "    kmeans = KMeans(n_clusters=n_clusters, random_state=0).fit(data)\n",
        "    return kmeans"
      ]
    },
    {
      "cell_type": "markdown",
      "metadata": {
        "id": "r7WnddJNNaTg"
      },
      "source": [
        "### We know from the graph that LSI with BM25 encoding works the best - so lets use that - with arbitrarily chosen query 3\n",
        "This is just a repeat of the above LSI code without the loops and metric calculations"
      ]
    },
    {
      "cell_type": "code",
      "execution_count": null,
      "metadata": {
        "id": "1ze5LaPrL-qo"
      },
      "outputs": [],
      "source": [
        "# As stated above, adapted from https://github.com/gcosma/COP509/blob/main/Tutorials/Tutorial4LSA.ipynb\n",
        "\n",
        "Xtrain = encode_data(train_docs, 'bm25', vocab)\n",
        "trunc_SVD_model = TruncatedSVD(n_components=50)\n",
        "approx_Xtrain = trunc_SVD_model.fit_transform(Xtrain)\n",
        "\n",
        "# prepare each query and query_vector in list according to method\n",
        "encoded_query = prepare_query(query_list[2], 'bm25', vocab)\n",
        "query_vector = trunc_SVD_model.transform(encoded_query)\n",
        "similarities = cosine_similarity(approx_Xtrain, query_vector)\n",
        "\n",
        "# sort by similarity\n",
        "indexes = np.argsort(similarities.flat)[::-1]\n",
        "retrieved_ids = [int(ids[i]) for i in indexes]\n",
        "\n",
        "#store appropriate retrieved doc vectors\n",
        "retrieved = [approx_Xtrain[i] for i in indexes]"
      ]
    },
    {
      "cell_type": "markdown",
      "metadata": {
        "id": "YQJEOO7mNxBd"
      },
      "source": [
        "### Now ready to start clustering"
      ]
    },
    {
      "cell_type": "code",
      "execution_count": null,
      "metadata": {
        "id": "Q6ODEfxPMCW6"
      },
      "outputs": [],
      "source": [
        "# My own knowledge with help from docs https://scikit-learn.org/stable/\n",
        "\n",
        "#chosen query, lsi with bm25 normalisation\n",
        "top_100 = retrieved[:100]\n",
        "top_100_ids = retrieved_ids[:100]\n",
        "n_clus=30\n",
        "\n",
        "#scale input data\n",
        "scaler = MinMaxScaler()\n",
        "top_100_sc = scaler.fit_transform(top_100)\n",
        "\n",
        "ss_score=[[],[]]\n",
        "db_score=[[],[]]\n",
        "ssd_score=[[],[]]\n",
        "\n",
        "#calculate clusters, store results\n",
        "for method in ['agglom', 'kmeans']:\n",
        "  for n_clusters in range(3,n_clus):\n",
        "    clusters = cluster_wrapper(method, top_100_sc, n_clusters)\n",
        "    #select best features\n",
        "    selector = SelectKBest(f_classif, k=1000)\n",
        "    X_selected = selector.fit_transform(top_100, clusters.labels_)\n",
        "    #re cluster\n",
        "    clusters = cluster_wrapper(method, X_selected, n_clusters)\n",
        "\n",
        "    if method == 'agglom':\n",
        "      ss_score[0].append(silhouette_score(top_100, clusters.labels_, metric='cosine'))\n",
        "      db_score[0].append(davies_bouldin_score(top_100, clusters.labels_))\n",
        "\n",
        "    else:\n",
        "      ss_score[1].append(silhouette_score(top_100, clusters.labels_, metric='cosine'))\n",
        "      db_score[1].append(davies_bouldin_score(top_100, clusters.labels_))\n",
        "      ssd_score[1].append(np.sum(clusters.inertia_))\n",
        "\n",
        "cluster_scores = pd.DataFrame({'n_clusters':range(3,n_clus),\n",
        "                               'ss_agglom':ss_score[0], 'ss_kmeans':ss_score[1],\n",
        "                               'db_agglom':db_score[0], 'db_kmeans':db_score[1],\n",
        "                               'ssd_kmeans':ssd_score[1]})\n"
      ]
    },
    {
      "cell_type": "code",
      "execution_count": null,
      "metadata": {
        "colab": {
          "base_uri": "https://localhost:8080/",
          "height": 907
        },
        "id": "577SDFVN4iMA",
        "outputId": "046b7b66-cf0a-49cc-9d94-33a8ac67aa9b"
      },
      "outputs": [
        {
          "output_type": "display_data",
          "data": {
            "text/plain": [
              "<Figure size 600x900 with 3 Axes>"
            ],
            "image/png": "[encoded data removed]"
          },
          "metadata": {}
        }
      ],
      "source": [
        "# My own knowledge\n",
        "\n",
        "# Plot each metric\n",
        "fig, ax = plt.subplots(3, 1, figsize=(6,9))\n",
        "metrics = [('ss_agglom', 'ss_kmeans'), ('db_agglom', 'db_kmeans'), ('ssd_kmeans', None)]\n",
        "titles = ['Silhouette Score', 'Davies-Bouldin Score', 'SSD for K-Means']\n",
        "\n",
        "for i, (m1, m2) in enumerate(metrics):\n",
        "    ax[i].plot(cluster_scores['n_clusters'], cluster_scores[m1],label=m1)\n",
        "    if m2: ax[i].plot(cluster_scores['n_clusters'], cluster_scores[m2],label=m2)\n",
        "    ax[i].set_title(titles[i])\n",
        "    ax[i].legend(), ax[i].grid(alpha=0.5)\n",
        "\n",
        "plt.tight_layout()\n",
        "plt.show()"
      ]
    },
    {
      "cell_type": "code",
      "execution_count": null,
      "metadata": {
        "colab": {
          "base_uri": "https://localhost:8080/"
        },
        "id": "VsxknjH-UYva",
        "outputId": "74a8f5f6-d44e-4366-a080-d0c1fb403ea7"
      },
      "outputs": [
        {
          "output_type": "stream",
          "name": "stdout",
          "text": [
            "Best n_clusters for Agglomerative Clustering: 19.0\n",
            "Best n_clusters for K-Means: 5.0\n"
          ]
        }
      ],
      "source": [
        "# https://www.geeksforgeeks.org/what-are-some-common-methods-for-determining-the-optimal-number-of-clusters/\n",
        "\n",
        "# Choose the best num of clusters based on silhouette scores\n",
        "best_n_agglom = cluster_scores.iloc[cluster_scores['ss_agglom'].idxmax()]['n_clusters']\n",
        "best_n_kmeans = cluster_scores.iloc[cluster_scores['ss_kmeans'].idxmax()]['n_clusters']\n",
        "\n",
        "print(f\"Best n_clusters for Agglomerative Clustering: {best_n_agglom}\")\n",
        "print(f\"Best n_clusters for K-Means: {best_n_kmeans}\")"
      ]
    },
    {
      "cell_type": "code",
      "execution_count": null,
      "metadata": {
        "colab": {
          "base_uri": "https://localhost:8080/",
          "height": 564
        },
        "id": "jcFntPELSjFP",
        "outputId": "a91143fc-050d-4ffb-8bee-11fe1b99c7a7"
      },
      "outputs": [
        {
          "output_type": "display_data",
          "data": {
            "text/plain": [
              "<Figure size 1000x600 with 1 Axes>"
            ],
            "image/png": "[encoded data removed]"
          },
          "metadata": {}
        }
      ],
      "source": [
        "# My own knowledge with help from docs https://scikit-learn.org/stable/\n",
        "\n",
        "clusters = KMeans(n_clusters=int(best_n_kmeans)).fit(top_100_sc)\n",
        "\n",
        "# Reduce dims\n",
        "X_reduced = PCA(n_components=2).fit_transform(top_100_sc)\n",
        "\n",
        "# Scatter plot\n",
        "plt.figure(figsize=(10, 6))\n",
        "for i in range(20):\n",
        "    plt.scatter(X_reduced[clusters.labels_ == i, 0], X_reduced[clusters.labels_ == i, 1], label=f'Cluster {i}')\n",
        "\n",
        "plt.legend()\n",
        "plt.title(\"Clustering Visualization (PCA Reduced)\")\n",
        "plt.xlabel(\"PCA Component 1\")\n",
        "plt.ylabel(\"PCA Component 2\")\n",
        "plt.show()"
      ]
    },
    {
      "cell_type": "markdown",
      "metadata": {
        "id": "syo7bJ053i38"
      },
      "source": [
        "#### Print the top 5 closest docs to each centroid"
      ]
    },
    {
      "cell_type": "code",
      "execution_count": null,
      "metadata": {
        "colab": {
          "base_uri": "https://localhost:8080/"
        },
        "id": "ELD0VegfDH7G",
        "outputId": "9f006fb3-b2a1-4107-fc25-dd60617f14c2"
      },
      "outputs": [
        {
          "output_type": "stream",
          "name": "stdout",
          "text": [
            "Agglom cluster 0: 1\n",
            "Rating : 3 Review: ring pretty enough metal ring substantial pushes easily\n",
            "--------------------------------------------------\n",
            "Agglom cluster 1: 20\n",
            "Rating : 4 Review: got 3 belly rings 3 tongue rings 3 lip rings fig car stuff got cool love pink peace sign tongue ring complaint got 2 yellow lip rings not much yellow overall happy\n",
            "Rating : 4 Review: love ring complaint metal soft bent point wear anymore still wear necklace love occasion bluish onto figure took less two months almost impossible wear\n",
            "Rating : 5 Review: ring lovely advertised pink ring actually wear thumb ring\n",
            "Rating : 5 Review: flute charm detailed high quality see keys flute fan would adore item\n",
            "Rating : 5 Review: love ring flowers go way around ring fits ring finger ever find right nt buy engagement ring use engagement ring not getting debt marriage\n",
            "--------------------------------------------------\n",
            "Agglom cluster 2: 17\n",
            "Rating : 5 Review: ring gorgeous fits right sterling silver celtic rings little worried first size band since 10 wear 9 band wide ring fits perfectly hardly loose even though man ring nt big clung must lovers celtic rings ring also arrived quickly ring bought company would definitely business\n",
            "Rating : 5 Review: fussy attractive ring purchased replacement lost wedding ring stacks beautifully engagement ring also perfect catching light appealing luminosity\n",
            "Rating : 5 Review: wife needed ring wear since actual wedding ring lost not expecting one million dollar ring course arrived not turned heads coworkers actually noticed ring ever noticed old ring cubic zirconia looks authentic enough basic scrutiny may never go back diamond ring wedding ring always silver band believe ring truly defines subliminal misconception deserves diamondgreat temporary ring care price perfect choice want turn heads without breaking bank\n",
            "Rating : 5 Review: unfortunately small woman almost impossible purchase rings without sized purchased ring would something wear vacation things could otherwise harm expensive rings dont even need expensive rings ring stunning delicate beautiful ring fits looks awesum\n",
            "Rating : 5 Review: ring absolutely stunning beautiful would recommend amethyst ring anyone market reasonably prices amethyst ring\n",
            "--------------------------------------------------\n",
            "Agglom cluster 3: 1\n",
            "Rating : 4 Review: nice small sized ring stick rings different looks\n",
            "--------------------------------------------------\n",
            "Agglom cluster 4: 61\n",
            "Rating : 1 Review: huge waste money month part holds symbol necklace broke seriously not wasting money low quality item\n",
            "Rating : 5 Review: bought ring old date beautiful ring fair price guy looking save money afford engagement ring definitely get this\n",
            "Rating : 5 Review: recently lost ring much like one searching high low another ring replace one lost came across ring ring absolutely brilliant ring look shines sparkles like little diamonds love ring would recommend anyone wants ring element adorable time\n",
            "Rating : 5 Review: second engagement king got birthday love nice shiny must buy ring anyone\n",
            "Rating : 5 Review: love ring snug thickness ring wanting buy ring buy size largerthe ring beautiful although bought bc boys autismi using new wedding band since go rings ofteni nt think ever replace ring going buy hobby one\n",
            "--------------------------------------------------\n"
          ]
        }
      ],
      "source": [
        "# My own knowledge\n",
        "# Calc closest docs to each centroid\n",
        "closest_idxs = closest_docs_to_centroid(top_100_sc, clusters.cluster_centers_, clusters.labels_)\n",
        "\n",
        "# Print\n",
        "for i in range(int(best_n_kmeans)):\n",
        "    print(f'Agglom cluster {i}: {np.sum(clusters.labels_ == i)}')\n",
        "    for idx in closest_idxs[i]:\n",
        "        print(f'Rating : {ratings[idx]} Review: {\" \".join(clean_text[idx])}')\n",
        "    print(50*'-')"
      ]
    },
    {
      "cell_type": "markdown",
      "metadata": {
        "id": "3OqK7uo33pPG"
      },
      "source": [
        "#### Print each cluster with more than 5 docs - this is what will be used for clustering"
      ]
    },
    {
      "cell_type": "code",
      "execution_count": null,
      "metadata": {
        "colab": {
          "base_uri": "https://localhost:8080/"
        },
        "id": "JbybM_1UvVQz",
        "outputId": "de9ac407-fa71-490b-b2e4-cc168d3aaa86"
      },
      "outputs": [
        {
          "output_type": "stream",
          "name": "stdout",
          "text": [
            "Cluster 1: 20\n",
            "Rating : 5 Review: happy say though not receive order first time ordered cross company amazon stand behind product refund money spent item since reordered item arrived timely manner cross really nice thank great customer service\n",
            "Rating : 1 Review: rings looks nothing like picture stones small barely even tell stones ring thin small looks like ring would buy egg machine returned promptly misleading buy\n",
            "Rating : 1 Review: ring looks nothing like picture diamonds small not noticeable sending back\n",
            "Rating : 1 Review: ring looks beautiful picture see reality cubic zirconia small ring looks tiny also cubic zirconia dull ring received looks like worn disgusted purchase nt buy seller not like false imagine ring looks cheap sold much less real ripoff\n",
            "Rating : 4 Review: diamond looks pretty big price shines brilliantly color nt look white though nt expect color white overall think pretty happy\n",
            "Rating : 5 Review: diamond looks pretty big price shines brilliantly color nt look white though nt expect color white overall think pretty happy\n",
            "Rating : 4 Review: got 3 belly rings 3 tongue rings 3 lip rings fig car stuff got cool love pink peace sign tongue ring complaint got 2 yellow lip rings not much yellow overall happy\n",
            "Rating : 2 Review: king way small looks like toy putting would not recommend want nice 12 cart ring\n",
            "Rating : 5 Review: wife needed ring wear since actual wedding ring lost not expecting one million dollar ring course arrived not turned heads coworkers actually noticed ring ever noticed old ring cubic zirconia looks authentic enough basic scrutiny may never go back diamond ring wedding ring always silver band believe ring truly defines subliminal misconception deserves diamondgreat temporary ring care price perfect choice want turn heads without breaking bank\n",
            "Rating : 4 Review: solidbeautiful ring expecting color picture disappointed barely pink first saw thought lavender still pretty buy design not color\n",
            "Rating : 1 Review: nt like product diamonds looked nothing like picture diamonds flowed little bit\n",
            "Rating : 5 Review: ought ring thumb ring everyone notices comments pretty cool looks spin want know got would recommend ring one also come\n",
            "Rating : 5 Review: recently lost ring much like one searching high low another ring replace one lost came across ring ring absolutely brilliant ring look shines sparkles like little diamonds love ring would recommend anyone wants ring element adorable time\n",
            "Rating : 1 Review: expect like regular size ring one look like ring toy something funny rings 5mm ring may 1mmso ridiculousmartin15 itto round diamond voltaire king ask white old\n",
            "Rating : 2 Review: got ring hoping looks like picture misleading purchase ring please aware 110 cut means diamonds really small man looking buy ring significant would recommend spend little bit buy better looking ring ended returning\n",
            "Rating : 3 Review: ring pretty flexible turned good ordered ring finger size made look better pink ring\n",
            "Rating : 5 Review: love ring flowers go way around ring fits ring finger ever find right nt buy engagement ring use engagement ring not getting debt marriage\n",
            "Rating : 5 Review: love rings need pink rings hard find size 4 rings nt children ring nice nice flower ring perfect pink ring me\n",
            "Rating : 2 Review: usually love rings company warned ring nt look anything like picture ring received super long rectangular stone not nice square seen picture line also varnished looked like torch marks side definitely returning ring\n",
            "Rating : 3 Review: ring little small ring finger would better pink ring\n",
            "--------------------------------------------------\n",
            "Cluster 2: 17\n",
            "Rating : 5 Review: not completely sure buying jewellery internet type gift like see handle item decide pressed time like pictures item decided take chance glad impressed quality appearance item arrived price low compared quality wife pleased jewellery item\n",
            "Rating : 5 Review: ordered ring last december opened ring box arrived absolutely took breath away gorgeous ring pictures nt justice size color stone suit taste perfectly quality ring excellent quite variety silver rings ring one wear regular basis taste rings toward boldunique side ring definitely fits bill\n",
            "Rating : 1 Review: ordered ring stated toe king description ring came quickly not toe ring nt know anyone size 8 toe know anyone please direct seller wedding band toe ring thumb ring sick one\n",
            "Rating : 5 Review: love ring fits right showed daughter ring loved well great everyday wear price great\n",
            "Rating : 4 Review: told ring comfortable wear quite surprised please see masonic ring titanic\n",
            "Rating : 2 Review: serves purpose seemed image lot prettier sparkling turned wear shirt since not compliment anything wear\n",
            "Rating : 4 Review: peasant classify best casual wear wear weekend nt not suited work going events\n",
            "Rating : 4 Review: nt even ordered ring read reviews notice picture 1 pictures 23 two different rings going order ring seems ring received andrd ring smaller cross design\n",
            "Rating : 4 Review: picture rings shows blue sapphires disappointed see ring received dark stones appear black ring definitely not advertised\n",
            "Rating : 5 Review: nice wear want something casual wear comfortable\n",
            "Rating : 3 Review: love ring not ring would want wear everyday ring claws hold stone sharp get stuck things scratched me\n",
            "Rating : 5 Review: days not wear blue one wear one really enjoy wearing something celtic pretty\n",
            "Rating : 4 Review: wear charm memory 3 friends passed away wish nt wear honor do\n",
            "Rating : 5 Review: label pin perfect detail wear colors plan wear label wear suit penis nice enough wear formal occasionsdear pride\n",
            "Rating : 4 Review: love ring complaint metal soft bent point wear anymore still wear necklace love occasion bluish onto figure took less two months almost impossible wear\n",
            "Rating : 5 Review: unique pleasure wear stones catch light style comfortable wear\n",
            "Rating : 2 Review: wore toe ring one day poof stone gone sits pile broken sterling silver rings things\n",
            "--------------------------------------------------\n",
            "Cluster 4: 61\n",
            "Rating : 5 Review: arrived estimated date many previous orders seller always time excellent condition\n",
            "Rating : 5 Review: happy product received advertised timely manner selleramazon kept updated shipmentdelivery status would recommend item seller\n",
            "Rating : 5 Review: stem great quality came promptly happy recommend undeservedly\n",
            "Rating : 5 Review: purchased several items petya not products first rate packing customer service excellent\n",
            "Rating : 5 Review: impressed quality would not hesitate purchase items seller service also exceptional\n",
            "Rating : 4 Review: could see quality work rosary pleased opened container could immediately smell olive wood one thing buyers need aware buying item nt mentioned description holy present compartment rosary opinion adds quality rosary not sure seller nt describe fact looking items seller\n",
            "Rating : 1 Review: product hollow not clearly specified item description not expecting seemed poor quality returned item\n",
            "Rating : 5 Review: great gift loved one ever better seller seller deals professional way security measures superb\n",
            "Rating : 5 Review: product received nice came timely matter faster expected order item again\n",
            "Rating : 1 Review: item not pictured funny poor quality seller not respond contracted this\n",
            "Rating : 5 Review: impressed quality item delivery fast would definitely buy seller again\n",
            "Rating : 5 Review: neck ring timely manner looks antique would recommend ring garden lover\n",
            "Rating : 4 Review: received italian horn printing condition completely satisfied receiving product timely manner\n",
            "Rating : 3 Review: product arrived short period time perfect described perfectly everything hoped\n",
            "Rating : 2 Review: stem arrived extremely damaged several places not package well send back disappointed quality\n",
            "Rating : 4 Review: product arrived perfect condition shipping ridiculously slow not order again\n",
            "Rating : 5 Review: flute charm detailed high quality see keys flute fan would adore item\n",
            "Rating : 4 Review: birthday gift 16 niece loves ring happy received it\n",
            "Rating : 4 Review: product came fast like amazon explained ring clearly written war thick likebut guess like small rings ring\n",
            "Rating : 5 Review: item wonderful surprise quality much could ever hoped for\n",
            "Rating : 5 Review: product made great gift great memories love something always helping gift heart always shows care\n",
            "Rating : 1 Review: disappointed quality item fragile thin discoloured back charm not returnable not ordering amazon jeweller future thank you\n",
            "Rating : 1 Review: quality look not anticipated fliesi would not recommend item\n",
            "Rating : 5 Review: wife loves ring great gift extremely cheap high quality\n",
            "Rating : 4 Review: attractive high quality item young teenager small adult\n",
            "Rating : 5 Review: wonderful shopping experience purchased item holiday presents whole order came quickly wonderful condition\n",
            "Rating : 5 Review: got ring gift boyfriend love thing rings not position correctly inches skin\n",
            "Rating : 4 Review: item came quickly plenty time christmas huge hit person received them\n",
            "Rating : 1 Review: quality item not expectationsthe top scratched hinges not line predrilled holes staining inconsistent saw item store would not purchased\n",
            "Rating : 5 Review: pleased quality item definitely recommend addition friends family\n",
            "Rating : 4 Review: always love pillow free make great gifts great people life quite collection hope continue build\n",
            "Rating : 5 Review: works perfectly rings wider rings narrow wide\n",
            "Rating : 5 Review: nice loves birth stone got christmas lifti also love also great\n",
            "Rating : 4 Review: message positive looks pretty bought aunt present color nice\n",
            "Rating : 2 Review: stem shipped received within time limit given good quality product t\n",
            "Rating : 5 Review: ring good sparkle looks like ring cost six amount takes great gift someone budget girlfriend loves it\n",
            "Rating : 5 Review: owned several claddagh rings years lost last one received one gift recently truly love sturdy design crisp easily recommend one lovely ring\n",
            "Rating : 5 Review: looked well picture thing could say little polished looks like black stands looks nice\n",
            "Rating : 5 Review: always wanted claddaugh ringhis price greati love it\n",
            "Rating : 5 Review: item perfect daily wear still elegant enough dress receive many compliments wearing it\n",
            "Rating : 5 Review: earrings described transaction smooth easy product shipped received time frame quoted pleased purchase\n",
            "Rating : 5 Review: great way support local pro sports team without wearing oversized jersey hat mess hair\n",
            "Rating : 5 Review: love birthstone wanted piece jewel symbolized simple purity blue opal ring gift birthday year definitely great gift welcomed addition collection\n",
            "Rating : 3 Review: one beautiful rosary seen smoothness color beads translucent looking almost looks like glass workmanship excellent details beautiful truly beautiful piece own\n",
            "Rating : 5 Review: ring perfect say spend thousands nt ring shines perfectly love ring\n",
            "Rating : 1 Review: item misrepresented size quality horrible would return item except family member coast guard sent total waste money\n",
            "Rating : 2 Review: week one jewels fell wing metal already vanishing spend money higher quality item\n",
            "Rating : 5 Review: got ring promise ring girlfriend christmas loved definitely great value\n",
            "Rating : 5 Review: mother loved great birthday gift look even better person go great anything\n",
            "Rating : 3 Review: husband loves thing ring resided due way ring made\n",
            "Rating : 5 Review: nice looks picture like\n",
            "Rating : 3 Review: although picture looks like metal beads description states sterling silver pearls\n",
            "Rating : 5 Review: ring lovely advertised pink ring actually wear thumb ring\n",
            "Rating : 5 Review: bought wear alice wonderland costume halloween wearing ever since received actually gotten lot compliments\n",
            "Rating : 1 Review: purchased bracelets gift last december quality clasp quite poor gradually lost ability stay closed recently bracelets fell poor clasp damaged greatly avoid bracelets\n",
            "Rating : 5 Review: good everyday wear dressing up\n",
            "Rating : 5 Review: wanted class piece wear right hand work wearing old found end wearing outside work class looking\n",
            "Rating : 5 Review: second engagement king got birthday love nice shiny must buy ring anyone\n",
            "Rating : 5 Review: imagine sparkling around girlfriend manned toe sun bad winter looking forward pretty sight\n",
            "Rating : 5 Review: smaller carnelian beads clear beautiful orange color would great elastic color beads beautiful\n",
            "Rating : 5 Review: bought ring husband loved received said would great ring\n",
            "--------------------------------------------------\n"
          ]
        }
      ],
      "source": [
        "# My own knowledge\n",
        "\n",
        "# Want all the docs in clusters w n >=5\n",
        "docs_in_clusters = [np.where(clusters.labels_==i) for i in range(int(best_n_kmeans))]\n",
        "count_docs_in_clusters = [len(docs_in_clusters[i][0]) for i in range(int(best_n_kmeans))]\n",
        "\n",
        "#Store index of each cluster n>=5\n",
        "counts=[]\n",
        "for i, count in enumerate(count_docs_in_clusters):\n",
        "  if count>=5:\n",
        "    counts.append(i)\n",
        "\n",
        "cluster_text_list=[[] for _ in counts]\n",
        "\n",
        "for j,i in enumerate(counts):\n",
        "  print(f'Cluster {i}: {np.sum(clusters.labels_ == i)}')\n",
        "  for idx in docs_in_clusters[i][0]: #idx is the index for the doc location in top_100, not in clean_text which is what we want\n",
        "    #so get the actual id and convert to string\n",
        "    clean_text_ids = top_100_ids[idx]\n",
        "    clean_text_ids = str(clean_text_ids)\n",
        "    # Then get the index in clean_text - now can access the doc\n",
        "    clean_text_idx = ids.index(clean_text_ids)\n",
        "\n",
        "    # Store doc and print\n",
        "    cluster_text_list[j].append(\" \".join(clean_text[clean_text_idx]))\n",
        "    print(f'Rating : {ratings[clean_text_idx]} Review: {\" \".join(clean_text[clean_text_idx])}')\n",
        "\n",
        "  print(50*'-')"
      ]
    },
    {
      "cell_type": "markdown",
      "metadata": {
        "id": "legJw26htptd"
      },
      "source": [
        "## Comments on results\n",
        "Looking at the PCA cluster visualisation, the data itself is not too well clustered, with several lone points scattered on the graph. This explains the model's confusion, and why it assigned only one point to several different centroids. Generally, there appears to be four or five clusters with more than 5 docs, and these are the main clusters.\n",
        "\n",
        "Every time this algorithm is run, it provides slightly different results. Therefore I chose to hard code the clusters I used for summarisation below. Additionally, because of the volume of clusters with only one point, I chose to only summarise the clusters with 5 or more docs."
      ]
    },
    {
      "cell_type": "markdown",
      "metadata": {
        "id": "IQaTykvirMq4"
      },
      "source": [
        "# Question 4\n",
        "# Summarisation\n",
        "### Extractive method = SBert\n",
        "### Abstractive method = Seq2Seq\n"
      ]
    },
    {
      "cell_type": "code",
      "execution_count": null,
      "metadata": {
        "colab": {
          "base_uri": "https://localhost:8080/"
        },
        "id": "EOkJH7FKXBqm",
        "outputId": "707ba0b8-3644-472e-c013-c6b1f2964491"
      },
      "outputs": [
        {
          "output_type": "stream",
          "name": "stdout",
          "text": [
            "Requirement already satisfied: bert-extractive-summarizer in /usr/local/lib/python3.11/dist-packages (0.10.1)\n",
            "Requirement already satisfied: transformers in /usr/local/lib/python3.11/dist-packages (from bert-extractive-summarizer) (4.48.3)\n",
            "Requirement already satisfied: scikit-learn in /usr/local/lib/python3.11/dist-packages (from bert-extractive-summarizer) (1.6.1)\n",
            "Requirement already satisfied: spacy in /usr/local/lib/python3.11/dist-packages (from bert-extractive-summarizer) (3.7.5)\n",
            "Requirement already satisfied: numpy>=1.19.5 in /usr/local/lib/python3.11/dist-packages (from scikit-learn->bert-extractive-summarizer) (1.26.4)\n",
            "Requirement already satisfied: scipy>=1.6.0 in /usr/local/lib/python3.11/dist-packages (from scikit-learn->bert-extractive-summarizer) (1.14.1)\n",
            "Requirement already satisfied: joblib>=1.2.0 in /usr/local/lib/python3.11/dist-packages (from scikit-learn->bert-extractive-summarizer) (1.4.2)\n",
            "Requirement already satisfied: threadpoolctl>=3.1.0 in /usr/local/lib/python3.11/dist-packages (from scikit-learn->bert-extractive-summarizer) (3.5.0)\n",
            "Requirement already satisfied: spacy-legacy<3.1.0,>=3.0.11 in /usr/local/lib/python3.11/dist-packages (from spacy->bert-extractive-summarizer) (3.0.12)\n",
            "Requirement already satisfied: spacy-loggers<2.0.0,>=1.0.0 in /usr/local/lib/python3.11/dist-packages (from spacy->bert-extractive-summarizer) (1.0.5)\n",
            "Requirement already satisfied: murmurhash<1.1.0,>=0.28.0 in /usr/local/lib/python3.11/dist-packages (from spacy->bert-extractive-summarizer) (1.0.12)\n",
            "Requirement already satisfied: cymem<2.1.0,>=2.0.2 in /usr/local/lib/python3.11/dist-packages (from spacy->bert-extractive-summarizer) (2.0.11)\n",
            "Requirement already satisfied: preshed<3.1.0,>=3.0.2 in /usr/local/lib/python3.11/dist-packages (from spacy->bert-extractive-summarizer) (3.0.9)\n",
            "Requirement already satisfied: thinc<8.3.0,>=8.2.2 in /usr/local/lib/python3.11/dist-packages (from spacy->bert-extractive-summarizer) (8.2.5)\n",
            "Requirement already satisfied: wasabi<1.2.0,>=0.9.1 in /usr/local/lib/python3.11/dist-packages (from spacy->bert-extractive-summarizer) (1.1.3)\n",
            "Requirement already satisfied: srsly<3.0.0,>=2.4.3 in /usr/local/lib/python3.11/dist-packages (from spacy->bert-extractive-summarizer) (2.5.1)\n",
            "Requirement already satisfied: catalogue<2.1.0,>=2.0.6 in /usr/local/lib/python3.11/dist-packages (from spacy->bert-extractive-summarizer) (2.0.10)\n",
            "Requirement already satisfied: weasel<0.5.0,>=0.1.0 in /usr/local/lib/python3.11/dist-packages (from spacy->bert-extractive-summarizer) (0.4.1)\n",
            "Requirement already satisfied: typer<1.0.0,>=0.3.0 in /usr/local/lib/python3.11/dist-packages (from spacy->bert-extractive-summarizer) (0.15.2)\n",
            "Requirement already satisfied: tqdm<5.0.0,>=4.38.0 in /usr/local/lib/python3.11/dist-packages (from spacy->bert-extractive-summarizer) (4.67.1)\n",
            "Requirement already satisfied: requests<3.0.0,>=2.13.0 in /usr/local/lib/python3.11/dist-packages (from spacy->bert-extractive-summarizer) (2.32.3)\n",
            "Requirement already satisfied: pydantic!=1.8,!=1.8.1,<3.0.0,>=1.7.4 in /usr/local/lib/python3.11/dist-packages (from spacy->bert-extractive-summarizer) (2.10.6)\n",
            "Requirement already satisfied: jinja2 in /usr/local/lib/python3.11/dist-packages (from spacy->bert-extractive-summarizer) (3.1.6)\n",
            "Requirement already satisfied: setuptools in /usr/local/lib/python3.11/dist-packages (from spacy->bert-extractive-summarizer) (65.5.0)\n",
            "Requirement already satisfied: packaging>=20.0 in /usr/local/lib/python3.11/dist-packages (from spacy->bert-extractive-summarizer) (24.2)\n",
            "Requirement already satisfied: langcodes<4.0.0,>=3.2.0 in /usr/local/lib/python3.11/dist-packages (from spacy->bert-extractive-summarizer) (3.5.0)\n",
            "Requirement already satisfied: filelock in /usr/local/lib/python3.11/dist-packages (from transformers->bert-extractive-summarizer) (3.17.0)\n",
            "Requirement already satisfied: huggingface-hub<1.0,>=0.24.0 in /usr/local/lib/python3.11/dist-packages (from transformers->bert-extractive-summarizer) (0.28.1)\n",
            "Requirement already satisfied: pyyaml>=5.1 in /usr/local/lib/python3.11/dist-packages (from transformers->bert-extractive-summarizer) (6.0.2)\n",
            "Requirement already satisfied: regex!=2019.12.17 in /usr/local/lib/python3.11/dist-packages (from transformers->bert-extractive-summarizer) (2024.11.6)\n",
            "Requirement already satisfied: tokenizers<0.22,>=0.21 in /usr/local/lib/python3.11/dist-packages (from transformers->bert-extractive-summarizer) (0.21.0)\n",
            "Requirement already satisfied: safetensors>=0.4.1 in /usr/local/lib/python3.11/dist-packages (from transformers->bert-extractive-summarizer) (0.5.3)\n",
            "Requirement already satisfied: fsspec>=2023.5.0 in /usr/local/lib/python3.11/dist-packages (from huggingface-hub<1.0,>=0.24.0->transformers->bert-extractive-summarizer) (2024.10.0)\n",
            "Requirement already satisfied: typing-extensions>=3.7.4.3 in /usr/local/lib/python3.11/dist-packages (from huggingface-hub<1.0,>=0.24.0->transformers->bert-extractive-summarizer) (4.12.2)\n",
            "Requirement already satisfied: language-data>=1.2 in /usr/local/lib/python3.11/dist-packages (from langcodes<4.0.0,>=3.2.0->spacy->bert-extractive-summarizer) (1.3.0)\n",
            "Requirement already satisfied: annotated-types>=0.6.0 in /usr/local/lib/python3.11/dist-packages (from pydantic!=1.8,!=1.8.1,<3.0.0,>=1.7.4->spacy->bert-extractive-summarizer) (0.7.0)\n",
            "Requirement already satisfied: pydantic-core==2.27.2 in /usr/local/lib/python3.11/dist-packages (from pydantic!=1.8,!=1.8.1,<3.0.0,>=1.7.4->spacy->bert-extractive-summarizer) (2.27.2)\n",
            "Requirement already satisfied: charset-normalizer<4,>=2 in /usr/local/lib/python3.11/dist-packages (from requests<3.0.0,>=2.13.0->spacy->bert-extractive-summarizer) (3.4.1)\n",
            "Requirement already satisfied: idna<4,>=2.5 in /usr/local/lib/python3.11/dist-packages (from requests<3.0.0,>=2.13.0->spacy->bert-extractive-summarizer) (3.10)\n",
            "Requirement already satisfied: urllib3<3,>=1.21.1 in /usr/local/lib/python3.11/dist-packages (from requests<3.0.0,>=2.13.0->spacy->bert-extractive-summarizer) (2.3.0)\n",
            "Requirement already satisfied: certifi>=2017.4.17 in /usr/local/lib/python3.11/dist-packages (from requests<3.0.0,>=2.13.0->spacy->bert-extractive-summarizer) (2025.1.31)\n",
            "Requirement already satisfied: blis<0.8.0,>=0.7.8 in /usr/local/lib/python3.11/dist-packages (from thinc<8.3.0,>=8.2.2->spacy->bert-extractive-summarizer) (0.7.11)\n",
            "Requirement already satisfied: confection<1.0.0,>=0.0.1 in /usr/local/lib/python3.11/dist-packages (from thinc<8.3.0,>=8.2.2->spacy->bert-extractive-summarizer) (0.1.5)\n",
            "Requirement already satisfied: click>=8.0.0 in /usr/local/lib/python3.11/dist-packages (from typer<1.0.0,>=0.3.0->spacy->bert-extractive-summarizer) (8.1.8)\n",
            "Requirement already satisfied: shellingham>=1.3.0 in /usr/local/lib/python3.11/dist-packages (from typer<1.0.0,>=0.3.0->spacy->bert-extractive-summarizer) (1.5.4)\n",
            "Requirement already satisfied: rich>=10.11.0 in /usr/local/lib/python3.11/dist-packages (from typer<1.0.0,>=0.3.0->spacy->bert-extractive-summarizer) (13.9.4)\n",
            "Requirement already satisfied: cloudpathlib<1.0.0,>=0.7.0 in /usr/local/lib/python3.11/dist-packages (from weasel<0.5.0,>=0.1.0->spacy->bert-extractive-summarizer) (0.21.0)\n",
            "Requirement already satisfied: smart-open<8.0.0,>=5.2.1 in /usr/local/lib/python3.11/dist-packages (from weasel<0.5.0,>=0.1.0->spacy->bert-extractive-summarizer) (7.1.0)\n",
            "Requirement already satisfied: MarkupSafe>=2.0 in /usr/local/lib/python3.11/dist-packages (from jinja2->spacy->bert-extractive-summarizer) (3.0.2)\n",
            "Requirement already satisfied: marisa-trie>=1.1.0 in /usr/local/lib/python3.11/dist-packages (from language-data>=1.2->langcodes<4.0.0,>=3.2.0->spacy->bert-extractive-summarizer) (1.2.1)\n",
            "Requirement already satisfied: markdown-it-py>=2.2.0 in /usr/local/lib/python3.11/dist-packages (from rich>=10.11.0->typer<1.0.0,>=0.3.0->spacy->bert-extractive-summarizer) (3.0.0)\n",
            "Requirement already satisfied: pygments<3.0.0,>=2.13.0 in /usr/local/lib/python3.11/dist-packages (from rich>=10.11.0->typer<1.0.0,>=0.3.0->spacy->bert-extractive-summarizer) (2.18.0)\n",
            "Requirement already satisfied: wrapt in /usr/local/lib/python3.11/dist-packages (from smart-open<8.0.0,>=5.2.1->weasel<0.5.0,>=0.1.0->spacy->bert-extractive-summarizer) (1.17.2)\n",
            "Requirement already satisfied: mdurl~=0.1 in /usr/local/lib/python3.11/dist-packages (from markdown-it-py>=2.2.0->rich>=10.11.0->typer<1.0.0,>=0.3.0->spacy->bert-extractive-summarizer) (0.1.2)\n",
            "Requirement already satisfied: evaluate in /usr/local/lib/python3.11/dist-packages (0.4.3)\n",
            "Requirement already satisfied: datasets>=2.0.0 in /usr/local/lib/python3.11/dist-packages (from evaluate) (3.3.2)\n",
            "Requirement already satisfied: numpy>=1.17 in /usr/local/lib/python3.11/dist-packages (from evaluate) (1.26.4)\n",
            "Requirement already satisfied: dill in /usr/local/lib/python3.11/dist-packages (from evaluate) (0.3.8)\n",
            "Requirement already satisfied: pandas in /usr/local/lib/python3.11/dist-packages (from evaluate) (2.2.2)\n",
            "Requirement already satisfied: requests>=2.19.0 in /usr/local/lib/python3.11/dist-packages (from evaluate) (2.32.3)\n",
            "Requirement already satisfied: tqdm>=4.62.1 in /usr/local/lib/python3.11/dist-packages (from evaluate) (4.67.1)\n",
            "Requirement already satisfied: xxhash in /usr/local/lib/python3.11/dist-packages (from evaluate) (3.5.0)\n",
            "Requirement already satisfied: multiprocess in /usr/local/lib/python3.11/dist-packages (from evaluate) (0.70.16)\n",
            "Requirement already satisfied: fsspec>=2021.05.0 in /usr/local/lib/python3.11/dist-packages (from fsspec[http]>=2021.05.0->evaluate) (2024.10.0)\n",
            "Requirement already satisfied: huggingface-hub>=0.7.0 in /usr/local/lib/python3.11/dist-packages (from evaluate) (0.28.1)\n",
            "Requirement already satisfied: packaging in /usr/local/lib/python3.11/dist-packages (from evaluate) (24.2)\n",
            "Requirement already satisfied: filelock in /usr/local/lib/python3.11/dist-packages (from datasets>=2.0.0->evaluate) (3.17.0)\n",
            "Requirement already satisfied: pyarrow>=15.0.0 in /usr/local/lib/python3.11/dist-packages (from datasets>=2.0.0->evaluate) (18.1.0)\n",
            "Requirement already satisfied: aiohttp in /usr/local/lib/python3.11/dist-packages (from datasets>=2.0.0->evaluate) (3.11.13)\n",
            "Requirement already satisfied: pyyaml>=5.1 in /usr/local/lib/python3.11/dist-packages (from datasets>=2.0.0->evaluate) (6.0.2)\n",
            "Requirement already satisfied: typing-extensions>=3.7.4.3 in /usr/local/lib/python3.11/dist-packages (from huggingface-hub>=0.7.0->evaluate) (4.12.2)\n",
            "Requirement already satisfied: charset-normalizer<4,>=2 in /usr/local/lib/python3.11/dist-packages (from requests>=2.19.0->evaluate) (3.4.1)\n",
            "Requirement already satisfied: idna<4,>=2.5 in /usr/local/lib/python3.11/dist-packages (from requests>=2.19.0->evaluate) (3.10)\n",
            "Requirement already satisfied: urllib3<3,>=1.21.1 in /usr/local/lib/python3.11/dist-packages (from requests>=2.19.0->evaluate) (2.3.0)\n",
            "Requirement already satisfied: certifi>=2017.4.17 in /usr/local/lib/python3.11/dist-packages (from requests>=2.19.0->evaluate) (2025.1.31)\n",
            "Requirement already satisfied: python-dateutil>=2.8.2 in /usr/local/lib/python3.11/dist-packages (from pandas->evaluate) (2.8.2)\n",
            "Requirement already satisfied: pytz>=2020.1 in /usr/local/lib/python3.11/dist-packages (from pandas->evaluate) (2025.1)\n",
            "Requirement already satisfied: tzdata>=2022.7 in /usr/local/lib/python3.11/dist-packages (from pandas->evaluate) (2025.1)\n",
            "Requirement already satisfied: aiohappyeyeballs>=2.3.0 in /usr/local/lib/python3.11/dist-packages (from aiohttp->datasets>=2.0.0->evaluate) (2.5.0)\n",
            "Requirement already satisfied: aiosignal>=1.1.2 in /usr/local/lib/python3.11/dist-packages (from aiohttp->datasets>=2.0.0->evaluate) (1.3.2)\n",
            "Requirement already satisfied: attrs>=17.3.0 in /usr/local/lib/python3.11/dist-packages (from aiohttp->datasets>=2.0.0->evaluate) (25.1.0)\n",
            "Requirement already satisfied: frozenlist>=1.1.1 in /usr/local/lib/python3.11/dist-packages (from aiohttp->datasets>=2.0.0->evaluate) (1.5.0)\n",
            "Requirement already satisfied: multidict<7.0,>=4.5 in /usr/local/lib/python3.11/dist-packages (from aiohttp->datasets>=2.0.0->evaluate) (6.1.0)\n",
            "Requirement already satisfied: propcache>=0.2.0 in /usr/local/lib/python3.11/dist-packages (from aiohttp->datasets>=2.0.0->evaluate) (0.3.0)\n",
            "Requirement already satisfied: yarl<2.0,>=1.17.0 in /usr/local/lib/python3.11/dist-packages (from aiohttp->datasets>=2.0.0->evaluate) (1.18.3)\n",
            "Requirement already satisfied: six>=1.5 in /usr/local/lib/python3.11/dist-packages (from python-dateutil>=2.8.2->pandas->evaluate) (1.17.0)\n",
            "Requirement already satisfied: setuptools==65.5.0 in /usr/local/lib/python3.11/dist-packages (65.5.0)\n",
            "Requirement already satisfied: rouge_score in /usr/local/lib/python3.11/dist-packages (0.1.2)\n",
            "Requirement already satisfied: absl-py in /usr/local/lib/python3.11/dist-packages (from rouge_score) (1.4.0)\n",
            "Requirement already satisfied: nltk in /usr/local/lib/python3.11/dist-packages (from rouge_score) (3.9.1)\n",
            "Requirement already satisfied: numpy in /usr/local/lib/python3.11/dist-packages (from rouge_score) (1.26.4)\n",
            "Requirement already satisfied: six>=1.14.0 in /usr/local/lib/python3.11/dist-packages (from rouge_score) (1.17.0)\n",
            "Requirement already satisfied: click in /usr/local/lib/python3.11/dist-packages (from nltk->rouge_score) (8.1.8)\n",
            "Requirement already satisfied: joblib in /usr/local/lib/python3.11/dist-packages (from nltk->rouge_score) (1.4.2)\n",
            "Requirement already satisfied: regex>=2021.8.3 in /usr/local/lib/python3.11/dist-packages (from nltk->rouge_score) (2024.11.6)\n",
            "Requirement already satisfied: tqdm in /usr/local/lib/python3.11/dist-packages (from nltk->rouge_score) (4.67.1)\n",
            "Requirement already satisfied: nltk in /usr/local/lib/python3.11/dist-packages (3.9.1)\n",
            "Requirement already satisfied: click in /usr/local/lib/python3.11/dist-packages (from nltk) (8.1.8)\n",
            "Requirement already satisfied: joblib in /usr/local/lib/python3.11/dist-packages (from nltk) (1.4.2)\n",
            "Requirement already satisfied: regex>=2021.8.3 in /usr/local/lib/python3.11/dist-packages (from nltk) (2024.11.6)\n",
            "Requirement already satisfied: tqdm in /usr/local/lib/python3.11/dist-packages (from nltk) (4.67.1)\n",
            "Requirement already satisfied: datasets in /usr/local/lib/python3.11/dist-packages (3.3.2)\n",
            "Requirement already satisfied: filelock in /usr/local/lib/python3.11/dist-packages (from datasets) (3.17.0)\n",
            "Requirement already satisfied: numpy>=1.17 in /usr/local/lib/python3.11/dist-packages (from datasets) (1.26.4)\n",
            "Requirement already satisfied: pyarrow>=15.0.0 in /usr/local/lib/python3.11/dist-packages (from datasets) (18.1.0)\n",
            "Requirement already satisfied: dill<0.3.9,>=0.3.0 in /usr/local/lib/python3.11/dist-packages (from datasets) (0.3.8)\n",
            "Requirement already satisfied: pandas in /usr/local/lib/python3.11/dist-packages (from datasets) (2.2.2)\n",
            "Requirement already satisfied: requests>=2.32.2 in /usr/local/lib/python3.11/dist-packages (from datasets) (2.32.3)\n",
            "Requirement already satisfied: tqdm>=4.66.3 in /usr/local/lib/python3.11/dist-packages (from datasets) (4.67.1)\n",
            "Requirement already satisfied: xxhash in /usr/local/lib/python3.11/dist-packages (from datasets) (3.5.0)\n",
            "Requirement already satisfied: multiprocess<0.70.17 in /usr/local/lib/python3.11/dist-packages (from datasets) (0.70.16)\n",
            "Requirement already satisfied: fsspec<=2024.12.0,>=2023.1.0 in /usr/local/lib/python3.11/dist-packages (from fsspec[http]<=2024.12.0,>=2023.1.0->datasets) (2024.10.0)\n",
            "Requirement already satisfied: aiohttp in /usr/local/lib/python3.11/dist-packages (from datasets) (3.11.13)\n",
            "Requirement already satisfied: huggingface-hub>=0.24.0 in /usr/local/lib/python3.11/dist-packages (from datasets) (0.28.1)\n",
            "Requirement already satisfied: packaging in /usr/local/lib/python3.11/dist-packages (from datasets) (24.2)\n",
            "Requirement already satisfied: pyyaml>=5.1 in /usr/local/lib/python3.11/dist-packages (from datasets) (6.0.2)\n",
            "Requirement already satisfied: aiohappyeyeballs>=2.3.0 in /usr/local/lib/python3.11/dist-packages (from aiohttp->datasets) (2.5.0)\n",
            "Requirement already satisfied: aiosignal>=1.1.2 in /usr/local/lib/python3.11/dist-packages (from aiohttp->datasets) (1.3.2)\n",
            "Requirement already satisfied: attrs>=17.3.0 in /usr/local/lib/python3.11/dist-packages (from aiohttp->datasets) (25.1.0)\n",
            "Requirement already satisfied: frozenlist>=1.1.1 in /usr/local/lib/python3.11/dist-packages (from aiohttp->datasets) (1.5.0)\n",
            "Requirement already satisfied: multidict<7.0,>=4.5 in /usr/local/lib/python3.11/dist-packages (from aiohttp->datasets) (6.1.0)\n",
            "Requirement already satisfied: propcache>=0.2.0 in /usr/local/lib/python3.11/dist-packages (from aiohttp->datasets) (0.3.0)\n",
            "Requirement already satisfied: yarl<2.0,>=1.17.0 in /usr/local/lib/python3.11/dist-packages (from aiohttp->datasets) (1.18.3)\n",
            "Requirement already satisfied: typing-extensions>=3.7.4.3 in /usr/local/lib/python3.11/dist-packages (from huggingface-hub>=0.24.0->datasets) (4.12.2)\n",
            "Requirement already satisfied: charset-normalizer<4,>=2 in /usr/local/lib/python3.11/dist-packages (from requests>=2.32.2->datasets) (3.4.1)\n",
            "Requirement already satisfied: idna<4,>=2.5 in /usr/local/lib/python3.11/dist-packages (from requests>=2.32.2->datasets) (3.10)\n",
            "Requirement already satisfied: urllib3<3,>=1.21.1 in /usr/local/lib/python3.11/dist-packages (from requests>=2.32.2->datasets) (2.3.0)\n",
            "Requirement already satisfied: certifi>=2017.4.17 in /usr/local/lib/python3.11/dist-packages (from requests>=2.32.2->datasets) (2025.1.31)\n",
            "Requirement already satisfied: python-dateutil>=2.8.2 in /usr/local/lib/python3.11/dist-packages (from pandas->datasets) (2.8.2)\n",
            "Requirement already satisfied: pytz>=2020.1 in /usr/local/lib/python3.11/dist-packages (from pandas->datasets) (2025.1)\n",
            "Requirement already satisfied: tzdata>=2022.7 in /usr/local/lib/python3.11/dist-packages (from pandas->datasets) (2025.1)\n",
            "Requirement already satisfied: six>=1.5 in /usr/local/lib/python3.11/dist-packages (from python-dateutil>=2.8.2->pandas->datasets) (1.17.0)\n"
          ]
        },
        {
          "output_type": "execute_result",
          "data": {
            "text/plain": [
              "True"
            ]
          },
          "metadata": {},
          "execution_count": 45
        }
      ],
      "source": [
        "# Imports and Downloads\n",
        "!pip install -U -q sentence-transformers\n",
        "!pip install bert-extractive-summarizer\n",
        "!pip install -U evaluate\n",
        "!pip install setuptools==65.5.0\n",
        "!pip install -U rouge_score\n",
        "!pip install -U nltk\n",
        "!pip install datasets\n",
        "from transformers import TFAutoModelForSeq2SeqLM, DataCollatorForSeq2Seq, AutoTokenizer\n",
        "import evaluate\n",
        "from sklearn.model_selection import train_test_split\n",
        "import tensorflow as tf\n",
        "from datasets import Dataset\n",
        "from transformers import AdamWeightDecay\n",
        "from transformers.keras_callbacks import KerasMetricCallback\n",
        "from summarizer.sbert import SBertSummarizer\n",
        "from rouge_score import rouge_scorer\n",
        "from nltk.translate.meteor_score import meteor_score\n",
        "from nltk.translate.bleu_score import sentence_bleu, SmoothingFunction\n",
        "\n",
        "# Download necessary NLTK data\n",
        "nltk.download('wordnet', quiet=True)\n",
        "nltk.download('omw-1.4', quiet=True)"
      ]
    },
    {
      "cell_type": "code",
      "execution_count": null,
      "metadata": {
        "id": "fuKF6t2lwsOl"
      },
      "outputs": [],
      "source": [
        "# Hard coded clusters, as generated above\n",
        "cluster_text_list = [['arrived estimated date many previous orders seller always time excellent condition', 'happy product received advertised timely manner selleramazon kept updated shipmentdelivery status would recommend item seller', 'stem great quality came promptly happy recommend undeservedly', 'purchased several items petya not products first rate packing customer service excellent', 'product arrived short period time perfect described perfectly everything hoped', 'product received nice came timely matter faster expected order item again', 'neck ring timely manner looks antique would recommend ring garden lover', 'received italian horn printing condition completely satisfied receiving product timely manner', 'product arrived perfect condition shipping ridiculously slow not order again', 'product came fast like amazon explained ring clearly written war thick likebut guess like small rings ring', 'earrings described transaction smooth easy product shipped received time frame quoted pleased purchase', 'stem shipped received within time limit given good quality product t', 'item came quickly plenty time christmas huge hit person received them', 'wonderful shopping experience purchased item holiday presents whole order came quickly wonderful condition', 'works perfectly rings wider rings narrow wide', 'always wanted claddaugh ringhis price greati love it', 'message positive looks pretty bought aunt present color nice', 'pleased purchase speedy shipping use', 'ring perfect say spend thousands nt ring shines perfectly love ring', 'great way support local pro sports team without wearing oversized jersey hat mess hair', 'nt like product diamonds looked nothing like picture diamonds flowed little bit', 'looked well picture thing could say little polished looks like black stands looks nice', 'wore toe ring one day poof stone gone sits pile broken sterling silver rings things', 'ring lovely advertised pink ring actually wear thumb ring', 'gorgeous ring holder sits dresser holds wedding ring every night gorgeous love', 'really liked earrings however agree one earlier reviews thought would little bigger', 'vice ring expensive ring one stone missing not worth returning would pay postage ring cost'], ['got 3 belly rings 3 tongue rings 3 lip rings fig car stuff got cool love pink peace sign tongue ring complaint got 2 yellow lip rings not much yellow overall happy', 'got ring gift boyfriend love thing rings not position correctly inches skin', 'ought ring thumb ring everyone notices comments pretty cool looks spin want know got would recommend ring one also come', 'owned several claddagh rings years lost last one received one gift recently truly love sturdy design crisp easily recommend one lovely ring', 'second engagement king got birthday love nice shiny must buy ring anyone', 'ring absolutely stunning beautiful would recommend amethyst ring anyone market reasonably prices amethyst ring'], ['told ring comfortable wear quite surprised please see masonic ring titanic', 'peasant classify best casual wear wear weekend nt not suited work going events', 'love ring not ring would want wear everyday ring claws hold stone sharp get stuck things scratched me', 'item perfect daily wear still elegant enough dress receive many compliments wearing it', 'good everyday wear dressing up', 'serves purpose seemed image lot prettier sparkling turned wear shirt since not compliment anything wear', 'nice wear want something casual wear comfortable', 'unique pleasure wear stones catch light style comfortable wear', 'not thought going look good picture got quality nt ca nt wear completely bending hooks shape like silver plastic', 'wear charm memory 3 friends passed away wish nt wear honor do', 'hard ca nt wear material hard not easy wear nt like saved money got', 'days not wear blue one wear one really enjoy wearing something celtic pretty'], ['impressed quality would not hesitate purchase items seller service also exceptional', 'product hollow not clearly specified item description not expecting seemed poor quality returned item', 'impressed quality item delivery fast would definitely buy seller again', 'stem arrived extremely damaged several places not package well send back disappointed quality', 'item not pictured funny poor quality seller not respond contracted this', 'quality look not anticipated fliesi would not recommend item', 'flute charm detailed high quality see keys flute fan would adore item', 'disappointed quality item fragile thin discoloured back charm not returnable not ordering amazon jeweller future thank you', 'item wonderful surprise quality much could ever hoped for', 'king way small looks like toy putting would not recommend want nice 12 cart ring', 'pleased quality item definitely recommend addition friends family', 'attractive high quality item young teenager small adult', 'quality item not expectationsthe top scratched hinges not line predrilled holes staining inconsistent saw item store would not purchased', 'week one jewels fell wing metal already vanishing spend money higher quality item', 'item misrepresented size quality horrible would return item except family member coast guard sent total waste money'], ['great gift loved one ever better seller seller deals professional way security measures superb', 'birthday gift 16 niece loves ring happy received it', 'product made great gift great memories love something always helping gift heart always shows care', 'love ring fits right showed daughter ring loved well great everyday wear price great', 'wife loves ring great gift extremely cheap high quality', 'always love pillow free make great gifts great people life quite collection hope continue build', 'nice loves birth stone got christmas lifti also love also great', 'ring good sparkle looks like ring cost six amount takes great gift someone budget girlfriend loves it', 'got ring promise ring girlfriend christmas loved definitely great value', 'love birthstone wanted piece jewel symbolized simple purity blue opal ring gift birthday year definitely great gift welcomed addition collection', 'mother loved great birthday gift look even better person go great anything', 'bought ring husband loved received said would great ring', 'bought gift friends birthday loved beautiful ring']]\n",
        "\n",
        "# Extractive ref sums generated by Claude 13/03/2025\n",
        "extractive_ref_sums = [\n",
        "    'Product received nice came timely matter faster expected order item again. Earrings described transaction smooth easy product shipped received time frame quoted pleased purchase. Wonderful shopping experience purchased item holiday presents whole order came quickly wonderful condition.',\n",
        "    'Ought ring thumb ring everyone notices comments pretty cool looks spin want know got would recommend ring one also come. Owned several claddagh rings years lost last one received one gift recently truly love sturdy design crisp easily recommend one lovely ring. Ring absolutely stunning beautiful would recommend amethyst ring anyone market reasonably prices amethyst ring.',\n",
        "    'Item perfect daily wear still elegant enough dress receive many compliments wearing it. Nice wear want something casual wear comfortable. Unique pleasure wear stones catch light style comfortable wear.',\n",
        "    'Impressed quality would not hesitate purchase items seller service also exceptional. Flute charm detailed high quality see keys flute fan would adore item. Item wonderful surprise quality much could ever hoped for.',\n",
        "    'Great gift loved one ever better seller seller deals professional way security measures superb. Ring good sparkle looks like ring cost six amount takes great gift someone budget girlfriend loves it. Love birthstone wanted piece jewel symbolized simple purity blue opal ring gift birthday year definitely great gift welcomed addition collection.'\n",
        "]\n",
        "\n",
        "\n",
        "# abstractive ref sums generated by Claude 13/03/2025\n",
        "abstractive_ref_summaries = [\n",
        "    'Products arrive on time and in excellent condition, with customers generally satisfied with shipping speed and product quality. Most reviewers express high satisfaction with the rings, earrings and other jewelry items, highlighting their appearance and value. While most customers are pleased with their purchases, a small minority report quality issues such as missing stones or differences from product images. Several customers specifically praise the timely delivery and recommend both the products and sellers, appreciating the customer service and transaction experience.',\n",
        "    'Customers express strong satisfaction with their ring purchases, often buying them as gifts or for personal use. Reviewers consistently highlight the visual appeal of the rings, with multiple customers mentioning receiving compliments from others. The claddagh rings are particularly appreciated for their sturdy design, while amethyst rings are noted for being reasonably priced and stunning. Overall, the body jewelry and rings in this cluster receive enthusiastic recommendations from buyers.',\n",
        "    'Reviews focus primarily on the wearability of jewelry items, with mixed experiences. Some customers find their purchases comfortable and suitable for daily wear, even receiving compliments. Others express disappointment with comfort issues, mentioning sharp stone settings that get caught on clothing or scratch skin. Several reviewers categorize their items as casual everyday pieces versus those appropriate for dressing up. Celtic-themed jewelry receives positive mentions for its uniqueness, while some items are criticized for poor quality materials that affect wearability.',\n",
        "    'Reviews in this cluster center on product quality with sharply divided opinions. Satisfied customers praise the high quality, detailed craftsmanship, and fast delivery of their purchases, often expressing willingness to buy from the same sellers again. Dissatisfied customers describe items as hollow, fragile, thin, or damaged upon arrival. Several reviewers mention discrepancies between product images and the actual items received. Poor packaging, discoloration, and missing jewels are common complaints, with some customers expressing regret over their purchases and reluctance to order similar items in the future.',\n",
        "    'Reviews predominantly discuss jewelry as gifts, with overwhelmingly positive feedback. Customers frequently purchase rings as birthday, Christmas, or promise gifts for loved ones, reporting that recipients love the items. Many reviewers highlight the good value, noting that the rings look more expensive than their actual cost. Birthstone jewelry is specifically mentioned as meaningful gifts with symbolic value. Several customers mention that the items look even better in person than in pictures and pair well with various outfits. The cluster reflects high satisfaction with jewelry items as thoughtful, well-received gifts.'\n",
        "]\n"
      ]
    },
    {
      "cell_type": "code",
      "execution_count": null,
      "metadata": {
        "id": "s1wk1bYXNW7i"
      },
      "outputs": [],
      "source": [
        "# https://github.com/gcosma/COP509/blob/main/LabSolutions/Lab_Exercise_(No_6).ipynb\n",
        "\n",
        "def evaluate_summarisation(summaries, extractive_ref_sums):\n",
        "  '''Returns the average rouge1, rouge2, rougeL, meteor and bleu scores'''\n",
        "\n",
        "  scorer = rouge_scorer.RougeScorer(['rouge1', 'rouge2', 'rougeL'], use_stemmer=True)\n",
        "\n",
        "  rouge1, rouge2, rougeL, meteor, bleu=[],[],[],[],[]\n",
        "  for i, (sum, ref) in enumerate(zip(summaries, extractive_ref_sums)):\n",
        "\n",
        "    scores = scorer.score(sum, ref)\n",
        "    rouge1.append(scores['rouge1'].fmeasure)\n",
        "    rouge2.append(scores['rouge2'].fmeasure)\n",
        "    rougeL.append(scores['rougeL'].fmeasure)\n",
        "\n",
        "    ref_tokens = word_tokenize(ref)\n",
        "    sum_tokens = word_tokenize(sum)\n",
        "    meteor.append(meteor_score([ref_tokens], sum_tokens))\n",
        "    bleu.append(sentence_bleu([ref], sum, smoothing_function=SmoothingFunction().method1))\n",
        "\n",
        "  return np.mean(rouge1), np.mean(rouge2), np.mean(rougeL), np.mean(meteor), np.mean(bleu)\n",
        "\n",
        "def plot_eval_graph(scores_dict):\n",
        "    '''Plot bar graph of all scores'''\n",
        "    # Extract scores\n",
        "    metrics = ['ROUGE-1', 'ROUGE-2', 'ROUGE-L', 'METEOR', 'BLEU']\n",
        "    extractive_scores = scores_dict.get('Extractive', (0, 0, 0, 0, 0))\n",
        "    abstractive_scores = scores_dict.get('Abstractive', (0, 0, 0, 0, 0))\n",
        "    abstractive_pruned = scores_dict.get('Abstractive_pruned', (0, 0, 0, 0, 0))\n",
        "\n",
        "    # Format widths\n",
        "    x = np.arange(len(metrics))\n",
        "    width = 0.25  # Adjusted for proper spacing\n",
        "\n",
        "    fig, ax = plt.subplots(figsize=(10, 6))\n",
        "\n",
        "    # Plot bars\n",
        "    bars1 = ax.bar(x - width, extractive_scores, width, label='Extractive', color='pink')\n",
        "    bars2 = ax.bar(x, abstractive_scores, width, label='Abstractive', color='purple')\n",
        "    bars3 = ax.bar(x + width, abstractive_pruned, width, label='Abstractive_pruned', color='skyblue')\n",
        "\n",
        "    # Aesthetics\n",
        "    ax.set_xlabel('Evaluation Metrics')\n",
        "    ax.set_ylabel('Scores')\n",
        "    ax.set_title('Extractive vs. Abstractive using Metrics (Avg across all clusters)')\n",
        "    ax.set_xticks(x)\n",
        "    ax.set_xticklabels(metrics)\n",
        "    ax.legend()\n",
        "    ax.grid(alpha=0.5)\n",
        "\n",
        "    # Add value labels on bars\n",
        "    for bars in [bars1, bars2, bars3]:\n",
        "        for bar in bars:\n",
        "            height = bar.get_height()\n",
        "            ax.annotate(f'{height:.2f}',\n",
        "                        xy=(bar.get_x() + bar.get_width() / 2, height),  # Center text above bar\n",
        "                        xytext=(0, 3),  # Offset text slightly above the bar\n",
        "                        textcoords='offset points',\n",
        "                        ha='center', va='bottom', fontsize=10)\n",
        "\n",
        "    plt.show()"
      ]
    },
    {
      "cell_type": "code",
      "execution_count": null,
      "metadata": {
        "colab": {
          "base_uri": "https://localhost:8080/"
        },
        "id": "U1GvrnpEIscp",
        "outputId": "3cc7d3aa-f18e-4d3b-bd1b-3438c8935221"
      },
      "outputs": [
        {
          "output_type": "stream",
          "name": "stdout",
          "text": [
            "Cluster summary 0: arrived estimated date many previous orders seller always time excellent condition. product received nice came timely matter faster expected order item again. product came fast like amazon explained ring clearly written war thick likebut guess like small rings ring.\n",
            "\n",
            "Cluster summary 1: got 3 belly rings 3 tongue rings 3 lip rings fig car stuff got cool love pink peace sign tongue ring complaint got 2 yellow lip rings not much yellow overall happy. got ring gift boyfriend love thing rings not position correctly inches skin. ring absolutely stunning beautiful would recommend amethyst ring anyone market reasonably prices amethyst ring.\n",
            "\n",
            "Cluster summary 2: told ring comfortable wear quite surprised please see masonic ring titanic. item perfect daily wear still elegant enough dress receive many compliments wearing it. days not wear blue one wear one really enjoy wearing something celtic pretty.\n",
            "\n",
            "Cluster summary 3: impressed quality would not hesitate purchase items seller service also exceptional. item not pictured funny poor quality seller not respond contracted this. item misrepresented size quality horrible would return item except family member coast guard sent total waste money.\n",
            "\n",
            "Cluster summary 4: great gift loved one ever better seller seller deals professional way security measures superb. wife loves ring great gift extremely cheap high quality. bought gift friends birthday loved beautiful ring.\n",
            "\n"
          ]
        }
      ],
      "source": [
        "# Adapted from https://github.com/gcosma/COP509/blob/main/Tutorials/Tutorial7Summarization_with_user_pasted_data.ipynb\n",
        "\n",
        "model = SBertSummarizer('paraphrase-MiniLM-L6-v2')\n",
        "\n",
        "# Summarize the text\n",
        "summaries=[]\n",
        "for clus in cluster_text_list:\n",
        "  clus = '. '.join(clus) +'.' # Add full stops to aid model\n",
        "  summaries.append(model(clus, num_sentences=3))\n",
        "\n",
        "# Print the summaries\n",
        "for i,summary in enumerate(summaries):\n",
        "  print(f\"Cluster summary {i}: \" + summary + \"\\n\")\n",
        "\n",
        "# Get eval metrics (plotted later)\n",
        "e_rouge1, e_rouge2, e_rougeL, e_meteor, e_bleu = evaluate_summarisation(summaries, extractive_ref_sums)"
      ]
    },
    {
      "cell_type": "markdown",
      "metadata": {
        "id": "awMB2nC5bKZP"
      },
      "source": [
        "## Abstractive Summarisation"
      ]
    },
    {
      "cell_type": "code",
      "execution_count": null,
      "metadata": {
        "colab": {
          "base_uri": "https://localhost:8080/",
          "height": 150,
          "referenced_widgets": [
            "29778c7a955d4e0f87a738380eae27bd",
            "819daff403ba4d318b15d878cd25621d",
            "ea8e95a19c554256ae0ce58401fd8460",
            "a36b766a82864e878c11f23d10b22f3a",
            "eceec5303f9a43818478b4de88c0119e",
            "edbf999f719b4eb79dbdf2a9891f7c47",
            "f5c0603257cc42da956bd914bf58ccf8",
            "f5f159b3100c423594c2b95cf59a3ca9",
            "83b75d0ca5064913a7a921b2f100e896",
            "36b8485778ec4e678396617a36373288",
            "d55ae79f199c48b689b73210ffba5eb7",
            "d7b6703556614cc6891a63774e79a337",
            "a7e43cb7c730407fa4f71bd65e143409",
            "30961cf903dc4d46ab4958d4112e339a",
            "562790ecf72342549bceb57dbb166bc8",
            "9e42ab8947be45b0aa4539068dab034e",
            "dbed920823d84b228d2d75fc47035812",
            "3bd39c18a2d743dabf881227b25d716e",
            "105a952753dd43c1a34f2df4380b7932",
            "fbb96f2bdd614f22b53b5c17487f3891",
            "1c37c6c9dab44f10acc0747ab7432268",
            "d487de529a9f4aefb39d117aac0985da"
          ]
        },
        "id": "x7T50Y2Zcb9n",
        "outputId": "888211e1-0341-4a63-b662-28b5eca1789e"
      },
      "outputs": [
        {
          "output_type": "stream",
          "name": "stderr",
          "text": [
            "All PyTorch model weights were used when initializing TFT5ForConditionalGeneration.\n",
            "\n",
            "All the weights of TFT5ForConditionalGeneration were initialized from the PyTorch model.\n",
            "If your task is similar to the task the model of the checkpoint was trained on, you can already use TFT5ForConditionalGeneration for predictions without further training.\n"
          ]
        },
        {
          "output_type": "display_data",
          "data": {
            "text/plain": [
              "Map:   0%|          | 0/4 [00:00<?, ? examples/s]"
            ],
            "application/vnd.jupyter.widget-view+json": {
              "version_major": 2,
              "version_minor": 0,
              "model_id": "29778c7a955d4e0f87a738380eae27bd"
            }
          },
          "metadata": {}
        },
        {
          "output_type": "display_data",
          "data": {
            "text/plain": [
              "Map:   0%|          | 0/1 [00:00<?, ? examples/s]"
            ],
            "application/vnd.jupyter.widget-view+json": {
              "version_major": 2,
              "version_minor": 0,
              "model_id": "d7b6703556614cc6891a63774e79a337"
            }
          },
          "metadata": {}
        }
      ],
      "source": [
        "# Adapted from https://github.com/gcosma/COP509/blob/main/Tutorials/Tutorial8Summarization.ipynb\n",
        "\n",
        "def preprocess_function(examples):\n",
        "    inputs = [prefix + doc for doc in examples[\"document\"]]\n",
        "    model_inputs = tokenizer(inputs, max_length=max_input_length, truncation=True)\n",
        "\n",
        "    # Setup the tokenizer for targets\n",
        "    with tokenizer.as_target_tokenizer():\n",
        "        labels = tokenizer(examples[\"summary\"], max_length=max_target_length, truncation=True)\n",
        "\n",
        "    model_inputs[\"labels\"] = labels[\"input_ids\"]\n",
        "    return model_inputs\n",
        "\n",
        "# Specify the model checkpoint\n",
        "model_checkpoint = \"t5-small\"\n",
        "\n",
        "# Initialize the tokenizer\n",
        "tokenizer = AutoTokenizer.from_pretrained(model_checkpoint)\n",
        "model = TFAutoModelForSeq2SeqLM.from_pretrained(model_checkpoint)\n",
        "\n",
        "# Load the ROUGE metric\n",
        "rouge = evaluate.load('rouge')\n",
        "\n",
        "# Train test split data\n",
        "inputs = ['. '.join(doc) + '.' for doc in cluster_text_list]\n",
        "data = pd.DataFrame({'document': inputs, 'summary': abstractive_ref_summaries, 'id':[27, 6, 12, 15, 13]})\n",
        "train_as, test_as = train_test_split(data, test_size=0.2, random_state=42)\n",
        "\n",
        "# Convert to hugging face transformers dataset\n",
        "train_dataset = Dataset.from_pandas(train_as)\n",
        "test_dataset = Dataset.from_pandas(test_as)\n",
        "\n",
        "# Process the datasets\n",
        "prefix = 'summarize'\n",
        "max_input_length = 1024\n",
        "max_target_length = 128\n",
        "\n",
        "train_dataset = train_dataset.map(preprocess_function, batched=True)\n",
        "test_dataset = test_dataset.map(preprocess_function, batched=True)"
      ]
    },
    {
      "cell_type": "code",
      "execution_count": null,
      "metadata": {
        "colab": {
          "base_uri": "https://localhost:8080/",
          "height": 772
        },
        "id": "-vAlOo2xiWA8",
        "outputId": "2d3e9d73-cbf2-4dee-f751-8c2d6f74b576"
      },
      "outputs": [
        {
          "output_type": "error",
          "ename": "ImportError",
          "evalue": "\nTFT5ForConditionalGeneration requires the 🤗 Datasets library but it was not found in your environment. You can install it with:\n```\npip install datasets\n```\nIn a notebook or a colab, you can install it by executing a cell with\n```\n!pip install datasets\n```\nthen restarting your kernel.\n\nNote that if you have a local folder named `datasets` or a local python file named `datasets.py` in your current\nworking directory, python may try to import this instead of the 🤗 Datasets library. You should rename this folder or\nthat python file if that's the case. Please note that you may need to restart your runtime after installation.\n",
          "traceback": [
            "\u001b[0;31m---------------------------------------------------------------------------\u001b[0m",
            "\u001b[0;31mImportError\u001b[0m                               Traceback (most recent call last)",
            "\u001b[0;32m<ipython-input-50-2412ed7da0b8>\u001b[0m in \u001b[0;36m<cell line: 0>\u001b[0;34m()\u001b[0m\n\u001b[1;32m     10\u001b[0m \u001b[0mgeneration_data_collator\u001b[0m \u001b[0;34m=\u001b[0m \u001b[0mDataCollatorForSeq2Seq\u001b[0m\u001b[0;34m(\u001b[0m\u001b[0mtokenizer\u001b[0m\u001b[0;34m,\u001b[0m \u001b[0mmodel\u001b[0m\u001b[0;34m=\u001b[0m\u001b[0mmodel\u001b[0m\u001b[0;34m,\u001b[0m \u001b[0mreturn_tensors\u001b[0m\u001b[0;34m=\u001b[0m\u001b[0;34m\"np\"\u001b[0m\u001b[0;34m,\u001b[0m \u001b[0mpad_to_multiple_of\u001b[0m\u001b[0;34m=\u001b[0m\u001b[0;36m128\u001b[0m\u001b[0;34m)\u001b[0m\u001b[0;34m\u001b[0m\u001b[0;34m\u001b[0m\u001b[0m\n\u001b[1;32m     11\u001b[0m \u001b[0;34m\u001b[0m\u001b[0m\n\u001b[0;32m---> 12\u001b[0;31m train_dataset = model.prepare_tf_dataset(\n\u001b[0m\u001b[1;32m     13\u001b[0m     \u001b[0mtrain_dataset\u001b[0m\u001b[0;34m,\u001b[0m\u001b[0;34m\u001b[0m\u001b[0;34m\u001b[0m\u001b[0m\n\u001b[1;32m     14\u001b[0m     \u001b[0mbatch_size\u001b[0m\u001b[0;34m=\u001b[0m\u001b[0mbatch_size\u001b[0m\u001b[0;34m,\u001b[0m\u001b[0;34m\u001b[0m\u001b[0;34m\u001b[0m\u001b[0m\n",
            "\u001b[0;32m/usr/local/lib/python3.11/dist-packages/transformers/modeling_tf_utils.py\u001b[0m in \u001b[0;36mprepare_tf_dataset\u001b[0;34m(self, dataset, batch_size, shuffle, tokenizer, collate_fn, collate_fn_args, drop_remainder, prefetch)\u001b[0m\n\u001b[1;32m   1470\u001b[0m             \u001b[0;31m`\u001b[0m\u001b[0mDataset\u001b[0m\u001b[0;31m`\u001b[0m\u001b[0;34m:\u001b[0m \u001b[0mA\u001b[0m\u001b[0;31m \u001b[0m\u001b[0;31m`\u001b[0m\u001b[0mtf\u001b[0m\u001b[0;34m.\u001b[0m\u001b[0mdata\u001b[0m\u001b[0;34m.\u001b[0m\u001b[0mDataset\u001b[0m\u001b[0;31m`\u001b[0m \u001b[0mwhich\u001b[0m \u001b[0;32mis\u001b[0m \u001b[0mready\u001b[0m \u001b[0mto\u001b[0m \u001b[0;32mpass\u001b[0m \u001b[0mto\u001b[0m \u001b[0mthe\u001b[0m \u001b[0mKeras\u001b[0m \u001b[0mAPI\u001b[0m\u001b[0;34m.\u001b[0m\u001b[0;34m\u001b[0m\u001b[0;34m\u001b[0m\u001b[0m\n\u001b[1;32m   1471\u001b[0m         \"\"\"\n\u001b[0;32m-> 1472\u001b[0;31m         \u001b[0mrequires_backends\u001b[0m\u001b[0;34m(\u001b[0m\u001b[0mself\u001b[0m\u001b[0;34m,\u001b[0m \u001b[0;34m[\u001b[0m\u001b[0;34m\"datasets\"\u001b[0m\u001b[0;34m]\u001b[0m\u001b[0;34m)\u001b[0m\u001b[0;34m\u001b[0m\u001b[0;34m\u001b[0m\u001b[0m\n\u001b[0m\u001b[1;32m   1473\u001b[0m         \u001b[0;32mimport\u001b[0m \u001b[0mdatasets\u001b[0m\u001b[0;34m\u001b[0m\u001b[0;34m\u001b[0m\u001b[0m\n\u001b[1;32m   1474\u001b[0m \u001b[0;34m\u001b[0m\u001b[0m\n",
            "\u001b[0;32m/usr/local/lib/python3.11/dist-packages/transformers/utils/import_utils.py\u001b[0m in \u001b[0;36mrequires_backends\u001b[0;34m(obj, backends)\u001b[0m\n\u001b[1;32m   1676\u001b[0m     \u001b[0mfailed\u001b[0m \u001b[0;34m=\u001b[0m \u001b[0;34m[\u001b[0m\u001b[0mmsg\u001b[0m\u001b[0;34m.\u001b[0m\u001b[0mformat\u001b[0m\u001b[0;34m(\u001b[0m\u001b[0mname\u001b[0m\u001b[0;34m)\u001b[0m \u001b[0;32mfor\u001b[0m \u001b[0mavailable\u001b[0m\u001b[0;34m,\u001b[0m \u001b[0mmsg\u001b[0m \u001b[0;32min\u001b[0m \u001b[0mchecks\u001b[0m \u001b[0;32mif\u001b[0m \u001b[0;32mnot\u001b[0m \u001b[0mavailable\u001b[0m\u001b[0;34m(\u001b[0m\u001b[0;34m)\u001b[0m\u001b[0;34m]\u001b[0m\u001b[0;34m\u001b[0m\u001b[0;34m\u001b[0m\u001b[0m\n\u001b[1;32m   1677\u001b[0m     \u001b[0;32mif\u001b[0m \u001b[0mfailed\u001b[0m\u001b[0;34m:\u001b[0m\u001b[0;34m\u001b[0m\u001b[0;34m\u001b[0m\u001b[0m\n\u001b[0;32m-> 1678\u001b[0;31m         \u001b[0;32mraise\u001b[0m \u001b[0mImportError\u001b[0m\u001b[0;34m(\u001b[0m\u001b[0;34m\"\"\u001b[0m\u001b[0;34m.\u001b[0m\u001b[0mjoin\u001b[0m\u001b[0;34m(\u001b[0m\u001b[0mfailed\u001b[0m\u001b[0;34m)\u001b[0m\u001b[0;34m)\u001b[0m\u001b[0;34m\u001b[0m\u001b[0;34m\u001b[0m\u001b[0m\n\u001b[0m\u001b[1;32m   1679\u001b[0m \u001b[0;34m\u001b[0m\u001b[0m\n\u001b[1;32m   1680\u001b[0m \u001b[0;34m\u001b[0m\u001b[0m\n",
            "\u001b[0;31mImportError\u001b[0m: \nTFT5ForConditionalGeneration requires the 🤗 Datasets library but it was not found in your environment. You can install it with:\n```\npip install datasets\n```\nIn a notebook or a colab, you can install it by executing a cell with\n```\n!pip install datasets\n```\nthen restarting your kernel.\n\nNote that if you have a local folder named `datasets` or a local python file named `datasets.py` in your current\nworking directory, python may try to import this instead of the 🤗 Datasets library. You should rename this folder or\nthat python file if that's the case. Please note that you may need to restart your runtime after installation.\n",
            "",
            "\u001b[0;31m---------------------------------------------------------------------------\u001b[0;32m\nNOTE: If your import is failing due to a missing package, you can\nmanually install dependencies using either !pip or !apt.\n\nTo view examples of installing some common dependencies, click the\n\"Open Examples\" button below.\n\u001b[0;31m---------------------------------------------------------------------------\u001b[0m\n"
          ],
          "errorDetails": {
            "actions": [
              {
                "action": "open_url",
                "actionText": "Open Examples",
                "url": "/notebooks/snippets/importing_libraries.ipynb"
              }
            ]
          }
        }
      ],
      "source": [
        "# Adapted from https://github.com/gcosma/COP509/blob/main/Tutorials/Tutorial8Summarization.ipynb\n",
        "\n",
        "batch_size = 1\n",
        "learning_rate = 2e-5\n",
        "weight_decay = 0.01\n",
        "num_train_epochs = 1\n",
        "\n",
        "data_collator = DataCollatorForSeq2Seq(tokenizer, model=model, return_tensors=\"np\")\n",
        "\n",
        "generation_data_collator = DataCollatorForSeq2Seq(tokenizer, model=model, return_tensors=\"np\", pad_to_multiple_of=128)\n",
        "\n",
        "train_dataset = model.prepare_tf_dataset(\n",
        "    train_dataset,\n",
        "    batch_size=batch_size,\n",
        "    shuffle=True,\n",
        "    collate_fn=data_collator,\n",
        ")\n",
        "\n",
        "validation_dataset = model.prepare_tf_dataset(\n",
        "    test_dataset,\n",
        "    batch_size=batch_size,\n",
        "    shuffle=False,\n",
        "    collate_fn=data_collator,\n",
        ")"
      ]
    },
    {
      "cell_type": "code",
      "execution_count": null,
      "metadata": {
        "id": "DwWbdKIZi8JF"
      },
      "outputs": [],
      "source": [
        "# Adapted from https://github.com/gcosma/COP509/blob/main/Tutorials/Tutorial8Summarization.ipynb\n",
        "\n",
        "optimizer = AdamWeightDecay(learning_rate=learning_rate, weight_decay_rate=weight_decay)\n",
        "model.compile(optimizer=optimizer)\n",
        "\n",
        "# Define the metric function\n",
        "rouge = evaluate.load('rouge')\n",
        "\n",
        "def metric_fn(eval_pred):\n",
        "    predictions, labels = eval_pred\n",
        "    decoded_preds = tokenizer.batch_decode(predictions, skip_special_tokens=True)\n",
        "    decoded_labels = tokenizer.batch_decode(labels, skip_special_tokens=True)\n",
        "    return rouge.compute(predictions=decoded_preds, references=decoded_labels)\n",
        "\n",
        "# Set up metric callback\n",
        "metric_callback = KerasMetricCallback(\n",
        "    metric_fn=metric_fn,\n",
        "    eval_dataset=validation_dataset,\n",
        "    predict_with_generate=True,\n",
        "    use_xla_generation=True\n",
        ")\n",
        "\n",
        "# Train the model with just the metric callback\n",
        "model.fit(\n",
        "    train_dataset,\n",
        "    validation_data=validation_dataset,\n",
        "    epochs=1,\n",
        "    callbacks=[metric_callback]\n",
        ")"
      ]
    },
    {
      "cell_type": "code",
      "execution_count": null,
      "metadata": {
        "id": "TjzvHdQEkEAk"
      },
      "outputs": [],
      "source": [
        "# Adapted from https://github.com/gcosma/COP509/blob/main/Tutorials/Tutorial8Summarization.ipynb\n",
        "\n",
        "# Generate summaries\n",
        "abs_sums = []\n",
        "for i, docs in enumerate(cluster_text_list):\n",
        "  documents = ['summarize' + document for document in docs]\n",
        "\n",
        "  tokenized = tokenizer(' '.join(documents), return_tensors='np')\n",
        "  out = model.generate(**tokenized, max_length=128)\n",
        "\n",
        "  with tokenizer.as_target_tokenizer():\n",
        "    abs_sums.append(tokenizer.decode(out[0]))\n",
        "    print(f'Summary {i}: {tokenizer.decode(out[0])}')\n",
        "\n",
        "# Evaluate\n",
        "a_rouge1, a_rouge2, a_rougeL, a_meteor, a_bleu = evaluate_summarisation(abs_sums, abstractive_ref_summaries)\n",
        "a_rouge1_pruned, a_rouge2_pruned, a_rougeL_pruned, a_meteor_pruned, a_bleu_pruned = evaluate_summarisation(abs_sums, abstractive_ref_summaries[1:2])"
      ]
    },
    {
      "cell_type": "code",
      "execution_count": null,
      "metadata": {
        "id": "UMSM1wGR8viO"
      },
      "outputs": [],
      "source": [
        "plot_eval_graph({'Extractive': (e_rouge1, e_rouge2, e_rougeL, e_meteor, e_bleu),\n",
        "                  'Abstractive': (a_rouge1, a_rouge2, a_rougeL, a_meteor, a_bleu),\n",
        "                   'Abstractive_pruned': (a_rouge1_pruned, a_rouge2_pruned, a_rougeL_pruned, a_meteor_pruned, a_bleu_pruned)})"
      ]
    },
    {
      "cell_type": "markdown",
      "metadata": {
        "id": "rbtQMFjTA91b"
      },
      "source": [
        "### Summarisation comments\n",
        "The extractive summarisation techniques were significantly better. The abstractive model was not trained on enough data. Some of the summaries were repetitions of 'ring', so the model was not trained enough to generalise well. Only two of the abstracted summaries were readable, so I plotted the scores for just those in an `abstractive_pruned` set. The scores only barely increased, and were in some cases worse (ROUGE-2, METEOR)"
      ]
    },
    {
      "cell_type": "markdown",
      "metadata": {
        "id": "WqEI9efqKEJm"
      },
      "source": [
        "## PyTerrier attempt at NIR"
      ]
    },
    {
      "cell_type": "code",
      "execution_count": null,
      "metadata": {
        "id": "Wi45jtm8_Zok"
      },
      "outputs": [],
      "source": [
        "# !pip install transformers\n",
        "# !pip install torch\n",
        "# !pip install python-terrier\n",
        "# !pip install git+https://github.com/terrierteam/pyterrier_colbert.git\n",
        "\n",
        "# import pyterrier as pt\n",
        "# if not pt.started():\n",
        "#     pt.init()\n",
        "\n",
        "# import os\n",
        "# from transformers import AutoTokenizer, AutoModel\n",
        "\n",
        "# from pyterrier_colbert.indexing import ColBERTIndexer\n",
        "# from pyterrier_colbert.ranking import ColBERTFactory\n",
        "# from collections import Counter"
      ]
    },
    {
      "cell_type": "code",
      "execution_count": null,
      "metadata": {
        "id": "r3RrV9l4Qgrj"
      },
      "outputs": [],
      "source": [
        "# checkpoint=\"http://www.dcs.gla.ac.uk/~craigm/colbert.dnn.zip\"\n",
        "\n",
        "# def prepare_dataset(ids, clean_text, query_list, query_relevant):\n",
        "#   queries=pt.new.queries(query_list, range(1, len(query_list)+1))\n",
        "\n",
        "#   docs=[]\n",
        "#   for idx in range(0,len(clean_text)):\n",
        "#     if len(clean_text[idx]) >1:\n",
        "#       docs.append({'docno': ids[idx], 'text': ' '.join(clean_text[idx])})\n",
        "#   docs = pd.DataFrame(docs)\n",
        "\n",
        "#   qrels = []\n",
        "#   for idx, doc_ids in query_relevant.items():\n",
        "#     for doc_id in doc_ids:\n",
        "#       if not pd.isna(doc_id):\n",
        "#         qrels.append({'qid':idx[-1], 'docno':str(int(doc_id)), 'label':1})\n",
        "#   qrels = pd.DataFrame(qrels)\n",
        "\n",
        "#   return docs, queries, qrels\n",
        "\n",
        "# docs, queries, qrels = prepare_dataset(ids, clean_text, query_list, query_relevant)\n",
        "\n",
        "# # !rm -rf ./pd_index\n",
        "# # pd_indexer = pt.IterDictIndexer(\"./pd_index\")\n",
        "# # indexref1 = pd_indexer.index(docs.to_dict(orient=\"records\"))"
      ]
    },
    {
      "cell_type": "code",
      "execution_count": null,
      "metadata": {
        "id": "qF3kxFCBQ5vp"
      },
      "outputs": [],
      "source": [
        "# !rm -rf ./pretokindex\n",
        "# iter_indexer = pt.IterDictIndexer(\"./pretokindex\", threads=1, pretokenised=True)\n",
        "# tok = AutoTokenizer.from_pretrained(\"bert-base-uncased\")\n",
        "# token_row_apply = pt.apply.toks(lambda row: Counter(tok.tokenize(row['text'])))\n",
        "# index_pipe = token_row_apply >> iter_indexer\n",
        "# indexref2 = index_pipe.index(docs.to_dict(orient=\"records\"))"
      ]
    },
    {
      "cell_type": "code",
      "execution_count": null,
      "metadata": {
        "id": "HrvCIbPOVGVA"
      },
      "outputs": [],
      "source": [
        "# !rm -rf ./colbert_index\n",
        "# colbert_indexer = ColBERTIndexer(\n",
        "#     checkpoint=\"http://www.dcs.gla.ac.uk/~craigm/colbert.dnn.zip\",\n",
        "#     index_root=\"./colbert_index\",\n",
        "#     index_name=\"colbert_index\",\n",
        "#     chunksize=100,\n",
        "#     gpu=True\n",
        "# )\n",
        "\n",
        "# index = colbert_indexer.index(docs.to_dict(orient=\"records\"))"
      ]
    },
    {
      "cell_type": "code",
      "execution_count": null,
      "metadata": {
        "id": "6JqKwZ_Muj7t"
      },
      "outputs": [],
      "source": [
        "# import pyterrier_colbert.ranking\n",
        "# colbert_factory = pyterrier_colbert.ranking.ColBERTFactory(\n",
        "#     \"http://www.dcs.gla.ac.uk/~craigm/colbert.dnn.zip\", None, None)\n",
        "# colbert = colbert_factory.text_scorer(doc_attr='abstract')"
      ]
    },
    {
      "cell_type": "code",
      "execution_count": null,
      "metadata": {
        "id": "0Vk13zRKaeuI"
      },
      "outputs": [],
      "source": [
        "# pipeline = pt.terrier.Retriever(index, wmodel='BM25') >> colbert\n",
        "# pt.Experiment(\n",
        "#     [pipeline],\n",
        "#     topics,\n",
        "#     qrels,\n",
        "#     names=['DPH >> ColBERT'],\n",
        "#     eval_metrics=[\"map\", \"ndcg\", 'ndcg_cut.10', 'P.10', 'mrt']\n",
        "# )"
      ]
    },
    {
      "cell_type": "code",
      "execution_count": null,
      "metadata": {
        "id": "WyFajtLuXv5A"
      },
      "outputs": [],
      "source": [
        "# eval_metrics = ['map', 'ndcg_cut_10', 'P_10', 'recall_1000']\n",
        "# eval = pt.Experiment([pipeline],\n",
        "#                       queries,\n",
        "#                       qrels,\n",
        "#                       eval_metrics,\n",
        "#                       names=['ColBERT'])"
      ]
    },
    {
      "cell_type": "code",
      "execution_count": null,
      "metadata": {
        "id": "hLi5xBIPb7y6"
      },
      "outputs": [],
      "source": [
        "!pip install nbconvert &> /dev/null\n",
        "!apt-get install pandoc &> /dev/null\n",
        "!apt-get install texlive-xetex texlive-fonts-recommended texlive-plain-generic &> /dev/null"
      ]
    },
    {
      "cell_type": "code",
      "execution_count": null,
      "metadata": {
        "id": "QCbDcRBDb9--"
      },
      "outputs": [],
      "source": [
        "!jupyter nbconvert '/content/drive/MyDrive/Colab Notebooks/COP509cw/PartA.ipynb' --to PDF"
      ]
    }
  ],
  "metadata": {
    "accelerator": "GPU",
    "colab": {
      "collapsed_sections": [
        "WqEI9efqKEJm"
      ],
      "gpuType": "T4",
      "provenance": [],
      "authorship_tag": "ABX9TyNrqOQOGGlKS1yKhdvGDdSv",
      "include_colab_link": true
    },
    "kernelspec": {
      "display_name": "Python 3",
      "name": "python3"
    },
    "language_info": {
      "name": "python"
    },
    "widgets": {
      "application/vnd.jupyter.widget-state+json": {
        "29778c7a955d4e0f87a738380eae27bd": {
          "model_module": "@jupyter-widgets/controls",
          "model_name": "HBoxModel",
          "model_module_version": "1.5.0",
          "state": {
            "_dom_classes": [],
            "_model_module": "@jupyter-widgets/controls",
            "_model_module_version": "1.5.0",
            "_model_name": "HBoxModel",
            "_view_count": null,
            "_view_module": "@jupyter-widgets/controls",
            "_view_module_version": "1.5.0",
            "_view_name": "HBoxView",
            "box_style": "",
            "children": [
              "IPY_MODEL_819daff403ba4d318b15d878cd25621d",
              "IPY_MODEL_ea8e95a19c554256ae0ce58401fd8460",
              "IPY_MODEL_a36b766a82864e878c11f23d10b22f3a"
            ],
            "layout": "IPY_MODEL_eceec5303f9a43818478b4de88c0119e"
          }
        },
        "819daff403ba4d318b15d878cd25621d": {
          "model_module": "@jupyter-widgets/controls",
          "model_name": "HTMLModel",
          "model_module_version": "1.5.0",
          "state": {
            "_dom_classes": [],
            "_model_module": "@jupyter-widgets/controls",
            "_model_module_version": "1.5.0",
            "_model_name": "HTMLModel",
            "_view_count": null,
            "_view_module": "@jupyter-widgets/controls",
            "_view_module_version": "1.5.0",
            "_view_name": "HTMLView",
            "description": "",
            "description_tooltip": null,
            "layout": "IPY_MODEL_edbf999f719b4eb79dbdf2a9891f7c47",
            "placeholder": "​",
            "style": "IPY_MODEL_f5c0603257cc42da956bd914bf58ccf8",
            "value": "Map: 100%"
          }
        },
        "ea8e95a19c554256ae0ce58401fd8460": {
          "model_module": "@jupyter-widgets/controls",
          "model_name": "FloatProgressModel",
          "model_module_version": "1.5.0",
          "state": {
            "_dom_classes": [],
            "_model_module": "@jupyter-widgets/controls",
            "_model_module_version": "1.5.0",
            "_model_name": "FloatProgressModel",
            "_view_count": null,
            "_view_module": "@jupyter-widgets/controls",
            "_view_module_version": "1.5.0",
            "_view_name": "ProgressView",
            "bar_style": "success",
            "description": "",
            "description_tooltip": null,
            "layout": "IPY_MODEL_f5f159b3100c423594c2b95cf59a3ca9",
            "max": 4,
            "min": 0,
            "orientation": "horizontal",
            "style": "IPY_MODEL_83b75d0ca5064913a7a921b2f100e896",
            "value": 4
          }
        },
        "a36b766a82864e878c11f23d10b22f3a": {
          "model_module": "@jupyter-widgets/controls",
          "model_name": "HTMLModel",
          "model_module_version": "1.5.0",
          "state": {
            "_dom_classes": [],
            "_model_module": "@jupyter-widgets/controls",
            "_model_module_version": "1.5.0",
            "_model_name": "HTMLModel",
            "_view_count": null,
            "_view_module": "@jupyter-widgets/controls",
            "_view_module_version": "1.5.0",
            "_view_name": "HTMLView",
            "description": "",
            "description_tooltip": null,
            "layout": "IPY_MODEL_36b8485778ec4e678396617a36373288",
            "placeholder": "​",
            "style": "IPY_MODEL_d55ae79f199c48b689b73210ffba5eb7",
            "value": " 4/4 [00:00&lt;00:00, 42.41 examples/s]"
          }
        },
        "eceec5303f9a43818478b4de88c0119e": {
          "model_module": "@jupyter-widgets/base",
          "model_name": "LayoutModel",
          "model_module_version": "1.2.0",
          "state": {
            "_model_module": "@jupyter-widgets/base",
            "_model_module_version": "1.2.0",
            "_model_name": "LayoutModel",
            "_view_count": null,
            "_view_module": "@jupyter-widgets/base",
            "_view_module_version": "1.2.0",
            "_view_name": "LayoutView",
            "align_content": null,
            "align_items": null,
            "align_self": null,
            "border": null,
            "bottom": null,
            "display": null,
            "flex": null,
            "flex_flow": null,
            "grid_area": null,
            "grid_auto_columns": null,
            "grid_auto_flow": null,
            "grid_auto_rows": null,
            "grid_column": null,
            "grid_gap": null,
            "grid_row": null,
            "grid_template_areas": null,
            "grid_template_columns": null,
            "grid_template_rows": null,
            "height": null,
            "justify_content": null,
            "justify_items": null,
            "left": null,
            "margin": null,
            "max_height": null,
            "max_width": null,
            "min_height": null,
            "min_width": null,
            "object_fit": null,
            "object_position": null,
            "order": null,
            "overflow": null,
            "overflow_x": null,
            "overflow_y": null,
            "padding": null,
            "right": null,
            "top": null,
            "visibility": null,
            "width": null
          }
        },
        "edbf999f719b4eb79dbdf2a9891f7c47": {
          "model_module": "@jupyter-widgets/base",
          "model_name": "LayoutModel",
          "model_module_version": "1.2.0",
          "state": {
            "_model_module": "@jupyter-widgets/base",
            "_model_module_version": "1.2.0",
            "_model_name": "LayoutModel",
            "_view_count": null,
            "_view_module": "@jupyter-widgets/base",
            "_view_module_version": "1.2.0",
            "_view_name": "LayoutView",
            "align_content": null,
            "align_items": null,
            "align_self": null,
            "border": null,
            "bottom": null,
            "display": null,
            "flex": null,
            "flex_flow": null,
            "grid_area": null,
            "grid_auto_columns": null,
            "grid_auto_flow": null,
            "grid_auto_rows": null,
            "grid_column": null,
            "grid_gap": null,
            "grid_row": null,
            "grid_template_areas": null,
            "grid_template_columns": null,
            "grid_template_rows": null,
            "height": null,
            "justify_content": null,
            "justify_items": null,
            "left": null,
            "margin": null,
            "max_height": null,
            "max_width": null,
            "min_height": null,
            "min_width": null,
            "object_fit": null,
            "object_position": null,
            "order": null,
            "overflow": null,
            "overflow_x": null,
            "overflow_y": null,
            "padding": null,
            "right": null,
            "top": null,
            "visibility": null,
            "width": null
          }
        },
        "f5c0603257cc42da956bd914bf58ccf8": {
          "model_module": "@jupyter-widgets/controls",
          "model_name": "DescriptionStyleModel",
          "model_module_version": "1.5.0",
          "state": {
            "_model_module": "@jupyter-widgets/controls",
            "_model_module_version": "1.5.0",
            "_model_name": "DescriptionStyleModel",
            "_view_count": null,
            "_view_module": "@jupyter-widgets/base",
            "_view_module_version": "1.2.0",
            "_view_name": "StyleView",
            "description_width": ""
          }
        },
        "f5f159b3100c423594c2b95cf59a3ca9": {
          "model_module": "@jupyter-widgets/base",
          "model_name": "LayoutModel",
          "model_module_version": "1.2.0",
          "state": {
            "_model_module": "@jupyter-widgets/base",
            "_model_module_version": "1.2.0",
            "_model_name": "LayoutModel",
            "_view_count": null,
            "_view_module": "@jupyter-widgets/base",
            "_view_module_version": "1.2.0",
            "_view_name": "LayoutView",
            "align_content": null,
            "align_items": null,
            "align_self": null,
            "border": null,
            "bottom": null,
            "display": null,
            "flex": null,
            "flex_flow": null,
            "grid_area": null,
            "grid_auto_columns": null,
            "grid_auto_flow": null,
            "grid_auto_rows": null,
            "grid_column": null,
            "grid_gap": null,
            "grid_row": null,
            "grid_template_areas": null,
            "grid_template_columns": null,
            "grid_template_rows": null,
            "height": null,
            "justify_content": null,
            "justify_items": null,
            "left": null,
            "margin": null,
            "max_height": null,
            "max_width": null,
            "min_height": null,
            "min_width": null,
            "object_fit": null,
            "object_position": null,
            "order": null,
            "overflow": null,
            "overflow_x": null,
            "overflow_y": null,
            "padding": null,
            "right": null,
            "top": null,
            "visibility": null,
            "width": null
          }
        },
        "83b75d0ca5064913a7a921b2f100e896": {
          "model_module": "@jupyter-widgets/controls",
          "model_name": "ProgressStyleModel",
          "model_module_version": "1.5.0",
          "state": {
            "_model_module": "@jupyter-widgets/controls",
            "_model_module_version": "1.5.0",
            "_model_name": "ProgressStyleModel",
            "_view_count": null,
            "_view_module": "@jupyter-widgets/base",
            "_view_module_version": "1.2.0",
            "_view_name": "StyleView",
            "bar_color": null,
            "description_width": ""
          }
        },
        "36b8485778ec4e678396617a36373288": {
          "model_module": "@jupyter-widgets/base",
          "model_name": "LayoutModel",
          "model_module_version": "1.2.0",
          "state": {
            "_model_module": "@jupyter-widgets/base",
            "_model_module_version": "1.2.0",
            "_model_name": "LayoutModel",
            "_view_count": null,
            "_view_module": "@jupyter-widgets/base",
            "_view_module_version": "1.2.0",
            "_view_name": "LayoutView",
            "align_content": null,
            "align_items": null,
            "align_self": null,
            "border": null,
            "bottom": null,
            "display": null,
            "flex": null,
            "flex_flow": null,
            "grid_area": null,
            "grid_auto_columns": null,
            "grid_auto_flow": null,
            "grid_auto_rows": null,
            "grid_column": null,
            "grid_gap": null,
            "grid_row": null,
            "grid_template_areas": null,
            "grid_template_columns": null,
            "grid_template_rows": null,
            "height": null,
            "justify_content": null,
            "justify_items": null,
            "left": null,
            "margin": null,
            "max_height": null,
            "max_width": null,
            "min_height": null,
            "min_width": null,
            "object_fit": null,
            "object_position": null,
            "order": null,
            "overflow": null,
            "overflow_x": null,
            "overflow_y": null,
            "padding": null,
            "right": null,
            "top": null,
            "visibility": null,
            "width": null
          }
        },
        "d55ae79f199c48b689b73210ffba5eb7": {
          "model_module": "@jupyter-widgets/controls",
          "model_name": "DescriptionStyleModel",
          "model_module_version": "1.5.0",
          "state": {
            "_model_module": "@jupyter-widgets/controls",
            "_model_module_version": "1.5.0",
            "_model_name": "DescriptionStyleModel",
            "_view_count": null,
            "_view_module": "@jupyter-widgets/base",
            "_view_module_version": "1.2.0",
            "_view_name": "StyleView",
            "description_width": ""
          }
        },
        "d7b6703556614cc6891a63774e79a337": {
          "model_module": "@jupyter-widgets/controls",
          "model_name": "HBoxModel",
          "model_module_version": "1.5.0",
          "state": {
            "_dom_classes": [],
            "_model_module": "@jupyter-widgets/controls",
            "_model_module_version": "1.5.0",
            "_model_name": "HBoxModel",
            "_view_count": null,
            "_view_module": "@jupyter-widgets/controls",
            "_view_module_version": "1.5.0",
            "_view_name": "HBoxView",
            "box_style": "",
            "children": [
              "IPY_MODEL_a7e43cb7c730407fa4f71bd65e143409",
              "IPY_MODEL_30961cf903dc4d46ab4958d4112e339a",
              "IPY_MODEL_562790ecf72342549bceb57dbb166bc8"
            ],
            "layout": "IPY_MODEL_9e42ab8947be45b0aa4539068dab034e"
          }
        },
        "a7e43cb7c730407fa4f71bd65e143409": {
          "model_module": "@jupyter-widgets/controls",
          "model_name": "HTMLModel",
          "model_module_version": "1.5.0",
          "state": {
            "_dom_classes": [],
            "_model_module": "@jupyter-widgets/controls",
            "_model_module_version": "1.5.0",
            "_model_name": "HTMLModel",
            "_view_count": null,
            "_view_module": "@jupyter-widgets/controls",
            "_view_module_version": "1.5.0",
            "_view_name": "HTMLView",
            "description": "",
            "description_tooltip": null,
            "layout": "IPY_MODEL_dbed920823d84b228d2d75fc47035812",
            "placeholder": "​",
            "style": "IPY_MODEL_3bd39c18a2d743dabf881227b25d716e",
            "value": "Map: 100%"
          }
        },
        "30961cf903dc4d46ab4958d4112e339a": {
          "model_module": "@jupyter-widgets/controls",
          "model_name": "FloatProgressModel",
          "model_module_version": "1.5.0",
          "state": {
            "_dom_classes": [],
            "_model_module": "@jupyter-widgets/controls",
            "_model_module_version": "1.5.0",
            "_model_name": "FloatProgressModel",
            "_view_count": null,
            "_view_module": "@jupyter-widgets/controls",
            "_view_module_version": "1.5.0",
            "_view_name": "ProgressView",
            "bar_style": "success",
            "description": "",
            "description_tooltip": null,
            "layout": "IPY_MODEL_105a952753dd43c1a34f2df4380b7932",
            "max": 1,
            "min": 0,
            "orientation": "horizontal",
            "style": "IPY_MODEL_fbb96f2bdd614f22b53b5c17487f3891",
            "value": 1
          }
        },
        "562790ecf72342549bceb57dbb166bc8": {
          "model_module": "@jupyter-widgets/controls",
          "model_name": "HTMLModel",
          "model_module_version": "1.5.0",
          "state": {
            "_dom_classes": [],
            "_model_module": "@jupyter-widgets/controls",
            "_model_module_version": "1.5.0",
            "_model_name": "HTMLModel",
            "_view_count": null,
            "_view_module": "@jupyter-widgets/controls",
            "_view_module_version": "1.5.0",
            "_view_name": "HTMLView",
            "description": "",
            "description_tooltip": null,
            "layout": "IPY_MODEL_1c37c6c9dab44f10acc0747ab7432268",
            "placeholder": "​",
            "style": "IPY_MODEL_d487de529a9f4aefb39d117aac0985da",
            "value": " 1/1 [00:00&lt;00:00, 15.93 examples/s]"
          }
        },
        "9e42ab8947be45b0aa4539068dab034e": {
          "model_module": "@jupyter-widgets/base",
          "model_name": "LayoutModel",
          "model_module_version": "1.2.0",
          "state": {
            "_model_module": "@jupyter-widgets/base",
            "_model_module_version": "1.2.0",
            "_model_name": "LayoutModel",
            "_view_count": null,
            "_view_module": "@jupyter-widgets/base",
            "_view_module_version": "1.2.0",
            "_view_name": "LayoutView",
            "align_content": null,
            "align_items": null,
            "align_self": null,
            "border": null,
            "bottom": null,
            "display": null,
            "flex": null,
            "flex_flow": null,
            "grid_area": null,
            "grid_auto_columns": null,
            "grid_auto_flow": null,
            "grid_auto_rows": null,
            "grid_column": null,
            "grid_gap": null,
            "grid_row": null,
            "grid_template_areas": null,
            "grid_template_columns": null,
            "grid_template_rows": null,
            "height": null,
            "justify_content": null,
            "justify_items": null,
            "left": null,
            "margin": null,
            "max_height": null,
            "max_width": null,
            "min_height": null,
            "min_width": null,
            "object_fit": null,
            "object_position": null,
            "order": null,
            "overflow": null,
            "overflow_x": null,
            "overflow_y": null,
            "padding": null,
            "right": null,
            "top": null,
            "visibility": null,
            "width": null
          }
        },
        "dbed920823d84b228d2d75fc47035812": {
          "model_module": "@jupyter-widgets/base",
          "model_name": "LayoutModel",
          "model_module_version": "1.2.0",
          "state": {
            "_model_module": "@jupyter-widgets/base",
            "_model_module_version": "1.2.0",
            "_model_name": "LayoutModel",
            "_view_count": null,
            "_view_module": "@jupyter-widgets/base",
            "_view_module_version": "1.2.0",
            "_view_name": "LayoutView",
            "align_content": null,
            "align_items": null,
            "align_self": null,
            "border": null,
            "bottom": null,
            "display": null,
            "flex": null,
            "flex_flow": null,
            "grid_area": null,
            "grid_auto_columns": null,
            "grid_auto_flow": null,
            "grid_auto_rows": null,
            "grid_column": null,
            "grid_gap": null,
            "grid_row": null,
            "grid_template_areas": null,
            "grid_template_columns": null,
            "grid_template_rows": null,
            "height": null,
            "justify_content": null,
            "justify_items": null,
            "left": null,
            "margin": null,
            "max_height": null,
            "max_width": null,
            "min_height": null,
            "min_width": null,
            "object_fit": null,
            "object_position": null,
            "order": null,
            "overflow": null,
            "overflow_x": null,
            "overflow_y": null,
            "padding": null,
            "right": null,
            "top": null,
            "visibility": null,
            "width": null
          }
        },
        "3bd39c18a2d743dabf881227b25d716e": {
          "model_module": "@jupyter-widgets/controls",
          "model_name": "DescriptionStyleModel",
          "model_module_version": "1.5.0",
          "state": {
            "_model_module": "@jupyter-widgets/controls",
            "_model_module_version": "1.5.0",
            "_model_name": "DescriptionStyleModel",
            "_view_count": null,
            "_view_module": "@jupyter-widgets/base",
            "_view_module_version": "1.2.0",
            "_view_name": "StyleView",
            "description_width": ""
          }
        },
        "105a952753dd43c1a34f2df4380b7932": {
          "model_module": "@jupyter-widgets/base",
          "model_name": "LayoutModel",
          "model_module_version": "1.2.0",
          "state": {
            "_model_module": "@jupyter-widgets/base",
            "_model_module_version": "1.2.0",
            "_model_name": "LayoutModel",
            "_view_count": null,
            "_view_module": "@jupyter-widgets/base",
            "_view_module_version": "1.2.0",
            "_view_name": "LayoutView",
            "align_content": null,
            "align_items": null,
            "align_self": null,
            "border": null,
            "bottom": null,
            "display": null,
            "flex": null,
            "flex_flow": null,
            "grid_area": null,
            "grid_auto_columns": null,
            "grid_auto_flow": null,
            "grid_auto_rows": null,
            "grid_column": null,
            "grid_gap": null,
            "grid_row": null,
            "grid_template_areas": null,
            "grid_template_columns": null,
            "grid_template_rows": null,
            "height": null,
            "justify_content": null,
            "justify_items": null,
            "left": null,
            "margin": null,
            "max_height": null,
            "max_width": null,
            "min_height": null,
            "min_width": null,
            "object_fit": null,
            "object_position": null,
            "order": null,
            "overflow": null,
            "overflow_x": null,
            "overflow_y": null,
            "padding": null,
            "right": null,
            "top": null,
            "visibility": null,
            "width": null
          }
        },
        "fbb96f2bdd614f22b53b5c17487f3891": {
          "model_module": "@jupyter-widgets/controls",
          "model_name": "ProgressStyleModel",
          "model_module_version": "1.5.0",
          "state": {
            "_model_module": "@jupyter-widgets/controls",
            "_model_module_version": "1.5.0",
            "_model_name": "ProgressStyleModel",
            "_view_count": null,
            "_view_module": "@jupyter-widgets/base",
            "_view_module_version": "1.2.0",
            "_view_name": "StyleView",
            "bar_color": null,
            "description_width": ""
          }
        },
        "1c37c6c9dab44f10acc0747ab7432268": {
          "model_module": "@jupyter-widgets/base",
          "model_name": "LayoutModel",
          "model_module_version": "1.2.0",
          "state": {
            "_model_module": "@jupyter-widgets/base",
            "_model_module_version": "1.2.0",
            "_model_name": "LayoutModel",
            "_view_count": null,
            "_view_module": "@jupyter-widgets/base",
            "_view_module_version": "1.2.0",
            "_view_name": "LayoutView",
            "align_content": null,
            "align_items": null,
            "align_self": null,
            "border": null,
            "bottom": null,
            "display": null,
            "flex": null,
            "flex_flow": null,
            "grid_area": null,
            "grid_auto_columns": null,
            "grid_auto_flow": null,
            "grid_auto_rows": null,
            "grid_column": null,
            "grid_gap": null,
            "grid_row": null,
            "grid_template_areas": null,
            "grid_template_columns": null,
            "grid_template_rows": null,
            "height": null,
            "justify_content": null,
            "justify_items": null,
            "left": null,
            "margin": null,
            "max_height": null,
            "max_width": null,
            "min_height": null,
            "min_width": null,
            "object_fit": null,
            "object_position": null,
            "order": null,
            "overflow": null,
            "overflow_x": null,
            "overflow_y": null,
            "padding": null,
            "right": null,
            "top": null,
            "visibility": null,
            "width": null
          }
        },
        "d487de529a9f4aefb39d117aac0985da": {
          "model_module": "@jupyter-widgets/controls",
          "model_name": "DescriptionStyleModel",
          "model_module_version": "1.5.0",
          "state": {
            "_model_module": "@jupyter-widgets/controls",
            "_model_module_version": "1.5.0",
            "_model_name": "DescriptionStyleModel",
            "_view_count": null,
            "_view_module": "@jupyter-widgets/base",
            "_view_module_version": "1.2.0",
            "_view_name": "StyleView",
            "description_width": ""
          }
        }
      }
    }
  },
  "nbformat": 4,
  "nbformat_minor": 0
}